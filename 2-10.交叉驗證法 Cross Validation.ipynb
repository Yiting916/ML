{
  "cells": [
    {
      "cell_type": "markdown",
      "metadata": {
        "id": "view-in-github",
        "colab_type": "text"
      },
      "source": [
        "<a href=\"https://colab.research.google.com/github/Yiting916/ML/blob/main/2-10.%E4%BA%A4%E5%8F%89%E9%A9%97%E8%AD%89%E6%B3%95%20Cross%20Validation.ipynb\" target=\"_parent\"><img src=\"https://colab.research.google.com/assets/colab-badge.svg\" alt=\"Open In Colab\"/></a>"
      ]
    },
    {
      "cell_type": "markdown",
      "id": "3ef01b9d-66cd-4f25-82cf-4ba6a3d3f181",
      "metadata": {
        "id": "3ef01b9d-66cd-4f25-82cf-4ba6a3d3f181"
      },
      "source": [
        "# 交叉驗證法 (Cross Validation)\n",
        "\n",
        "交叉驗證法（Cross Validation）是一種常用的模型評估技術，主要用來衡量機器學習模型在未知資料上的預測能力。它可以有效減少因資料集劃分方式不同而帶來的過擬合問題，從而提供更穩定且可靠的模型性能評估。\n",
        "\n",
        "## 交叉驗證的基本流程：\n",
        "1. **將資料集分成 K 個子集（K-fold）**：常見的是 K=5 或 K=10，這樣將資料集分成 K 等份。\n",
        "2. **訓練與測試**：每次將其中一個子集用作測試資料，其餘 K-1 個子集用作訓練資料。這樣就能夠訓練出 K 個模型，每個模型都在不同的測試資料上進行測試。\n",
        "3. **計算評估指標**：在每次測試後，計算相應的評估指標（如準確率、F1 分數等），最終將 K 次的評估結果進行平均，得出模型的總體表現。\n",
        "\n",
        "## 交叉驗證的優點：\n",
        "- **減少過擬合的風險**：由於模型會在多個不同的資料子集上進行訓練和測試，能夠更好地評估模型的泛化能力。\n",
        "- **充分利用資料**：每個資料點都會在測試集和訓練集中出現，有助於提高模型的學習效果。\n",
        "- **結果更穩定**：相比單一的訓練/測試集劃分，交叉驗證能提供更加穩定的評估結果。\n",
        "\n",
        "## 常見的交叉驗證方法：\n",
        "1. **K-fold 交叉驗證**：將資料集隨機劃分為 K 等份，每次用其中一份作為測試集，其他作為訓練集，重複 K 次。\n",
        "2. **Leave-one-out Cross Validation (LOOCV)**：這是 K-fold 交叉驗證的一個極端情況，將資料集的每個樣本都當作一次測試集，其他樣本作為訓練集，適用於資料集較小的情況。\n",
        "3. **Stratified K-fold 交叉驗證**：這是對 K-fold 交叉驗證的改進，確保每個子集的資料分佈與原資料集的分佈相似，特別在處理類別不平衡的問題時效果更好。\n",
        "\n",
        "## 總結：\n",
        "交叉驗證是機器學習中一個非常重要且實用的技術，能夠有效提高模型的可靠性和穩定性。\n"
      ]
    },
    {
      "cell_type": "code",
      "source": [
        "from google.colab import drive\n",
        "drive.mount('/content/drive')"
      ],
      "metadata": {
        "colab": {
          "base_uri": "https://localhost:8080/"
        },
        "id": "oQ6sHN0vCAUv",
        "outputId": "50c1a8a2-b3ae-4aec-fe86-3ebe7a7f643e"
      },
      "id": "oQ6sHN0vCAUv",
      "execution_count": 1,
      "outputs": [
        {
          "output_type": "stream",
          "name": "stdout",
          "text": [
            "Mounted at /content/drive\n"
          ]
        }
      ]
    },
    {
      "cell_type": "code",
      "execution_count": 2,
      "id": "21032008",
      "metadata": {
        "id": "21032008"
      },
      "outputs": [],
      "source": [
        "import numpy as np\n",
        "import pandas as pd"
      ]
    },
    {
      "cell_type": "code",
      "execution_count": 3,
      "id": "af20faf3",
      "metadata": {
        "colab": {
          "base_uri": "https://localhost:8080/",
          "height": 206
        },
        "id": "af20faf3",
        "outputId": "f85e256a-51a5-4ea8-8391-79cab2b25ebd"
      },
      "outputs": [
        {
          "output_type": "execute_result",
          "data": {
            "text/plain": [
              "   Id  SepalLengthCm  SepalWidthCm  PetalLengthCm  PetalWidthCm      Species\n",
              "0   1            5.1           3.5            1.4           0.2  Iris-setosa\n",
              "1   2            4.9           3.0            1.4           0.2  Iris-setosa\n",
              "2   3            4.7           3.2            1.3           0.2  Iris-setosa\n",
              "3   4            4.6           3.1            1.5           0.2  Iris-setosa\n",
              "4   5            5.0           3.6            1.4           0.2  Iris-setosa"
            ],
            "text/html": [
              "\n",
              "  <div id=\"df-dd338d74-aed0-40a9-8d5e-558b44908594\" class=\"colab-df-container\">\n",
              "    <div>\n",
              "<style scoped>\n",
              "    .dataframe tbody tr th:only-of-type {\n",
              "        vertical-align: middle;\n",
              "    }\n",
              "\n",
              "    .dataframe tbody tr th {\n",
              "        vertical-align: top;\n",
              "    }\n",
              "\n",
              "    .dataframe thead th {\n",
              "        text-align: right;\n",
              "    }\n",
              "</style>\n",
              "<table border=\"1\" class=\"dataframe\">\n",
              "  <thead>\n",
              "    <tr style=\"text-align: right;\">\n",
              "      <th></th>\n",
              "      <th>Id</th>\n",
              "      <th>SepalLengthCm</th>\n",
              "      <th>SepalWidthCm</th>\n",
              "      <th>PetalLengthCm</th>\n",
              "      <th>PetalWidthCm</th>\n",
              "      <th>Species</th>\n",
              "    </tr>\n",
              "  </thead>\n",
              "  <tbody>\n",
              "    <tr>\n",
              "      <th>0</th>\n",
              "      <td>1</td>\n",
              "      <td>5.1</td>\n",
              "      <td>3.5</td>\n",
              "      <td>1.4</td>\n",
              "      <td>0.2</td>\n",
              "      <td>Iris-setosa</td>\n",
              "    </tr>\n",
              "    <tr>\n",
              "      <th>1</th>\n",
              "      <td>2</td>\n",
              "      <td>4.9</td>\n",
              "      <td>3.0</td>\n",
              "      <td>1.4</td>\n",
              "      <td>0.2</td>\n",
              "      <td>Iris-setosa</td>\n",
              "    </tr>\n",
              "    <tr>\n",
              "      <th>2</th>\n",
              "      <td>3</td>\n",
              "      <td>4.7</td>\n",
              "      <td>3.2</td>\n",
              "      <td>1.3</td>\n",
              "      <td>0.2</td>\n",
              "      <td>Iris-setosa</td>\n",
              "    </tr>\n",
              "    <tr>\n",
              "      <th>3</th>\n",
              "      <td>4</td>\n",
              "      <td>4.6</td>\n",
              "      <td>3.1</td>\n",
              "      <td>1.5</td>\n",
              "      <td>0.2</td>\n",
              "      <td>Iris-setosa</td>\n",
              "    </tr>\n",
              "    <tr>\n",
              "      <th>4</th>\n",
              "      <td>5</td>\n",
              "      <td>5.0</td>\n",
              "      <td>3.6</td>\n",
              "      <td>1.4</td>\n",
              "      <td>0.2</td>\n",
              "      <td>Iris-setosa</td>\n",
              "    </tr>\n",
              "  </tbody>\n",
              "</table>\n",
              "</div>\n",
              "    <div class=\"colab-df-buttons\">\n",
              "\n",
              "  <div class=\"colab-df-container\">\n",
              "    <button class=\"colab-df-convert\" onclick=\"convertToInteractive('df-dd338d74-aed0-40a9-8d5e-558b44908594')\"\n",
              "            title=\"Convert this dataframe to an interactive table.\"\n",
              "            style=\"display:none;\">\n",
              "\n",
              "  <svg xmlns=\"http://www.w3.org/2000/svg\" height=\"24px\" viewBox=\"0 -960 960 960\">\n",
              "    <path d=\"M120-120v-720h720v720H120Zm60-500h600v-160H180v160Zm220 220h160v-160H400v160Zm0 220h160v-160H400v160ZM180-400h160v-160H180v160Zm440 0h160v-160H620v160ZM180-180h160v-160H180v160Zm440 0h160v-160H620v160Z\"/>\n",
              "  </svg>\n",
              "    </button>\n",
              "\n",
              "  <style>\n",
              "    .colab-df-container {\n",
              "      display:flex;\n",
              "      gap: 12px;\n",
              "    }\n",
              "\n",
              "    .colab-df-convert {\n",
              "      background-color: #E8F0FE;\n",
              "      border: none;\n",
              "      border-radius: 50%;\n",
              "      cursor: pointer;\n",
              "      display: none;\n",
              "      fill: #1967D2;\n",
              "      height: 32px;\n",
              "      padding: 0 0 0 0;\n",
              "      width: 32px;\n",
              "    }\n",
              "\n",
              "    .colab-df-convert:hover {\n",
              "      background-color: #E2EBFA;\n",
              "      box-shadow: 0px 1px 2px rgba(60, 64, 67, 0.3), 0px 1px 3px 1px rgba(60, 64, 67, 0.15);\n",
              "      fill: #174EA6;\n",
              "    }\n",
              "\n",
              "    .colab-df-buttons div {\n",
              "      margin-bottom: 4px;\n",
              "    }\n",
              "\n",
              "    [theme=dark] .colab-df-convert {\n",
              "      background-color: #3B4455;\n",
              "      fill: #D2E3FC;\n",
              "    }\n",
              "\n",
              "    [theme=dark] .colab-df-convert:hover {\n",
              "      background-color: #434B5C;\n",
              "      box-shadow: 0px 1px 3px 1px rgba(0, 0, 0, 0.15);\n",
              "      filter: drop-shadow(0px 1px 2px rgba(0, 0, 0, 0.3));\n",
              "      fill: #FFFFFF;\n",
              "    }\n",
              "  </style>\n",
              "\n",
              "    <script>\n",
              "      const buttonEl =\n",
              "        document.querySelector('#df-dd338d74-aed0-40a9-8d5e-558b44908594 button.colab-df-convert');\n",
              "      buttonEl.style.display =\n",
              "        google.colab.kernel.accessAllowed ? 'block' : 'none';\n",
              "\n",
              "      async function convertToInteractive(key) {\n",
              "        const element = document.querySelector('#df-dd338d74-aed0-40a9-8d5e-558b44908594');\n",
              "        const dataTable =\n",
              "          await google.colab.kernel.invokeFunction('convertToInteractive',\n",
              "                                                    [key], {});\n",
              "        if (!dataTable) return;\n",
              "\n",
              "        const docLinkHtml = 'Like what you see? Visit the ' +\n",
              "          '<a target=\"_blank\" href=https://colab.research.google.com/notebooks/data_table.ipynb>data table notebook</a>'\n",
              "          + ' to learn more about interactive tables.';\n",
              "        element.innerHTML = '';\n",
              "        dataTable['output_type'] = 'display_data';\n",
              "        await google.colab.output.renderOutput(dataTable, element);\n",
              "        const docLink = document.createElement('div');\n",
              "        docLink.innerHTML = docLinkHtml;\n",
              "        element.appendChild(docLink);\n",
              "      }\n",
              "    </script>\n",
              "  </div>\n",
              "\n",
              "\n",
              "<div id=\"df-76d8cb11-7e6f-40de-baef-863e7a4c28dc\">\n",
              "  <button class=\"colab-df-quickchart\" onclick=\"quickchart('df-76d8cb11-7e6f-40de-baef-863e7a4c28dc')\"\n",
              "            title=\"Suggest charts\"\n",
              "            style=\"display:none;\">\n",
              "\n",
              "<svg xmlns=\"http://www.w3.org/2000/svg\" height=\"24px\"viewBox=\"0 0 24 24\"\n",
              "     width=\"24px\">\n",
              "    <g>\n",
              "        <path d=\"M19 3H5c-1.1 0-2 .9-2 2v14c0 1.1.9 2 2 2h14c1.1 0 2-.9 2-2V5c0-1.1-.9-2-2-2zM9 17H7v-7h2v7zm4 0h-2V7h2v10zm4 0h-2v-4h2v4z\"/>\n",
              "    </g>\n",
              "</svg>\n",
              "  </button>\n",
              "\n",
              "<style>\n",
              "  .colab-df-quickchart {\n",
              "      --bg-color: #E8F0FE;\n",
              "      --fill-color: #1967D2;\n",
              "      --hover-bg-color: #E2EBFA;\n",
              "      --hover-fill-color: #174EA6;\n",
              "      --disabled-fill-color: #AAA;\n",
              "      --disabled-bg-color: #DDD;\n",
              "  }\n",
              "\n",
              "  [theme=dark] .colab-df-quickchart {\n",
              "      --bg-color: #3B4455;\n",
              "      --fill-color: #D2E3FC;\n",
              "      --hover-bg-color: #434B5C;\n",
              "      --hover-fill-color: #FFFFFF;\n",
              "      --disabled-bg-color: #3B4455;\n",
              "      --disabled-fill-color: #666;\n",
              "  }\n",
              "\n",
              "  .colab-df-quickchart {\n",
              "    background-color: var(--bg-color);\n",
              "    border: none;\n",
              "    border-radius: 50%;\n",
              "    cursor: pointer;\n",
              "    display: none;\n",
              "    fill: var(--fill-color);\n",
              "    height: 32px;\n",
              "    padding: 0;\n",
              "    width: 32px;\n",
              "  }\n",
              "\n",
              "  .colab-df-quickchart:hover {\n",
              "    background-color: var(--hover-bg-color);\n",
              "    box-shadow: 0 1px 2px rgba(60, 64, 67, 0.3), 0 1px 3px 1px rgba(60, 64, 67, 0.15);\n",
              "    fill: var(--button-hover-fill-color);\n",
              "  }\n",
              "\n",
              "  .colab-df-quickchart-complete:disabled,\n",
              "  .colab-df-quickchart-complete:disabled:hover {\n",
              "    background-color: var(--disabled-bg-color);\n",
              "    fill: var(--disabled-fill-color);\n",
              "    box-shadow: none;\n",
              "  }\n",
              "\n",
              "  .colab-df-spinner {\n",
              "    border: 2px solid var(--fill-color);\n",
              "    border-color: transparent;\n",
              "    border-bottom-color: var(--fill-color);\n",
              "    animation:\n",
              "      spin 1s steps(1) infinite;\n",
              "  }\n",
              "\n",
              "  @keyframes spin {\n",
              "    0% {\n",
              "      border-color: transparent;\n",
              "      border-bottom-color: var(--fill-color);\n",
              "      border-left-color: var(--fill-color);\n",
              "    }\n",
              "    20% {\n",
              "      border-color: transparent;\n",
              "      border-left-color: var(--fill-color);\n",
              "      border-top-color: var(--fill-color);\n",
              "    }\n",
              "    30% {\n",
              "      border-color: transparent;\n",
              "      border-left-color: var(--fill-color);\n",
              "      border-top-color: var(--fill-color);\n",
              "      border-right-color: var(--fill-color);\n",
              "    }\n",
              "    40% {\n",
              "      border-color: transparent;\n",
              "      border-right-color: var(--fill-color);\n",
              "      border-top-color: var(--fill-color);\n",
              "    }\n",
              "    60% {\n",
              "      border-color: transparent;\n",
              "      border-right-color: var(--fill-color);\n",
              "    }\n",
              "    80% {\n",
              "      border-color: transparent;\n",
              "      border-right-color: var(--fill-color);\n",
              "      border-bottom-color: var(--fill-color);\n",
              "    }\n",
              "    90% {\n",
              "      border-color: transparent;\n",
              "      border-bottom-color: var(--fill-color);\n",
              "    }\n",
              "  }\n",
              "</style>\n",
              "\n",
              "  <script>\n",
              "    async function quickchart(key) {\n",
              "      const quickchartButtonEl =\n",
              "        document.querySelector('#' + key + ' button');\n",
              "      quickchartButtonEl.disabled = true;  // To prevent multiple clicks.\n",
              "      quickchartButtonEl.classList.add('colab-df-spinner');\n",
              "      try {\n",
              "        const charts = await google.colab.kernel.invokeFunction(\n",
              "            'suggestCharts', [key], {});\n",
              "      } catch (error) {\n",
              "        console.error('Error during call to suggestCharts:', error);\n",
              "      }\n",
              "      quickchartButtonEl.classList.remove('colab-df-spinner');\n",
              "      quickchartButtonEl.classList.add('colab-df-quickchart-complete');\n",
              "    }\n",
              "    (() => {\n",
              "      let quickchartButtonEl =\n",
              "        document.querySelector('#df-76d8cb11-7e6f-40de-baef-863e7a4c28dc button');\n",
              "      quickchartButtonEl.style.display =\n",
              "        google.colab.kernel.accessAllowed ? 'block' : 'none';\n",
              "    })();\n",
              "  </script>\n",
              "</div>\n",
              "\n",
              "    </div>\n",
              "  </div>\n"
            ],
            "application/vnd.google.colaboratory.intrinsic+json": {
              "type": "dataframe",
              "variable_name": "data",
              "summary": "{\n  \"name\": \"data\",\n  \"rows\": 150,\n  \"fields\": [\n    {\n      \"column\": \"Id\",\n      \"properties\": {\n        \"dtype\": \"number\",\n        \"std\": 43,\n        \"min\": 1,\n        \"max\": 150,\n        \"num_unique_values\": 150,\n        \"samples\": [\n          74,\n          19,\n          119\n        ],\n        \"semantic_type\": \"\",\n        \"description\": \"\"\n      }\n    },\n    {\n      \"column\": \"SepalLengthCm\",\n      \"properties\": {\n        \"dtype\": \"number\",\n        \"std\": 0.8280661279778629,\n        \"min\": 4.3,\n        \"max\": 7.9,\n        \"num_unique_values\": 35,\n        \"samples\": [\n          6.2,\n          4.5,\n          5.6\n        ],\n        \"semantic_type\": \"\",\n        \"description\": \"\"\n      }\n    },\n    {\n      \"column\": \"SepalWidthCm\",\n      \"properties\": {\n        \"dtype\": \"number\",\n        \"std\": 0.4335943113621737,\n        \"min\": 2.0,\n        \"max\": 4.4,\n        \"num_unique_values\": 23,\n        \"samples\": [\n          2.3,\n          4.0,\n          3.5\n        ],\n        \"semantic_type\": \"\",\n        \"description\": \"\"\n      }\n    },\n    {\n      \"column\": \"PetalLengthCm\",\n      \"properties\": {\n        \"dtype\": \"number\",\n        \"std\": 1.7644204199522617,\n        \"min\": 1.0,\n        \"max\": 6.9,\n        \"num_unique_values\": 43,\n        \"samples\": [\n          6.7,\n          3.8,\n          3.7\n        ],\n        \"semantic_type\": \"\",\n        \"description\": \"\"\n      }\n    },\n    {\n      \"column\": \"PetalWidthCm\",\n      \"properties\": {\n        \"dtype\": \"number\",\n        \"std\": 0.7631607417008414,\n        \"min\": 0.1,\n        \"max\": 2.5,\n        \"num_unique_values\": 22,\n        \"samples\": [\n          0.2,\n          1.2,\n          1.3\n        ],\n        \"semantic_type\": \"\",\n        \"description\": \"\"\n      }\n    },\n    {\n      \"column\": \"Species\",\n      \"properties\": {\n        \"dtype\": \"category\",\n        \"num_unique_values\": 3,\n        \"samples\": [\n          \"Iris-setosa\",\n          \"Iris-versicolor\",\n          \"Iris-virginica\"\n        ],\n        \"semantic_type\": \"\",\n        \"description\": \"\"\n      }\n    }\n  ]\n}"
            }
          },
          "metadata": {},
          "execution_count": 3
        }
      ],
      "source": [
        "data = pd.read_csv(\"/content/drive/MyDrive/YiTing/Learning/Python/ML/Iris.csv\")\n",
        "data.head()"
      ]
    },
    {
      "cell_type": "code",
      "execution_count": 4,
      "id": "c264ed94",
      "metadata": {
        "id": "c264ed94"
      },
      "outputs": [],
      "source": [
        "from sklearn.neighbors import KNeighborsClassifier\n",
        "model = KNeighborsClassifier()\n",
        "\n",
        "input_field = ['SepalLengthCm','SepalWidthCm','PetalLengthCm','PetalWidthCm']\n",
        "output_field = 'Species'"
      ]
    },
    {
      "cell_type": "markdown",
      "id": "9a074ced",
      "metadata": {
        "id": "9a074ced"
      },
      "source": [
        "# train_test_split --> 最常用的！"
      ]
    },
    {
      "cell_type": "markdown",
      "id": "9d7a5938",
      "metadata": {
        "id": "9d7a5938"
      },
      "source": [
        "## 方法1 ： 先分群再選擇欄位"
      ]
    },
    {
      "cell_type": "code",
      "execution_count": 5,
      "id": "5e80c656",
      "metadata": {
        "colab": {
          "base_uri": "https://localhost:8080/"
        },
        "id": "5e80c656",
        "outputId": "68e96186-4c0f-4c55-91d4-044d3d3eefec"
      },
      "outputs": [
        {
          "output_type": "stream",
          "name": "stdout",
          "text": [
            "Train data size (120, 6)\n",
            "Test data size (30, 6)\n"
          ]
        }
      ],
      "source": [
        "from sklearn.model_selection import train_test_split\n",
        "\n",
        "data_train, data_test = train_test_split(data, test_size=0.2, random_state=0)\n",
        "print('Train data size', data_train.shape)\n",
        "print('Test data size', data_test.shape)"
      ]
    },
    {
      "cell_type": "code",
      "execution_count": 6,
      "id": "66027ef7",
      "metadata": {
        "id": "66027ef7"
      },
      "outputs": [],
      "source": [
        "train_x = data_train[input_field]\n",
        "train_y = data_train[output_field]\n",
        "test_x = data_test[input_field]\n",
        "test_y = data_test[output_field]"
      ]
    },
    {
      "cell_type": "code",
      "execution_count": 7,
      "id": "98d714c2",
      "metadata": {
        "colab": {
          "base_uri": "https://localhost:8080/"
        },
        "id": "98d714c2",
        "outputId": "9e0fe93d-cf58-466e-d856-00de632f12a5"
      },
      "outputs": [
        {
          "output_type": "stream",
          "name": "stdout",
          "text": [
            "(120, 4)\n",
            "(120,)\n",
            "(30, 4)\n",
            "(30,)\n"
          ]
        }
      ],
      "source": [
        "print(train_x.shape)\n",
        "print(train_y.shape)\n",
        "print(test_x.shape)\n",
        "print(test_y.shape)"
      ]
    },
    {
      "cell_type": "markdown",
      "id": "5ef57a68",
      "metadata": {
        "id": "5ef57a68"
      },
      "source": [
        "## 方法2 ： 先選擇欄位再分群"
      ]
    },
    {
      "cell_type": "code",
      "execution_count": 8,
      "id": "1816177e",
      "metadata": {
        "id": "1816177e"
      },
      "outputs": [],
      "source": [
        "x = data[input_field]\n",
        "y = data[output_field]\n",
        "\n",
        "train_x, test_x, train_y, test_y = train_test_split(x, y, test_size=0.2, random_state=0)"
      ]
    },
    {
      "cell_type": "code",
      "execution_count": 9,
      "id": "935b6a63",
      "metadata": {
        "colab": {
          "base_uri": "https://localhost:8080/"
        },
        "id": "935b6a63",
        "outputId": "04b4c157-f7a7-4e27-9459-223a8e6c1704"
      },
      "outputs": [
        {
          "output_type": "stream",
          "name": "stdout",
          "text": [
            "(120, 4)\n",
            "(120,)\n",
            "(30, 4)\n",
            "(30,)\n"
          ]
        }
      ],
      "source": [
        "print(train_x.shape)\n",
        "print(train_y.shape)\n",
        "print(test_x.shape)\n",
        "print(test_y.shape)"
      ]
    },
    {
      "cell_type": "markdown",
      "id": "7e192b59",
      "metadata": {
        "id": "7e192b59"
      },
      "source": [
        "## 訓練與測試"
      ]
    },
    {
      "cell_type": "code",
      "execution_count": 10,
      "id": "e2c83894",
      "metadata": {
        "colab": {
          "base_uri": "https://localhost:8080/"
        },
        "id": "e2c83894",
        "outputId": "98cd1255-3c20-414f-fecc-8bb3b4e1892d"
      },
      "outputs": [
        {
          "output_type": "stream",
          "name": "stdout",
          "text": [
            "The train accuracy is: 0.95\n",
            "The test accuracy is: 0.9666666666666667\n"
          ]
        }
      ],
      "source": [
        "from sklearn.metrics import accuracy_score\n",
        "\n",
        "model.fit(train_x, train_y)\n",
        "\n",
        "pred_train = model.predict(train_x)\n",
        "pred_test = model.predict(test_x)\n",
        "\n",
        "print('The train accuracy is:', accuracy_score(train_y,pred_train))\n",
        "print('The test accuracy is:', accuracy_score(test_y,pred_test))"
      ]
    },
    {
      "cell_type": "markdown",
      "id": "49f7bcc2",
      "metadata": {
        "id": "49f7bcc2"
      },
      "source": [
        "# cross_validate --> 最常用的！"
      ]
    },
    {
      "cell_type": "code",
      "execution_count": 11,
      "id": "192d7611",
      "metadata": {
        "colab": {
          "base_uri": "https://localhost:8080/"
        },
        "id": "192d7611",
        "outputId": "4ad063d7-ca99-4553-f798-3f4e7f79c784"
      },
      "outputs": [
        {
          "output_type": "execute_result",
          "data": {
            "text/plain": [
              "{'fit_time': array([0.03559709, 0.03903937, 0.01065969, 0.0282042 , 0.00948596]),\n",
              " 'score_time': array([0.08275986, 0.19902062, 0.14129567, 0.19358635, 0.05365443]),\n",
              " 'test_accuracy': array([0.96666667, 1.        , 0.93333333, 0.96666667, 1.        ]),\n",
              " 'test_balanced_accuracy': array([0.96666667, 1.        , 0.93333333, 0.96666667, 1.        ]),\n",
              " 'test_roc_auc': array([nan, nan, nan, nan, nan]),\n",
              " 'test_f1': array([nan, nan, nan, nan, nan]),\n",
              " 'test_precision': array([nan, nan, nan, nan, nan]),\n",
              " 'test_recall': array([nan, nan, nan, nan, nan]),\n",
              " 'test_roc_auc_ovr': array([0.97333333, 1.        , 0.99333333, 0.97      , 1.        ])}"
            ]
          },
          "metadata": {},
          "execution_count": 11
        }
      ],
      "source": [
        "from sklearn.model_selection import cross_validate\n",
        "\n",
        "x = data[input_field]\n",
        "y = data[output_field]\n",
        "\n",
        "score_type = ['accuracy','balanced_accuracy','roc_auc','f1','precision','recall','roc_auc_ovr']\n",
        "\n",
        "cv_scores = cross_validate(model, x, y, cv=5, n_jobs=5, scoring=score_type)\n",
        "cv_scores"
      ]
    },
    {
      "cell_type": "markdown",
      "id": "cf1ba17b",
      "metadata": {
        "id": "cf1ba17b"
      },
      "source": [
        "### cross_validate的缺點是只能處理二元分類，且類別要預先轉換為 0 跟 1"
      ]
    },
    {
      "cell_type": "code",
      "execution_count": 12,
      "id": "af28690d",
      "metadata": {
        "colab": {
          "base_uri": "https://localhost:8080/"
        },
        "id": "af28690d",
        "outputId": "104cb5b4-85bf-483f-ad4a-97572e11d6f4"
      },
      "outputs": [
        {
          "output_type": "execute_result",
          "data": {
            "text/plain": [
              "{'fit_time': array([0.0291822 , 0.03051162, 0.03457189, 0.0229888 , 0.00523019]),\n",
              " 'score_time': array([0.14096284, 0.16867781, 0.14360428, 0.14763308, 0.03520942]),\n",
              " 'test_accuracy': array([0.96666667, 0.96666667, 1.        , 0.86666667, 0.96666667]),\n",
              " 'test_balanced_accuracy': array([0.95 , 0.95 , 1.   , 0.9  , 0.975]),\n",
              " 'test_roc_auc': array([0.95  , 1.    , 1.    , 0.9925, 0.995 ]),\n",
              " 'test_f1': array([0.94736842, 0.94736842, 1.        , 0.83333333, 0.95238095]),\n",
              " 'test_precision': array([1.        , 1.        , 1.        , 0.71428571, 0.90909091]),\n",
              " 'test_recall': array([0.9, 0.9, 1. , 1. , 1. ]),\n",
              " 'test_roc_auc_ovr': array([0.95  , 1.    , 1.    , 0.9925, 0.995 ])}"
            ]
          },
          "metadata": {},
          "execution_count": 12
        }
      ],
      "source": [
        "from sklearn.model_selection import cross_validate\n",
        "\n",
        "target_filed_map = {'Iris-setosa': 0, 'Iris-versicolor': 0, 'Iris-virginica': 1}\n",
        "# target_filed_map = {'Iris-setosa': 'Iris-setosa', 'Iris-versicolor': 'Iris-setosa', 'Iris-virginica': 'Iris-virginica'}\n",
        "\n",
        "x = data[input_field]\n",
        "y = data[output_field].map(target_filed_map)\n",
        "\n",
        "\n",
        "score_type = ['accuracy','balanced_accuracy','roc_auc','f1','precision','recall','roc_auc_ovr']\n",
        "\n",
        "cv_scores = cross_validate(model, x, y, cv=5, n_jobs=5, scoring=score_type)\n",
        "cv_scores"
      ]
    },
    {
      "cell_type": "markdown",
      "id": "34855631",
      "metadata": {
        "id": "34855631"
      },
      "source": [
        "# KFold --> 分群 (test/ train)\n"
      ]
    },
    {
      "cell_type": "code",
      "execution_count": 13,
      "id": "cd20f710",
      "metadata": {
        "colab": {
          "base_uri": "https://localhost:8080/"
        },
        "id": "cd20f710",
        "outputId": "a3a3a52e-c4bb-4f67-91b7-c42655cf4254"
      },
      "outputs": [
        {
          "output_type": "stream",
          "name": "stdout",
          "text": [
            "train_index = \n",
            " [ 30  31  32  33  34  35  36  37  38  39  40  41  42  43  44  45  46  47\n",
            "  48  49  50  51  52  53  54  55  56  57  58  59  60  61  62  63  64  65\n",
            "  66  67  68  69  70  71  72  73  74  75  76  77  78  79  80  81  82  83\n",
            "  84  85  86  87  88  89  90  91  92  93  94  95  96  97  98  99 100 101\n",
            " 102 103 104 105 106 107 108 109 110 111 112 113 114 115 116 117 118 119\n",
            " 120 121 122 123 124 125 126 127 128 129 130 131 132 133 134 135 136 137\n",
            " 138 139 140 141 142 143 144 145 146 147 148 149]\n",
            "test_index = \n",
            " [ 0  1  2  3  4  5  6  7  8  9 10 11 12 13 14 15 16 17 18 19 20 21 22 23\n",
            " 24 25 26 27 28 29] \n",
            "\n",
            "train_index = \n",
            " [  0   1   2   3   4   5   6   7   8   9  10  11  12  13  14  15  16  17\n",
            "  18  19  20  21  22  23  24  25  26  27  28  29  60  61  62  63  64  65\n",
            "  66  67  68  69  70  71  72  73  74  75  76  77  78  79  80  81  82  83\n",
            "  84  85  86  87  88  89  90  91  92  93  94  95  96  97  98  99 100 101\n",
            " 102 103 104 105 106 107 108 109 110 111 112 113 114 115 116 117 118 119\n",
            " 120 121 122 123 124 125 126 127 128 129 130 131 132 133 134 135 136 137\n",
            " 138 139 140 141 142 143 144 145 146 147 148 149]\n",
            "test_index = \n",
            " [30 31 32 33 34 35 36 37 38 39 40 41 42 43 44 45 46 47 48 49 50 51 52 53\n",
            " 54 55 56 57 58 59] \n",
            "\n",
            "train_index = \n",
            " [  0   1   2   3   4   5   6   7   8   9  10  11  12  13  14  15  16  17\n",
            "  18  19  20  21  22  23  24  25  26  27  28  29  30  31  32  33  34  35\n",
            "  36  37  38  39  40  41  42  43  44  45  46  47  48  49  50  51  52  53\n",
            "  54  55  56  57  58  59  90  91  92  93  94  95  96  97  98  99 100 101\n",
            " 102 103 104 105 106 107 108 109 110 111 112 113 114 115 116 117 118 119\n",
            " 120 121 122 123 124 125 126 127 128 129 130 131 132 133 134 135 136 137\n",
            " 138 139 140 141 142 143 144 145 146 147 148 149]\n",
            "test_index = \n",
            " [60 61 62 63 64 65 66 67 68 69 70 71 72 73 74 75 76 77 78 79 80 81 82 83\n",
            " 84 85 86 87 88 89] \n",
            "\n",
            "train_index = \n",
            " [  0   1   2   3   4   5   6   7   8   9  10  11  12  13  14  15  16  17\n",
            "  18  19  20  21  22  23  24  25  26  27  28  29  30  31  32  33  34  35\n",
            "  36  37  38  39  40  41  42  43  44  45  46  47  48  49  50  51  52  53\n",
            "  54  55  56  57  58  59  60  61  62  63  64  65  66  67  68  69  70  71\n",
            "  72  73  74  75  76  77  78  79  80  81  82  83  84  85  86  87  88  89\n",
            " 120 121 122 123 124 125 126 127 128 129 130 131 132 133 134 135 136 137\n",
            " 138 139 140 141 142 143 144 145 146 147 148 149]\n",
            "test_index = \n",
            " [ 90  91  92  93  94  95  96  97  98  99 100 101 102 103 104 105 106 107\n",
            " 108 109 110 111 112 113 114 115 116 117 118 119] \n",
            "\n",
            "train_index = \n",
            " [  0   1   2   3   4   5   6   7   8   9  10  11  12  13  14  15  16  17\n",
            "  18  19  20  21  22  23  24  25  26  27  28  29  30  31  32  33  34  35\n",
            "  36  37  38  39  40  41  42  43  44  45  46  47  48  49  50  51  52  53\n",
            "  54  55  56  57  58  59  60  61  62  63  64  65  66  67  68  69  70  71\n",
            "  72  73  74  75  76  77  78  79  80  81  82  83  84  85  86  87  88  89\n",
            "  90  91  92  93  94  95  96  97  98  99 100 101 102 103 104 105 106 107\n",
            " 108 109 110 111 112 113 114 115 116 117 118 119]\n",
            "test_index = \n",
            " [120 121 122 123 124 125 126 127 128 129 130 131 132 133 134 135 136 137\n",
            " 138 139 140 141 142 143 144 145 146 147 148 149] \n",
            "\n"
          ]
        }
      ],
      "source": [
        "from sklearn.model_selection import KFold\n",
        "\n",
        "kf = KFold(n_splits=5)\n",
        "for train_index, test_index in kf.split(data):\n",
        "    print('train_index = \\n', train_index)\n",
        "    print('test_index = \\n', test_index, '\\n')"
      ]
    },
    {
      "cell_type": "markdown",
      "id": "5e81f9ca",
      "metadata": {
        "id": "5e81f9ca"
      },
      "source": [
        "### 上面可以發現index值是連續的，比較好的做法應該是加上參數shuffle=True"
      ]
    },
    {
      "cell_type": "code",
      "execution_count": 14,
      "id": "016e222b",
      "metadata": {
        "colab": {
          "base_uri": "https://localhost:8080/"
        },
        "id": "016e222b",
        "outputId": "3650ef43-b81f-4ed8-e5cb-edcb3e0de06f"
      },
      "outputs": [
        {
          "output_type": "stream",
          "name": "stdout",
          "text": [
            "train_index = \n",
            " [  0   1   2   3   4   5   6   9  10  11  12  13  14  15  17  18  19  20\n",
            "  21  23  25  27  28  29  30  31  32  34  35  36  38  39  41  42  43  46\n",
            "  47  48  49  50  52  53  55  56  57  58  59  60  61  64  65  67  68  69\n",
            "  70  72  74  75  77  79  80  81  82  83  84  85  87  88  89  91  92  94\n",
            "  95  96  98  99 101 102 103 104 105 106 108 109 110 111 112 113 115 116\n",
            " 117 118 119 120 122 123 124 125 127 128 129 130 131 132 133 135 136 137\n",
            " 138 139 140 141 142 143 144 145 146 147 148 149]\n",
            "test_index = \n",
            " [  7   8  16  22  24  26  33  37  40  44  45  51  54  62  63  66  71  73\n",
            "  76  78  86  90  93  97 100 107 114 121 126 134] \n",
            "\n",
            "train_index = \n",
            " [  0   1   3   4   5   6   7   8   9  11  12  13  14  15  16  17  19  20\n",
            "  21  22  23  24  25  26  28  29  30  31  32  33  34  35  36  37  38  39\n",
            "  40  41  42  44  45  46  47  48  49  51  52  53  54  55  57  58  62  63\n",
            "  64  65  66  67  68  70  71  72  73  74  75  76  77  78  79  81  82  85\n",
            "  86  87  88  89  90  91  93  94  95  96  97  98  99 100 101 102 103 104\n",
            " 105 107 109 110 111 113 114 115 117 118 120 121 122 124 125 126 128 129\n",
            " 130 131 134 136 138 139 140 142 143 145 148 149]\n",
            "test_index = \n",
            " [  2  10  18  27  43  50  56  59  60  61  69  80  83  84  92 106 108 112\n",
            " 116 119 123 127 132 133 135 137 141 144 146 147] \n",
            "\n",
            "train_index = \n",
            " [  0   1   2   4   5   7   8   9  10  14  16  17  18  19  21  22  23  24\n",
            "  25  26  27  28  29  31  32  33  34  35  36  37  38  39  40  41  42  43\n",
            "  44  45  47  49  50  51  53  54  55  56  57  58  59  60  61  62  63  65\n",
            "  66  67  69  70  71  72  73  74  75  76  77  78  79  80  81  82  83  84\n",
            "  86  87  88  90  92  93  97  99 100 103 105 106 107 108 112 113 114 115\n",
            " 116 117 118 119 121 122 123 124 126 127 129 130 131 132 133 134 135 136\n",
            " 137 138 139 140 141 142 143 144 145 146 147 148]\n",
            "test_index = \n",
            " [  3   6  11  12  13  15  20  30  46  48  52  64  68  85  89  91  94  95\n",
            "  96  98 101 102 104 109 110 111 120 125 128 149] \n",
            "\n",
            "train_index = \n",
            " [  2   3   6   7   8   9  10  11  12  13  14  15  16  18  19  20  21  22\n",
            "  24  25  26  27  29  30  33  36  37  39  40  43  44  45  46  47  48  49\n",
            "  50  51  52  54  56  58  59  60  61  62  63  64  66  67  68  69  70  71\n",
            "  72  73  76  77  78  79  80  81  82  83  84  85  86  87  88  89  90  91\n",
            "  92  93  94  95  96  97  98  99 100 101 102 103 104 106 107 108 109 110\n",
            " 111 112 114 115 116 117 119 120 121 122 123 125 126 127 128 130 132 133\n",
            " 134 135 136 137 140 141 142 144 145 146 147 149]\n",
            "test_index = \n",
            " [  0   1   4   5  17  23  28  31  32  34  35  38  41  42  53  55  57  65\n",
            "  74  75 105 113 118 124 129 131 138 139 143 148] \n",
            "\n",
            "train_index = \n",
            " [  0   1   2   3   4   5   6   7   8  10  11  12  13  15  16  17  18  20\n",
            "  22  23  24  26  27  28  30  31  32  33  34  35  37  38  40  41  42  43\n",
            "  44  45  46  48  50  51  52  53  54  55  56  57  59  60  61  62  63  64\n",
            "  65  66  68  69  71  73  74  75  76  78  80  83  84  85  86  89  90  91\n",
            "  92  93  94  95  96  97  98 100 101 102 104 105 106 107 108 109 110 111\n",
            " 112 113 114 116 118 119 120 121 123 124 125 126 127 128 129 131 132 133\n",
            " 134 135 137 138 139 141 143 144 146 147 148 149]\n",
            "test_index = \n",
            " [  9  14  19  21  25  29  36  39  47  49  58  67  70  72  77  79  81  82\n",
            "  87  88  99 103 115 117 122 130 136 140 142 145] \n",
            "\n"
          ]
        }
      ],
      "source": [
        "from sklearn.model_selection import KFold\n",
        "\n",
        "kf = KFold(n_splits=5, random_state=0, shuffle=True)\n",
        "for train_index, test_index in kf.split(data):\n",
        "    print('train_index = \\n', train_index)\n",
        "    print('test_index = \\n', test_index, '\\n')"
      ]
    },
    {
      "cell_type": "markdown",
      "id": "ae3d98b4",
      "metadata": {
        "id": "ae3d98b4"
      },
      "source": [
        "## 完整的KFold示範"
      ]
    },
    {
      "cell_type": "code",
      "execution_count": 15,
      "id": "82d897f3",
      "metadata": {
        "colab": {
          "base_uri": "https://localhost:8080/"
        },
        "id": "82d897f3",
        "outputId": "24eb8809-da28-41b3-edbb-1abba6e6e882"
      },
      "outputs": [
        {
          "output_type": "stream",
          "name": "stdout",
          "text": [
            "The train accuracy is: [0.95, 0.9916666666666667, 0.9666666666666667, 0.9666666666666667, 0.9833333333333333]\n",
            "The test accuracy is: [0.9666666666666667, 0.9, 1.0, 1.0, 0.9333333333333333]\n"
          ]
        },
        {
          "output_type": "execute_result",
          "data": {
            "text/plain": [
              "0.9716666666666667"
            ]
          },
          "metadata": {},
          "execution_count": 15
        }
      ],
      "source": [
        "from sklearn.model_selection import KFold\n",
        "\n",
        "kf = KFold(n_splits=5, random_state=0, shuffle=True)\n",
        "\n",
        "train_score = []\n",
        "test_score = []\n",
        "\n",
        "for train_index, test_index in kf.split(data):\n",
        "    train_x = data[input_field].iloc[train_index]\n",
        "    train_y = data[output_field].iloc[train_index]\n",
        "    test_x = data[input_field].iloc[test_index]\n",
        "    test_y = data[output_field].iloc[test_index]\n",
        "\n",
        "    model.fit(train_x, train_y)\n",
        "\n",
        "    pred_train = model.predict(train_x)\n",
        "    pred_test = model.predict(test_x)\n",
        "\n",
        "    train_score.append(accuracy_score(train_y,pred_train))\n",
        "    test_score.append(accuracy_score(test_y,pred_test))\n",
        "\n",
        "print('The train accuracy is:', train_score)\n",
        "print('The test accuracy is:', test_score)\n",
        "\n",
        "np.mean(train_score)\n"
      ]
    },
    {
      "cell_type": "markdown",
      "id": "b5b284ae",
      "metadata": {
        "id": "b5b284ae"
      },
      "source": [
        "# RepeatedKFold"
      ]
    },
    {
      "cell_type": "code",
      "execution_count": 16,
      "id": "6b112e28",
      "metadata": {
        "id": "6b112e28"
      },
      "outputs": [],
      "source": [
        "x = np.zeros(10)"
      ]
    },
    {
      "cell_type": "code",
      "execution_count": 17,
      "id": "4a354ab2",
      "metadata": {
        "colab": {
          "base_uri": "https://localhost:8080/"
        },
        "id": "4a354ab2",
        "outputId": "8ce5092b-2419-4240-df6f-65b5d8fc7f69"
      },
      "outputs": [
        {
          "output_type": "stream",
          "name": "stdout",
          "text": [
            "train_index [0 4 5 6 9]\n",
            "test_index [1 2 3 7 8]\n",
            "\n",
            "train_index [1 2 3 7 8]\n",
            "test_index [0 4 5 6 9]\n",
            "\n",
            "train_index [0 1 4 8 9]\n",
            "test_index [2 3 5 6 7]\n",
            "\n",
            "train_index [2 3 5 6 7]\n",
            "test_index [0 1 4 8 9]\n",
            "\n",
            "train_index [0 3 4 5 8]\n",
            "test_index [1 2 6 7 9]\n",
            "\n",
            "train_index [1 2 6 7 9]\n",
            "test_index [0 3 4 5 8]\n",
            "\n"
          ]
        }
      ],
      "source": [
        "from sklearn.model_selection import RepeatedKFold\n",
        "\n",
        "rkf = RepeatedKFold(n_splits=2, n_repeats=3, random_state=2652124)\n",
        "for train_index, test_index in rkf.split(x):\n",
        "    print('train_index',train_index)\n",
        "    print('test_index',test_index)\n",
        "    print()"
      ]
    },
    {
      "cell_type": "markdown",
      "id": "731dec44",
      "metadata": {
        "id": "731dec44"
      },
      "source": [
        "# RepeatedStratifiedKFold\n",
        "驗證用資料的各類別比率會跟原始資料一樣"
      ]
    },
    {
      "cell_type": "code",
      "execution_count": 18,
      "id": "0ea71156",
      "metadata": {
        "colab": {
          "base_uri": "https://localhost:8080/"
        },
        "id": "0ea71156",
        "outputId": "eaa7c57d-2cb9-4e7b-b2f6-a8ea20415c3b"
      },
      "outputs": [
        {
          "output_type": "stream",
          "name": "stdout",
          "text": [
            "test_index [ 0  2  5  7  9 10 11]\n",
            "test [0 1 1 2 2 2 2]\n",
            "\n",
            "test_index [ 1  3  4  6  8 12 13]\n",
            "test [0 1 1 2 2 2 2]\n",
            "\n",
            "test_index [ 1  4  5  6  9 10 11]\n",
            "test [0 1 1 2 2 2 2]\n",
            "\n",
            "test_index [ 0  2  3  7  8 12 13]\n",
            "test [0 1 1 2 2 2 2]\n",
            "\n",
            "test_index [ 0  3  5  6  7 10 13]\n",
            "test [0 1 1 2 2 2 2]\n",
            "\n",
            "test_index [ 1  2  4  8  9 11 12]\n",
            "test [0 1 1 2 2 2 2]\n",
            "\n"
          ]
        }
      ],
      "source": [
        "from sklearn.model_selection import RepeatedStratifiedKFold\n",
        "\n",
        "x = np.arange(0,14)\n",
        "y = np.array([0,0,1,1,1,1,2,2,2,2,2,2,2,2])\n",
        "rkf = RepeatedStratifiedKFold(n_splits=2, n_repeats=3, random_state=2652124)\n",
        "for train_index, test_index in rkf.split(x,y):\n",
        "    print('test_index',test_index)\n",
        "    print('test',y[test_index])\n",
        "    print()"
      ]
    },
    {
      "cell_type": "markdown",
      "id": "9b3b515e",
      "metadata": {
        "id": "9b3b515e"
      },
      "source": [
        "# LeaveOneOut  --> 通常用在資料量很少的時候 (Leave\"N\"Out: 每次都只留 N 筆資料做測試用)"
      ]
    },
    {
      "cell_type": "code",
      "execution_count": 19,
      "id": "67eb779c",
      "metadata": {
        "colab": {
          "base_uri": "https://localhost:8080/"
        },
        "id": "67eb779c",
        "outputId": "681a6104-2e33-496d-b0e3-a0ebf15f484b"
      },
      "outputs": [
        {
          "output_type": "stream",
          "name": "stdout",
          "text": [
            "train_index [1 2 3 4]\n",
            "test_index [0]\n",
            "\n",
            "train_index [0 2 3 4]\n",
            "test_index [1]\n",
            "\n",
            "train_index [0 1 3 4]\n",
            "test_index [2]\n",
            "\n",
            "train_index [0 1 2 4]\n",
            "test_index [3]\n",
            "\n",
            "train_index [0 1 2 3]\n",
            "test_index [4]\n",
            "\n"
          ]
        }
      ],
      "source": [
        "x = np.arange(0,5)\n",
        "from sklearn.model_selection import LeaveOneOut\n",
        "rkf = LeaveOneOut()\n",
        "for train_index, test_index in rkf.split(x):\n",
        "    print('train_index',train_index)\n",
        "    print('test_index',test_index)\n",
        "    print()"
      ]
    },
    {
      "cell_type": "markdown",
      "id": "bbf42224",
      "metadata": {
        "id": "bbf42224"
      },
      "source": [
        "# LeavePOut\n",
        "Provides train/test indices to split data in train/test sets. This results in testing on all distinct samples of size p, while the remaining n - p samples form the training set in each iteration."
      ]
    },
    {
      "cell_type": "code",
      "execution_count": 20,
      "id": "a38582d5",
      "metadata": {
        "colab": {
          "base_uri": "https://localhost:8080/"
        },
        "id": "a38582d5",
        "outputId": "a4163c01-854c-4ca3-bb85-e7017db46642"
      },
      "outputs": [
        {
          "output_type": "stream",
          "name": "stdout",
          "text": [
            "train_index [2 3 4]\n",
            "test_index [0 1]\n",
            "\n",
            "train_index [1 3 4]\n",
            "test_index [0 2]\n",
            "\n",
            "train_index [1 2 4]\n",
            "test_index [0 3]\n",
            "\n",
            "train_index [1 2 3]\n",
            "test_index [0 4]\n",
            "\n",
            "train_index [0 3 4]\n",
            "test_index [1 2]\n",
            "\n",
            "train_index [0 2 4]\n",
            "test_index [1 3]\n",
            "\n",
            "train_index [0 2 3]\n",
            "test_index [1 4]\n",
            "\n",
            "train_index [0 1 4]\n",
            "test_index [2 3]\n",
            "\n",
            "train_index [0 1 3]\n",
            "test_index [2 4]\n",
            "\n",
            "train_index [0 1 2]\n",
            "test_index [3 4]\n",
            "\n"
          ]
        }
      ],
      "source": [
        "x = np.arange(0,5)\n",
        "from sklearn.model_selection import LeavePOut\n",
        "rkf = LeavePOut(2)\n",
        "for train_index, test_index in rkf.split(x):\n",
        "    print('train_index',train_index)\n",
        "    print('test_index',test_index)\n",
        "    print()"
      ]
    },
    {
      "cell_type": "markdown",
      "id": "d4ab7e05",
      "metadata": {
        "id": "d4ab7e05"
      },
      "source": [
        "# ShuffleSplit\n",
        "完全隨機的切出n次一定比率的資料出來，可以看成連續跑n次的train_test_split"
      ]
    },
    {
      "cell_type": "code",
      "execution_count": 21,
      "id": "7677ca9b",
      "metadata": {
        "colab": {
          "base_uri": "https://localhost:8080/"
        },
        "id": "7677ca9b",
        "outputId": "3f1699c6-0c78-411e-8bcb-dd6feb7b643e"
      },
      "outputs": [
        {
          "output_type": "stream",
          "name": "stdout",
          "text": [
            "train_index [9 1 6 7 3 0 5]\n",
            "test_index [2 8 4]\n",
            "\n",
            "train_index [2 9 8 0 6 7 4]\n",
            "test_index [3 5 1]\n",
            "\n",
            "train_index [4 5 1 0 6 9 7]\n",
            "test_index [2 3 8]\n",
            "\n"
          ]
        }
      ],
      "source": [
        "x = np.arange(0,10)\n",
        "from sklearn.model_selection import ShuffleSplit\n",
        "rkf = ShuffleSplit(n_splits=3, test_size=0.3, random_state=0)\n",
        "for train_index, test_index in rkf.split(x):\n",
        "    print('train_index',train_index)\n",
        "    print('test_index',test_index)\n",
        "    print()"
      ]
    },
    {
      "cell_type": "markdown",
      "id": "ca60c43d",
      "metadata": {
        "id": "ca60c43d"
      },
      "source": [
        "# TimeSeriesSplit --> 假設資料已經照時間排序好了"
      ]
    },
    {
      "cell_type": "code",
      "execution_count": 22,
      "id": "81ff2849",
      "metadata": {
        "colab": {
          "base_uri": "https://localhost:8080/"
        },
        "id": "81ff2849",
        "outputId": "159002be-15e7-4aab-d054-5682284221b3"
      },
      "outputs": [
        {
          "output_type": "stream",
          "name": "stdout",
          "text": [
            "train_index [0 1 2 3]\n",
            "test_index [4 5]\n",
            "\n",
            "train_index [0 1 2 3 4 5]\n",
            "test_index [6 7]\n",
            "\n",
            "train_index [0 1 2 3 4 5 6 7]\n",
            "test_index [8 9]\n",
            "\n"
          ]
        }
      ],
      "source": [
        "x = np.arange(0,10)\n",
        "from sklearn.model_selection import TimeSeriesSplit\n",
        "rkf = TimeSeriesSplit(n_splits=3, test_size=2)\n",
        "for train_index, test_index in rkf.split(x):\n",
        "    print('train_index',train_index)\n",
        "    print('test_index',test_index)\n",
        "    print()"
      ]
    },
    {
      "cell_type": "markdown",
      "id": "066f705b",
      "metadata": {
        "id": "066f705b"
      },
      "source": [
        "# GroupKFold"
      ]
    },
    {
      "cell_type": "code",
      "execution_count": 23,
      "id": "7c7d22b9",
      "metadata": {
        "colab": {
          "base_uri": "https://localhost:8080/"
        },
        "id": "7c7d22b9",
        "outputId": "4853f3fe-71a9-4326-c4cb-9600cf15794c"
      },
      "outputs": [
        {
          "output_type": "stream",
          "name": "stdout",
          "text": [
            "train_index [0 1 4 5 6 7]\n",
            "test_index [2 3 8 9]\n",
            "\n",
            "train_index [2 3 4 5 8 9]\n",
            "test_index [0 1 6 7]\n",
            "\n",
            "train_index [0 1 2 3 6 7 8 9]\n",
            "test_index [4 5]\n",
            "\n"
          ]
        }
      ],
      "source": [
        "x = np.arange(0,10)\n",
        "g = [0,0,1,1,2,2,3,3,4,4]\n",
        "from sklearn.model_selection import GroupKFold\n",
        "rkf = GroupKFold(n_splits=3)\n",
        "for train_index, test_index in rkf.split(x,groups=g):\n",
        "    print('train_index',train_index)\n",
        "    print('test_index',test_index)\n",
        "    print()"
      ]
    },
    {
      "cell_type": "code",
      "execution_count": null,
      "id": "6f3b152c",
      "metadata": {
        "id": "6f3b152c"
      },
      "outputs": [],
      "source": []
    },
    {
      "cell_type": "code",
      "execution_count": null,
      "id": "b4576437",
      "metadata": {
        "id": "b4576437"
      },
      "outputs": [],
      "source": []
    },
    {
      "cell_type": "code",
      "execution_count": null,
      "id": "25733f21",
      "metadata": {
        "id": "25733f21"
      },
      "outputs": [],
      "source": []
    },
    {
      "cell_type": "code",
      "execution_count": null,
      "id": "54757d93",
      "metadata": {
        "id": "54757d93"
      },
      "outputs": [],
      "source": []
    }
  ],
  "metadata": {
    "kernelspec": {
      "display_name": "Python 3 (ipykernel)",
      "language": "python",
      "name": "python3"
    },
    "language_info": {
      "codemirror_mode": {
        "name": "ipython",
        "version": 3
      },
      "file_extension": ".py",
      "mimetype": "text/x-python",
      "name": "python",
      "nbconvert_exporter": "python",
      "pygments_lexer": "ipython3",
      "version": "3.12.3"
    },
    "colab": {
      "provenance": [],
      "include_colab_link": true
    }
  },
  "nbformat": 4,
  "nbformat_minor": 5
}