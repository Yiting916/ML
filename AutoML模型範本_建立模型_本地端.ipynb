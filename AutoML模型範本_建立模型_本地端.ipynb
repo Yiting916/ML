{
 "cells": [
  {
   "cell_type": "markdown",
   "id": "b7ebc3ac",
   "metadata": {
    "id": "b7ebc3ac"
   },
   "source": [
    "Author: Clement Chen</br>\n",
    "E-Mail: clement1972@gmail.com</br>\n",
    "https://sites.google.com/site/clement1972/</br>"
   ]
  },
  {
   "cell_type": "code",
   "execution_count": null,
   "id": "6ca35d6d-b325-4a24-85b1-29322a4e3315",
   "metadata": {},
   "outputs": [],
   "source": [
    "! pip install autogluon"
   ]
  },
  {
   "cell_type": "markdown",
   "id": "503fc176",
   "metadata": {
    "id": "503fc176"
   },
   "source": [
    "# 參數設定"
   ]
  },
  {
   "cell_type": "markdown",
   "id": "b903cbd5",
   "metadata": {
    "id": "b903cbd5"
   },
   "source": [
    "### <font color='red'>請修改下面的參數</font>"
   ]
  },
  {
   "cell_type": "code",
   "execution_count": 1,
   "id": "fa4753c4",
   "metadata": {
    "executionInfo": {
     "elapsed": 4,
     "status": "ok",
     "timestamp": 1691135932430,
     "user": {
      "displayName": "Class上課資料",
      "userId": "18003802802776505350"
     },
     "user_tz": -480
    },
    "id": "fa4753c4"
   },
   "outputs": [],
   "source": [
    "# eval_metric 評估指標\n",
    "# options for classification:\n",
    "#  ['accuracy', 'balanced_accuracy', 'f1', 'f1_macro', 'f1_micro', 'f1_weighted',\n",
    "#  'roc_auc', 'roc_auc_ovo_macro', 'average_precision', 'precision', 'precision_macro',\n",
    "#  'precision_micro', 'precision_weighted', 'recall', 'recall_macro', 'recall_micro',\n",
    "# 'recall_weighted', 'log_loss', 'pac_score']\n",
    "#\n",
    "# Options for regression:\n",
    "#  ['root_mean_squared_error', 'mean_squared_error', 'mean_absolute_error',\n",
    "#  'median_absolute_error', 'mean_absolute_percentage_error','r2']\n",
    "eval_metric = 'roc_auc'\n",
    "\n",
    "# data_filename 訓練用資料的檔名\n",
    "data_filename = 'C:/DATA/class/data/人員資料_train.xlsx'\n",
    "\n",
    "# prediction_filename 模型預測結果的檔名\n",
    "prediction_filename = 'C:/DATA/class/output/人員資料_train_prediction.xlsx'\n",
    "\n",
    "# model_path 模型儲存資料夾\n",
    "model_path = 'C:/DATA/class/output/model_人員資料'\n",
    "\n",
    "# leaderboard_filename 模型評比結果檔名\n",
    "leaderboard_filename = 'C:/DATA/class/output/leaderboard_人員資料.xlsx'"
   ]
  },
  {
   "cell_type": "code",
   "execution_count": 2,
   "id": "1b85b4ea",
   "metadata": {
    "executionInfo": {
     "elapsed": 3,
     "status": "ok",
     "timestamp": 1691135932431,
     "user": {
      "displayName": "Class上課資料",
      "userId": "18003802802776505350"
     },
     "user_tz": -480
    },
    "id": "1b85b4ea"
   },
   "outputs": [],
   "source": [
    "# input_field 模型輸入的欄位名稱\n",
    "input_field = ['員工編號(EmployeeNumber)', '性別(Gender)', '年齡(Age)', '是否為成年人(Over18)',\n",
    "       '婚姻狀態(MaritalStatus)', '通勤距離(DistanceFromHome)', '教育程度(Education)',\n",
    "       '教育專業領域(EducationField)', '部門(Department)', '職位名稱(JobRole)',\n",
    "       '職位等級(JobLevel)', '在該公司工作總年資(YearsAtCompany)',\n",
    "       '在該職位工作年資(YearsInCurrentRole)', '在該職等工作年資(YearsSinceLastPromotion)',\n",
    "       '與現任管理者工作年資(YearsWithCurrManager)', '總工作年資(TotalWorkingYears)',\n",
    "       '過去工作公司家數(NumCompaniesWorked)', '每日工資額(DailyRate)',\n",
    "       '每小時工資額(HourlyRate)', '月收入(MonthlyIncome)', '月費率(MonthlyRate)',\n",
    "       '標準工作時間(StandardHours)', '加班(OverTime)', '調薪百分比(PercentSalaryHike)',\n",
    "       '股票選擇權等級(StockOptionLevel)', '績效評估(PerformanceRating)',\n",
    "       '出差頻率(BusinessTravel)', '去年訓練時間(TrainingTimesLastYear)',\n",
    "       '工作滿意度(JobSatisfaction)', '工作環境滿意度(EnvironmentSatisfaction)',\n",
    "       '工作投入(JobInvolvement)', '工作生活平衡(WorkLifeBalance)',\n",
    "       '人際關係滿意度(RelationshipSatisfaction)']\n",
    "\n",
    "# target_field 模型預測欄位名稱\n",
    "target_field = '離職(Attrition)'\n"
   ]
  },
  {
   "cell_type": "markdown",
   "id": "9e4ffd53",
   "metadata": {
    "id": "9e4ffd53"
   },
   "source": [
    "### 載入資料"
   ]
  },
  {
   "cell_type": "code",
   "execution_count": 3,
   "id": "e072d018",
   "metadata": {
    "executionInfo": {
     "elapsed": 10,
     "status": "ok",
     "timestamp": 1691135968257,
     "user": {
      "displayName": "Class上課資料",
      "userId": "18003802802776505350"
     },
     "user_tz": -480
    },
    "id": "e072d018"
   },
   "outputs": [],
   "source": [
    "import pandas as pd\n",
    "import numpy as np"
   ]
  },
  {
   "cell_type": "code",
   "execution_count": null,
   "id": "75fa9cc2",
   "metadata": {
    "colab": {
     "base_uri": "https://localhost:8080/",
     "height": 678
    },
    "executionInfo": {
     "elapsed": 1269,
     "status": "ok",
     "timestamp": 1691135969518,
     "user": {
      "displayName": "Class上課資料",
      "userId": "18003802802776505350"
     },
     "user_tz": -480
    },
    "id": "75fa9cc2",
    "outputId": "4934974e-400c-4e0b-8703-e8a5c9b369f8"
   },
   "outputs": [],
   "source": [
    "data = pd.read_excel(data_filename)\n",
    "data"
   ]
  },
  {
   "cell_type": "markdown",
   "id": "2b0dcda5",
   "metadata": {
    "id": "2b0dcda5"
   },
   "source": [
    "### <font color='blue'>顯示資料表欄位名稱</font>"
   ]
  },
  {
   "cell_type": "code",
   "execution_count": 7,
   "id": "7518df5c",
   "metadata": {
    "colab": {
     "base_uri": "https://localhost:8080/"
    },
    "executionInfo": {
     "elapsed": 8,
     "status": "ok",
     "timestamp": 1691135969518,
     "user": {
      "displayName": "Class上課資料",
      "userId": "18003802802776505350"
     },
     "user_tz": -480
    },
    "id": "7518df5c",
    "outputId": "d42ea44f-48b6-4c59-fa68-fb066b4d3225"
   },
   "outputs": [
    {
     "data": {
      "text/plain": [
       "Index(['員工編號(EmployeeNumber)', '性別(Gender)', '年齡(Age)', '是否為成年人(Over18)',\n",
       "       '婚姻狀態(MaritalStatus)', '通勤距離(DistanceFromHome)', '教育程度(Education)',\n",
       "       '教育專業領域(EducationField)', '部門(Department)', '職位名稱(JobRole)',\n",
       "       '職位等級(JobLevel)', '在該公司工作總年資(YearsAtCompany)',\n",
       "       '在該職位工作年資(YearsInCurrentRole)', '在該職等工作年資(YearsSinceLastPromotion)',\n",
       "       '與現任管理者工作年資(YearsWithCurrManager)', '總工作年資(TotalWorkingYears)',\n",
       "       '過去工作公司家數(NumCompaniesWorked)', '每日工資額(DailyRate)',\n",
       "       '每小時工資額(HourlyRate)', '月收入(MonthlyIncome)', '月費率(MonthlyRate)',\n",
       "       '標準工作時間(StandardHours)', '加班(OverTime)', '調薪百分比(PercentSalaryHike)',\n",
       "       '股票選擇權等級(StockOptionLevel)', '績效評估(PerformanceRating)',\n",
       "       '出差頻率(BusinessTravel)', '去年訓練時間(TrainingTimesLastYear)',\n",
       "       '工作滿意度(JobSatisfaction)', '工作環境滿意度(EnvironmentSatisfaction)',\n",
       "       '工作投入(JobInvolvement)', '工作生活平衡(WorkLifeBalance)',\n",
       "       '人際關係滿意度(RelationshipSatisfaction)', '離職(Attrition)'],\n",
       "      dtype='object')"
      ]
     },
     "execution_count": 7,
     "metadata": {},
     "output_type": "execute_result"
    }
   ],
   "source": [
    "data.columns"
   ]
  },
  {
   "cell_type": "markdown",
   "id": "9f16d66e",
   "metadata": {
    "id": "9f16d66e"
   },
   "source": [
    "# 訓練模型"
   ]
  },
  {
   "cell_type": "code",
   "execution_count": 8,
   "id": "6b76082c",
   "metadata": {
    "executionInfo": {
     "elapsed": 4,
     "status": "ok",
     "timestamp": 1691135969518,
     "user": {
      "displayName": "Class上課資料",
      "userId": "18003802802776505350"
     },
     "user_tz": -480
    },
    "id": "6b76082c"
   },
   "outputs": [
    {
     "name": "stderr",
     "output_type": "stream",
     "text": [
      "C:\\venv\\autogluon\\lib\\site-packages\\tqdm\\auto.py:21: TqdmWarning: IProgress not found. Please update jupyter and ipywidgets. See https://ipywidgets.readthedocs.io/en/stable/user_install.html\n",
      "  from .autonotebook import tqdm as notebook_tqdm\n"
     ]
    }
   ],
   "source": [
    "from autogluon.tabular import TabularDataset, TabularPredictor"
   ]
  },
  {
   "cell_type": "code",
   "execution_count": 9,
   "id": "afa16855",
   "metadata": {
    "colab": {
     "base_uri": "https://localhost:8080/"
    },
    "executionInfo": {
     "elapsed": 253005,
     "status": "ok",
     "timestamp": 1691136222519,
     "user": {
      "displayName": "Class上課資料",
      "userId": "18003802802776505350"
     },
     "user_tz": -480
    },
    "id": "afa16855",
    "outputId": "ac7a7629-03c6-492b-8ebf-5014ad687dcd"
   },
   "outputs": [
    {
     "name": "stderr",
     "output_type": "stream",
     "text": [
      "Verbosity: 2 (Standard Logging)\n",
      "=================== System Info ===================\n",
      "AutoGluon Version:  1.1.1\n",
      "Python Version:     3.10.0\n",
      "Operating System:   Windows\n",
      "Platform Machine:   AMD64\n",
      "Platform Version:   10.0.22631\n",
      "CPU Count:          16\n",
      "Memory Avail:       13.12 GB / 23.70 GB (55.3%)\n",
      "Disk Space Avail:   187.28 GB / 475.55 GB (39.4%)\n",
      "===================================================\n",
      "No presets specified! To achieve strong results with AutoGluon, it is recommended to use the available presets.\n",
      "\tRecommended Presets (For more details refer to https://auto.gluon.ai/stable/tutorials/tabular/tabular-essentials.html#presets):\n",
      "\tpresets='best_quality'   : Maximize accuracy. Default time_limit=3600.\n",
      "\tpresets='high_quality'   : Strong accuracy with fast inference speed. Default time_limit=3600.\n",
      "\tpresets='good_quality'   : Good accuracy with very fast inference speed. Default time_limit=3600.\n",
      "\tpresets='medium_quality' : Fast training time, ideal for initial prototyping.\n",
      "Beginning AutoGluon training ...\n",
      "AutoGluon will save models to \"C:/DATA/class/output/model_人員資料\"\n",
      "Train Data Rows:    1176\n",
      "Train Data Columns: 33\n",
      "Label Column:       離職(Attrition)\n",
      "AutoGluon infers your prediction problem is: 'binary' (because only two unique label-values observed).\n",
      "\t2 unique label values:  ['No', 'Yes']\n",
      "\tIf 'binary' is not the correct problem_type, please manually specify the problem_type parameter during Predictor init (You may specify problem_type as one of: ['binary', 'multiclass', 'regression', 'quantile'])\n",
      "Problem Type:       binary\n",
      "Preprocessing data ...\n",
      "Selected class <--> label mapping:  class 1 = Yes, class 0 = No\n",
      "\tNote: For your binary classification, AutoGluon arbitrarily selected which label-value represents positive (Yes) vs negative (No) class.\n",
      "\tTo explicitly set the positive_class, either rename classes to 1 and 0, or specify positive_class in Predictor init.\n",
      "Using Feature Generators to preprocess the data ...\n",
      "Fitting AutoMLPipelineFeatureGenerator...\n",
      "\tAvailable Memory:                    13425.23 MB\n",
      "\tTrain Data (Original)  Memory Usage: 0.82 MB (0.0% of available memory)\n",
      "\tInferring data type of each feature based on column values. Set feature_metadata_in to manually specify special dtypes of the features.\n",
      "\tStage 1 Generators:\n",
      "\t\tFitting AsTypeFeatureGenerator...\n",
      "\t\t\tNote: Converting 3 features to boolean dtype as they only contain 2 unique values.\n",
      "\tStage 2 Generators:\n",
      "\t\tFitting FillNaFeatureGenerator...\n",
      "\tStage 3 Generators:\n",
      "\t\tFitting IdentityFeatureGenerator...\n",
      "\t\tFitting CategoryFeatureGenerator...\n",
      "\t\t\tFitting CategoryMemoryMinimizeFeatureGenerator...\n",
      "\tStage 4 Generators:\n",
      "\t\tFitting DropUniqueFeatureGenerator...\n",
      "\tStage 5 Generators:\n",
      "\t\tFitting DropDuplicatesFeatureGenerator...\n",
      "\tUseless Original Features (Count: 2): ['是否為成年人(Over18)', '標準工作時間(StandardHours)']\n",
      "\t\tThese features carry no predictive signal and should be manually investigated.\n",
      "\t\tThis is typically a feature which has the same value for all rows.\n",
      "\t\tThese features do not need to be present at inference time.\n",
      "\tTypes of features in original data (raw dtype, special dtypes):\n",
      "\t\t('int', [])    : 24 | ['員工編號(EmployeeNumber)', '年齡(Age)', '通勤距離(DistanceFromHome)', '教育程度(Education)', '職位等級(JobLevel)', ...]\n",
      "\t\t('object', []) :  7 | ['性別(Gender)', '婚姻狀態(MaritalStatus)', '教育專業領域(EducationField)', '部門(Department)', '職位名稱(JobRole)', ...]\n",
      "\tTypes of features in processed data (raw dtype, special dtypes):\n",
      "\t\t('category', [])  :  5 | ['婚姻狀態(MaritalStatus)', '教育專業領域(EducationField)', '部門(Department)', '職位名稱(JobRole)', '出差頻率(BusinessTravel)']\n",
      "\t\t('int', [])       : 23 | ['員工編號(EmployeeNumber)', '年齡(Age)', '通勤距離(DistanceFromHome)', '教育程度(Education)', '職位等級(JobLevel)', ...]\n",
      "\t\t('int', ['bool']) :  3 | ['性別(Gender)', '加班(OverTime)', '績效評估(PerformanceRating)']\n",
      "\t0.1s = Fit runtime\n",
      "\t31 features in original data used to generate 31 features in processed data.\n",
      "\tTrain Data (Processed) Memory Usage: 0.22 MB (0.0% of available memory)\n",
      "Data preprocessing and feature engineering runtime = 0.15s ...\n",
      "AutoGluon will gauge predictive performance using evaluation metric: 'roc_auc'\n",
      "\tThis metric expects predicted probabilities rather than predicted class labels, so you'll need to use predict_proba() instead of predict()\n",
      "\tTo change this, specify the eval_metric parameter of Predictor()\n",
      "User-specified model hyperparameters to be fit:\n",
      "{\n",
      "\t'NN_TORCH': {},\n",
      "\t'GBM': [{'extra_trees': True, 'ag_args': {'name_suffix': 'XT'}}, {}, 'GBMLarge'],\n",
      "\t'CAT': {},\n",
      "\t'XGB': {},\n",
      "\t'FASTAI': {},\n",
      "\t'RF': [{'criterion': 'gini', 'ag_args': {'name_suffix': 'Gini', 'problem_types': ['binary', 'multiclass']}}, {'criterion': 'entropy', 'ag_args': {'name_suffix': 'Entr', 'problem_types': ['binary', 'multiclass']}}, {'criterion': 'squared_error', 'ag_args': {'name_suffix': 'MSE', 'problem_types': ['regression', 'quantile']}}],\n",
      "\t'XT': [{'criterion': 'gini', 'ag_args': {'name_suffix': 'Gini', 'problem_types': ['binary', 'multiclass']}}, {'criterion': 'entropy', 'ag_args': {'name_suffix': 'Entr', 'problem_types': ['binary', 'multiclass']}}, {'criterion': 'squared_error', 'ag_args': {'name_suffix': 'MSE', 'problem_types': ['regression', 'quantile']}}],\n",
      "\t'KNN': [{'weights': 'uniform', 'ag_args': {'name_suffix': 'Unif'}}, {'weights': 'distance', 'ag_args': {'name_suffix': 'Dist'}}],\n",
      "}\n",
      "Fitting 13 L1 models ...\n",
      "Fitting model: KNeighborsUnif_BAG_L1 ...\n",
      "\t0.6185\t = Validation score   (roc_auc)\n",
      "\t0.01s\t = Training   runtime\n",
      "\t0.21s\t = Validation runtime\n",
      "Fitting model: KNeighborsDist_BAG_L1 ...\n",
      "\t0.6173\t = Validation score   (roc_auc)\n",
      "\t0.01s\t = Training   runtime\n",
      "\t0.05s\t = Validation runtime\n",
      "Fitting model: LightGBMXT_BAG_L1 ...\n",
      "2024-07-09 11:05:30,504\tINFO util.py:154 -- Missing packages: ['ipywidgets']. Run `pip install -U ipywidgets`, then restart the notebook server for rich notebook output.\n",
      "\tFitting 5 child models (S1F1 - S1F5) | Fitting with ParallelLocalFoldFittingStrategy (5 workers, per: cpus=3, gpus=0, memory=0.05%)\n",
      "\t0.8309\t = Validation score   (roc_auc)\n",
      "\t1.06s\t = Training   runtime\n",
      "\t0.02s\t = Validation runtime\n",
      "Fitting model: LightGBM_BAG_L1 ...\n",
      "\tFitting 5 child models (S1F1 - S1F5) | Fitting with ParallelLocalFoldFittingStrategy (5 workers, per: cpus=3, gpus=0, memory=0.06%)\n",
      "\t0.7988\t = Validation score   (roc_auc)\n",
      "\t1.3s\t = Training   runtime\n",
      "\t0.03s\t = Validation runtime\n",
      "Fitting model: RandomForestGini_BAG_L1 ...\n",
      "\t0.8042\t = Validation score   (roc_auc)\n",
      "\t1.31s\t = Training   runtime\n",
      "\t0.13s\t = Validation runtime\n",
      "Fitting model: RandomForestEntr_BAG_L1 ...\n",
      "\t0.8121\t = Validation score   (roc_auc)\n",
      "\t0.7s\t = Training   runtime\n",
      "\t0.14s\t = Validation runtime\n",
      "Fitting model: CatBoost_BAG_L1 ...\n",
      "\tFitting 5 child models (S1F1 - S1F5) | Fitting with ParallelLocalFoldFittingStrategy (5 workers, per: cpus=3, gpus=0, memory=0.10%)\n",
      "\t0.8306\t = Validation score   (roc_auc)\n",
      "\t26.67s\t = Training   runtime\n",
      "\t0.05s\t = Validation runtime\n",
      "Fitting model: ExtraTreesGini_BAG_L1 ...\n",
      "\t0.8229\t = Validation score   (roc_auc)\n",
      "\t0.8s\t = Training   runtime\n",
      "\t0.14s\t = Validation runtime\n",
      "Fitting model: ExtraTreesEntr_BAG_L1 ...\n",
      "\t0.8241\t = Validation score   (roc_auc)\n",
      "\t0.71s\t = Training   runtime\n",
      "\t0.11s\t = Validation runtime\n",
      "Fitting model: NeuralNetFastAI_BAG_L1 ...\n",
      "\tFitting 5 child models (S1F1 - S1F5) | Fitting with ParallelLocalFoldFittingStrategy (5 workers, per: cpus=3, gpus=0, memory=0.02%)\n",
      "\t0.7722\t = Validation score   (roc_auc)\n",
      "\t9.14s\t = Training   runtime\n",
      "\t0.06s\t = Validation runtime\n",
      "Fitting model: XGBoost_BAG_L1 ...\n",
      "\tFitting 5 child models (S1F1 - S1F5) | Fitting with ParallelLocalFoldFittingStrategy (5 workers, per: cpus=3, gpus=0, memory=0.12%)\n",
      "\t0.8019\t = Validation score   (roc_auc)\n",
      "\t0.99s\t = Training   runtime\n",
      "\t0.06s\t = Validation runtime\n",
      "Fitting model: NeuralNetTorch_BAG_L1 ...\n",
      "\tFitting 5 child models (S1F1 - S1F5) | Fitting with ParallelLocalFoldFittingStrategy (5 workers, per: cpus=3, gpus=0, memory=0.01%)\n",
      "\t0.8301\t = Validation score   (roc_auc)\n",
      "\t12.22s\t = Training   runtime\n",
      "\t0.07s\t = Validation runtime\n",
      "Fitting model: LightGBMLarge_BAG_L1 ...\n",
      "\tFitting 5 child models (S1F1 - S1F5) | Fitting with ParallelLocalFoldFittingStrategy (5 workers, per: cpus=3, gpus=0, memory=0.20%)\n",
      "\t0.7821\t = Validation score   (roc_auc)\n",
      "\t1.99s\t = Training   runtime\n",
      "\t0.03s\t = Validation runtime\n",
      "Fitting model: WeightedEnsemble_L2 ...\n",
      "\tEnsemble Weights: {'NeuralNetTorch_BAG_L1': 0.235, 'CatBoost_BAG_L1': 0.176, 'KNeighborsUnif_BAG_L1': 0.118, 'LightGBMXT_BAG_L1': 0.118, 'ExtraTreesGini_BAG_L1': 0.118, 'NeuralNetFastAI_BAG_L1': 0.118, 'ExtraTreesEntr_BAG_L1': 0.059, 'LightGBMLarge_BAG_L1': 0.059}\n",
      "\t0.8553\t = Validation score   (roc_auc)\n",
      "\t0.19s\t = Training   runtime\n",
      "\t0.0s\t = Validation runtime\n",
      "AutoGluon training complete, total runtime = 88.23s ... Best model: WeightedEnsemble_L2 | Estimated inference throughput: 740.8 rows/s (236 batch size)\n",
      "TabularPredictor saved. To load, use: predictor = TabularPredictor.load(\"C:/DATA/class/output/model_人員資料\")\n"
     ]
    }
   ],
   "source": [
    "working_field = input_field.copy()\n",
    "working_field.append(target_field)\n",
    "model = TabularPredictor(label=target_field, eval_metric=eval_metric, path=model_path).fit(train_data=data[working_field],num_bag_folds=5)"
   ]
  },
  {
   "cell_type": "markdown",
   "id": "4c25ce9b",
   "metadata": {
    "id": "4c25ce9b"
   },
   "source": [
    "### <font color='blue'>最佳模型名稱</font>"
   ]
  },
  {
   "cell_type": "code",
   "execution_count": 10,
   "id": "bc5b4055",
   "metadata": {
    "colab": {
     "base_uri": "https://localhost:8080/",
     "height": 35
    },
    "executionInfo": {
     "elapsed": 11,
     "status": "ok",
     "timestamp": 1691136222519,
     "user": {
      "displayName": "Class上課資料",
      "userId": "18003802802776505350"
     },
     "user_tz": -480
    },
    "id": "bc5b4055",
    "outputId": "e341f65b-cf24-4153-f7bc-99ed303fd129"
   },
   "outputs": [
    {
     "name": "stderr",
     "output_type": "stream",
     "text": [
      "C:\\Users\\Clement\\AppData\\Local\\Temp\\ipykernel_6748\\183236305.py:1: DeprecationWarning: `get_model_best` has been deprecated and will be removed in version 1.2. Please use `model_best` instead. This will raise an error in the future!\n",
      "  model.get_model_best()\n"
     ]
    },
    {
     "data": {
      "text/plain": [
       "'WeightedEnsemble_L2'"
      ]
     },
     "execution_count": 10,
     "metadata": {},
     "output_type": "execute_result"
    }
   ],
   "source": [
    "model.get_model_best()"
   ]
  },
  {
   "cell_type": "markdown",
   "id": "9c8fb8ce",
   "metadata": {
    "id": "9c8fb8ce"
   },
   "source": [
    "### <font color='blue'>預測問題種類</font>"
   ]
  },
  {
   "cell_type": "code",
   "execution_count": 11,
   "id": "56e140a2",
   "metadata": {
    "colab": {
     "base_uri": "https://localhost:8080/",
     "height": 35
    },
    "executionInfo": {
     "elapsed": 9,
     "status": "ok",
     "timestamp": 1691136222519,
     "user": {
      "displayName": "Class上課資料",
      "userId": "18003802802776505350"
     },
     "user_tz": -480
    },
    "id": "56e140a2",
    "outputId": "8ab343f8-63d3-410d-caf4-bdedb7d6f118"
   },
   "outputs": [
    {
     "data": {
      "text/plain": [
       "'binary'"
      ]
     },
     "execution_count": 11,
     "metadata": {},
     "output_type": "execute_result"
    }
   ],
   "source": [
    "model.problem_type"
   ]
  },
  {
   "cell_type": "markdown",
   "id": "a1219b02",
   "metadata": {
    "id": "a1219b02"
   },
   "source": [
    "### <font color='blue'>評估指標</font>"
   ]
  },
  {
   "cell_type": "code",
   "execution_count": 12,
   "id": "416477f7",
   "metadata": {
    "colab": {
     "base_uri": "https://localhost:8080/"
    },
    "executionInfo": {
     "elapsed": 9,
     "status": "ok",
     "timestamp": 1691136222520,
     "user": {
      "displayName": "Class上課資料",
      "userId": "18003802802776505350"
     },
     "user_tz": -480
    },
    "id": "416477f7",
    "outputId": "bc2b454e-a18f-4d22-dd36-12775d5456cd"
   },
   "outputs": [
    {
     "data": {
      "text/plain": [
       "roc_auc"
      ]
     },
     "execution_count": 12,
     "metadata": {},
     "output_type": "execute_result"
    }
   ],
   "source": [
    "model.eval_metric"
   ]
  },
  {
   "cell_type": "markdown",
   "id": "a1ff2ecc",
   "metadata": {
    "id": "a1ff2ecc"
   },
   "source": [
    "### <font color='blue'>使用的演算法</font>"
   ]
  },
  {
   "cell_type": "code",
   "execution_count": 13,
   "id": "bf106ebf",
   "metadata": {
    "colab": {
     "base_uri": "https://localhost:8080/"
    },
    "executionInfo": {
     "elapsed": 7,
     "status": "ok",
     "timestamp": 1691136222520,
     "user": {
      "displayName": "Class上課資料",
      "userId": "18003802802776505350"
     },
     "user_tz": -480
    },
    "id": "bf106ebf",
    "outputId": "5cfcce06-a570-4d1d-87c0-fd07d58dbc03"
   },
   "outputs": [
    {
     "name": "stderr",
     "output_type": "stream",
     "text": [
      "C:\\Users\\Clement\\AppData\\Local\\Temp\\ipykernel_6748\\1728454282.py:1: DeprecationWarning: `get_model_names` has been deprecated and will be removed in version 1.2. Please use `model_names` instead. This will raise an error in the future!\n",
      "  model.get_model_names()\n"
     ]
    },
    {
     "data": {
      "text/plain": [
       "['KNeighborsUnif_BAG_L1',\n",
       " 'KNeighborsDist_BAG_L1',\n",
       " 'LightGBMXT_BAG_L1',\n",
       " 'LightGBM_BAG_L1',\n",
       " 'RandomForestGini_BAG_L1',\n",
       " 'RandomForestEntr_BAG_L1',\n",
       " 'CatBoost_BAG_L1',\n",
       " 'ExtraTreesGini_BAG_L1',\n",
       " 'ExtraTreesEntr_BAG_L1',\n",
       " 'NeuralNetFastAI_BAG_L1',\n",
       " 'XGBoost_BAG_L1',\n",
       " 'NeuralNetTorch_BAG_L1',\n",
       " 'LightGBMLarge_BAG_L1',\n",
       " 'WeightedEnsemble_L2']"
      ]
     },
     "execution_count": 13,
     "metadata": {},
     "output_type": "execute_result"
    }
   ],
   "source": [
    "model.get_model_names()"
   ]
  },
  {
   "cell_type": "markdown",
   "id": "34aa46d1",
   "metadata": {
    "id": "34aa46d1"
   },
   "source": [
    "### <font color='blue'>leaderboard</font>"
   ]
  },
  {
   "cell_type": "code",
   "execution_count": 14,
   "id": "fdeb39ef",
   "metadata": {
    "colab": {
     "base_uri": "https://localhost:8080/",
     "height": 532
    },
    "executionInfo": {
     "elapsed": 20938,
     "status": "ok",
     "timestamp": 1691136243452,
     "user": {
      "displayName": "Class上課資料",
      "userId": "18003802802776505350"
     },
     "user_tz": -480
    },
    "id": "fdeb39ef",
    "outputId": "22e35fa6-a07b-4eeb-8f83-932aa74a9184"
   },
   "outputs": [
    {
     "data": {
      "text/html": [
       "<div>\n",
       "<style scoped>\n",
       "    .dataframe tbody tr th:only-of-type {\n",
       "        vertical-align: middle;\n",
       "    }\n",
       "\n",
       "    .dataframe tbody tr th {\n",
       "        vertical-align: top;\n",
       "    }\n",
       "\n",
       "    .dataframe thead th {\n",
       "        text-align: right;\n",
       "    }\n",
       "</style>\n",
       "<table border=\"1\" class=\"dataframe\">\n",
       "  <thead>\n",
       "    <tr style=\"text-align: right;\">\n",
       "      <th></th>\n",
       "      <th>model</th>\n",
       "      <th>score_val</th>\n",
       "      <th>eval_metric</th>\n",
       "      <th>pred_time_val</th>\n",
       "      <th>fit_time</th>\n",
       "      <th>pred_time_val_marginal</th>\n",
       "      <th>fit_time_marginal</th>\n",
       "      <th>stack_level</th>\n",
       "      <th>can_infer</th>\n",
       "      <th>fit_order</th>\n",
       "    </tr>\n",
       "  </thead>\n",
       "  <tbody>\n",
       "    <tr>\n",
       "      <th>0</th>\n",
       "      <td>WeightedEnsemble_L2</td>\n",
       "      <td>0.855327</td>\n",
       "      <td>roc_auc</td>\n",
       "      <td>0.685423</td>\n",
       "      <td>52.778361</td>\n",
       "      <td>0.000000</td>\n",
       "      <td>0.190168</td>\n",
       "      <td>2</td>\n",
       "      <td>True</td>\n",
       "      <td>14</td>\n",
       "    </tr>\n",
       "    <tr>\n",
       "      <th>1</th>\n",
       "      <td>LightGBMXT_BAG_L1</td>\n",
       "      <td>0.830906</td>\n",
       "      <td>roc_auc</td>\n",
       "      <td>0.019982</td>\n",
       "      <td>1.058642</td>\n",
       "      <td>0.019982</td>\n",
       "      <td>1.058642</td>\n",
       "      <td>1</td>\n",
       "      <td>True</td>\n",
       "      <td>3</td>\n",
       "    </tr>\n",
       "    <tr>\n",
       "      <th>2</th>\n",
       "      <td>CatBoost_BAG_L1</td>\n",
       "      <td>0.830596</td>\n",
       "      <td>roc_auc</td>\n",
       "      <td>0.045096</td>\n",
       "      <td>26.668824</td>\n",
       "      <td>0.045096</td>\n",
       "      <td>26.668824</td>\n",
       "      <td>1</td>\n",
       "      <td>True</td>\n",
       "      <td>7</td>\n",
       "    </tr>\n",
       "    <tr>\n",
       "      <th>3</th>\n",
       "      <td>NeuralNetTorch_BAG_L1</td>\n",
       "      <td>0.830137</td>\n",
       "      <td>roc_auc</td>\n",
       "      <td>0.072208</td>\n",
       "      <td>12.215005</td>\n",
       "      <td>0.072208</td>\n",
       "      <td>12.215005</td>\n",
       "      <td>1</td>\n",
       "      <td>True</td>\n",
       "      <td>12</td>\n",
       "    </tr>\n",
       "    <tr>\n",
       "      <th>4</th>\n",
       "      <td>ExtraTreesEntr_BAG_L1</td>\n",
       "      <td>0.824087</td>\n",
       "      <td>roc_auc</td>\n",
       "      <td>0.109422</td>\n",
       "      <td>0.709230</td>\n",
       "      <td>0.109422</td>\n",
       "      <td>0.709230</td>\n",
       "      <td>1</td>\n",
       "      <td>True</td>\n",
       "      <td>9</td>\n",
       "    </tr>\n",
       "    <tr>\n",
       "      <th>5</th>\n",
       "      <td>ExtraTreesGini_BAG_L1</td>\n",
       "      <td>0.822933</td>\n",
       "      <td>roc_auc</td>\n",
       "      <td>0.140623</td>\n",
       "      <td>0.804193</td>\n",
       "      <td>0.140623</td>\n",
       "      <td>0.804193</td>\n",
       "      <td>1</td>\n",
       "      <td>True</td>\n",
       "      <td>8</td>\n",
       "    </tr>\n",
       "    <tr>\n",
       "      <th>6</th>\n",
       "      <td>RandomForestEntr_BAG_L1</td>\n",
       "      <td>0.812057</td>\n",
       "      <td>roc_auc</td>\n",
       "      <td>0.141037</td>\n",
       "      <td>0.696131</td>\n",
       "      <td>0.141037</td>\n",
       "      <td>0.696131</td>\n",
       "      <td>1</td>\n",
       "      <td>True</td>\n",
       "      <td>6</td>\n",
       "    </tr>\n",
       "    <tr>\n",
       "      <th>7</th>\n",
       "      <td>RandomForestGini_BAG_L1</td>\n",
       "      <td>0.804164</td>\n",
       "      <td>roc_auc</td>\n",
       "      <td>0.133657</td>\n",
       "      <td>1.309741</td>\n",
       "      <td>0.133657</td>\n",
       "      <td>1.309741</td>\n",
       "      <td>1</td>\n",
       "      <td>True</td>\n",
       "      <td>5</td>\n",
       "    </tr>\n",
       "    <tr>\n",
       "      <th>8</th>\n",
       "      <td>XGBoost_BAG_L1</td>\n",
       "      <td>0.801907</td>\n",
       "      <td>roc_auc</td>\n",
       "      <td>0.064552</td>\n",
       "      <td>0.991846</td>\n",
       "      <td>0.064552</td>\n",
       "      <td>0.991846</td>\n",
       "      <td>1</td>\n",
       "      <td>True</td>\n",
       "      <td>11</td>\n",
       "    </tr>\n",
       "    <tr>\n",
       "      <th>9</th>\n",
       "      <td>LightGBM_BAG_L1</td>\n",
       "      <td>0.798847</td>\n",
       "      <td>roc_auc</td>\n",
       "      <td>0.033069</td>\n",
       "      <td>1.302102</td>\n",
       "      <td>0.033069</td>\n",
       "      <td>1.302102</td>\n",
       "      <td>1</td>\n",
       "      <td>True</td>\n",
       "      <td>4</td>\n",
       "    </tr>\n",
       "    <tr>\n",
       "      <th>10</th>\n",
       "      <td>LightGBMLarge_BAG_L1</td>\n",
       "      <td>0.782064</td>\n",
       "      <td>roc_auc</td>\n",
       "      <td>0.026201</td>\n",
       "      <td>1.989599</td>\n",
       "      <td>0.026201</td>\n",
       "      <td>1.989599</td>\n",
       "      <td>1</td>\n",
       "      <td>True</td>\n",
       "      <td>13</td>\n",
       "    </tr>\n",
       "    <tr>\n",
       "      <th>11</th>\n",
       "      <td>NeuralNetFastAI_BAG_L1</td>\n",
       "      <td>0.772237</td>\n",
       "      <td>roc_auc</td>\n",
       "      <td>0.062977</td>\n",
       "      <td>9.137283</td>\n",
       "      <td>0.062977</td>\n",
       "      <td>9.137283</td>\n",
       "      <td>1</td>\n",
       "      <td>True</td>\n",
       "      <td>10</td>\n",
       "    </tr>\n",
       "    <tr>\n",
       "      <th>12</th>\n",
       "      <td>KNeighborsUnif_BAG_L1</td>\n",
       "      <td>0.618488</td>\n",
       "      <td>roc_auc</td>\n",
       "      <td>0.208913</td>\n",
       "      <td>0.005417</td>\n",
       "      <td>0.208913</td>\n",
       "      <td>0.005417</td>\n",
       "      <td>1</td>\n",
       "      <td>True</td>\n",
       "      <td>1</td>\n",
       "    </tr>\n",
       "    <tr>\n",
       "      <th>13</th>\n",
       "      <td>KNeighborsDist_BAG_L1</td>\n",
       "      <td>0.617344</td>\n",
       "      <td>roc_auc</td>\n",
       "      <td>0.047677</td>\n",
       "      <td>0.012229</td>\n",
       "      <td>0.047677</td>\n",
       "      <td>0.012229</td>\n",
       "      <td>1</td>\n",
       "      <td>True</td>\n",
       "      <td>2</td>\n",
       "    </tr>\n",
       "  </tbody>\n",
       "</table>\n",
       "</div>"
      ],
      "text/plain": [
       "                      model  score_val eval_metric  pred_time_val   fit_time  \\\n",
       "0       WeightedEnsemble_L2   0.855327     roc_auc       0.685423  52.778361   \n",
       "1         LightGBMXT_BAG_L1   0.830906     roc_auc       0.019982   1.058642   \n",
       "2           CatBoost_BAG_L1   0.830596     roc_auc       0.045096  26.668824   \n",
       "3     NeuralNetTorch_BAG_L1   0.830137     roc_auc       0.072208  12.215005   \n",
       "4     ExtraTreesEntr_BAG_L1   0.824087     roc_auc       0.109422   0.709230   \n",
       "5     ExtraTreesGini_BAG_L1   0.822933     roc_auc       0.140623   0.804193   \n",
       "6   RandomForestEntr_BAG_L1   0.812057     roc_auc       0.141037   0.696131   \n",
       "7   RandomForestGini_BAG_L1   0.804164     roc_auc       0.133657   1.309741   \n",
       "8            XGBoost_BAG_L1   0.801907     roc_auc       0.064552   0.991846   \n",
       "9           LightGBM_BAG_L1   0.798847     roc_auc       0.033069   1.302102   \n",
       "10     LightGBMLarge_BAG_L1   0.782064     roc_auc       0.026201   1.989599   \n",
       "11   NeuralNetFastAI_BAG_L1   0.772237     roc_auc       0.062977   9.137283   \n",
       "12    KNeighborsUnif_BAG_L1   0.618488     roc_auc       0.208913   0.005417   \n",
       "13    KNeighborsDist_BAG_L1   0.617344     roc_auc       0.047677   0.012229   \n",
       "\n",
       "    pred_time_val_marginal  fit_time_marginal  stack_level  can_infer  \\\n",
       "0                 0.000000           0.190168            2       True   \n",
       "1                 0.019982           1.058642            1       True   \n",
       "2                 0.045096          26.668824            1       True   \n",
       "3                 0.072208          12.215005            1       True   \n",
       "4                 0.109422           0.709230            1       True   \n",
       "5                 0.140623           0.804193            1       True   \n",
       "6                 0.141037           0.696131            1       True   \n",
       "7                 0.133657           1.309741            1       True   \n",
       "8                 0.064552           0.991846            1       True   \n",
       "9                 0.033069           1.302102            1       True   \n",
       "10                0.026201           1.989599            1       True   \n",
       "11                0.062977           9.137283            1       True   \n",
       "12                0.208913           0.005417            1       True   \n",
       "13                0.047677           0.012229            1       True   \n",
       "\n",
       "    fit_order  \n",
       "0          14  \n",
       "1           3  \n",
       "2           7  \n",
       "3          12  \n",
       "4           9  \n",
       "5           8  \n",
       "6           6  \n",
       "7           5  \n",
       "8          11  \n",
       "9           4  \n",
       "10         13  \n",
       "11         10  \n",
       "12          1  \n",
       "13          2  "
      ]
     },
     "execution_count": 14,
     "metadata": {},
     "output_type": "execute_result"
    }
   ],
   "source": [
    "leaderboard = model.leaderboard(extra_info=True, silent=True)\n",
    "leaderboard.to_excel(leaderboard_filename)\n",
    "model.leaderboard(silent=True)"
   ]
  },
  {
   "cell_type": "markdown",
   "id": "e097cb59",
   "metadata": {
    "id": "e097cb59"
   },
   "source": [
    "# 輸出預測結果"
   ]
  },
  {
   "cell_type": "code",
   "execution_count": 16,
   "id": "829c2f99",
   "metadata": {
    "executionInfo": {
     "elapsed": 2771,
     "status": "ok",
     "timestamp": 1691136246209,
     "user": {
      "displayName": "Class上課資料",
      "userId": "18003802802776505350"
     },
     "user_tz": -480
    },
    "id": "829c2f99"
   },
   "outputs": [],
   "source": [
    "if (model.problem_type != 'regression'):\n",
    "  prediction_p = model.predict_proba(data)\n",
    "prediction = model.predict(data)"
   ]
  },
  {
   "cell_type": "code",
   "execution_count": 17,
   "id": "d8cce617",
   "metadata": {
    "executionInfo": {
     "elapsed": 778,
     "status": "ok",
     "timestamp": 1691136246985,
     "user": {
      "displayName": "Class上課資料",
      "userId": "18003802802776505350"
     },
     "user_tz": -480
    },
    "id": "d8cce617"
   },
   "outputs": [],
   "source": [
    "pred_data = data.copy()\n",
    "pred_data['預測結果'] = prediction\n",
    "pred_data = pd.concat([pred_data,prediction_p], axis=1, join='inner')\n",
    "pred_data.to_excel(prediction_filename)"
   ]
  },
  {
   "cell_type": "markdown",
   "id": "bd303b30",
   "metadata": {
    "id": "bd303b30"
   },
   "source": [
    "# 儲存模型"
   ]
  },
  {
   "cell_type": "code",
   "execution_count": 18,
   "id": "61d7cbd2",
   "metadata": {
    "executionInfo": {
     "elapsed": 3,
     "status": "ok",
     "timestamp": 1691136246985,
     "user": {
      "displayName": "Class上課資料",
      "userId": "18003802802776505350"
     },
     "user_tz": -480
    },
    "id": "61d7cbd2"
   },
   "outputs": [],
   "source": [
    "import pickle\n",
    "\n",
    "result = {}\n",
    "result['input_field'] = input_field\n",
    "result['target_field'] = target_field\n",
    "\n",
    "with open(model_path+'/used_field.bin', 'wb') as handle:\n",
    "    pickle.dump(result, handle)"
   ]
  },
  {
   "cell_type": "code",
   "execution_count": 19,
   "id": "KqQEvJyfy2L8",
   "metadata": {
    "colab": {
     "base_uri": "https://localhost:8080/"
    },
    "executionInfo": {
     "elapsed": 445,
     "status": "ok",
     "timestamp": 1691136247428,
     "user": {
      "displayName": "Class上課資料",
      "userId": "18003802802776505350"
     },
     "user_tz": -480
    },
    "id": "KqQEvJyfy2L8",
    "outputId": "7660f613-8e6f-4c76-b2a7-99c891cde4e2"
   },
   "outputs": [
    {
     "name": "stderr",
     "output_type": "stream",
     "text": [
      "TabularPredictor saved. To load, use: predictor = TabularPredictor.load(\"C:/DATA/class/output/model_人員資料\")\n"
     ]
    }
   ],
   "source": [
    "model.save()"
   ]
  },
  {
   "cell_type": "markdown",
   "id": "205c5a08",
   "metadata": {
    "id": "205c5a08"
   },
   "source": [
    "# 欄位重要性"
   ]
  },
  {
   "cell_type": "code",
   "execution_count": 20,
   "id": "6400c75d",
   "metadata": {
    "colab": {
     "base_uri": "https://localhost:8080/",
     "height": 0
    },
    "executionInfo": {
     "elapsed": 96477,
     "status": "ok",
     "timestamp": 1691136343902,
     "user": {
      "displayName": "Class上課資料",
      "userId": "18003802802776505350"
     },
     "user_tz": -480
    },
    "id": "6400c75d",
    "outputId": "a432a116-6e35-4d18-c7c0-47fc3db3c1c0"
   },
   "outputs": [
    {
     "name": "stderr",
     "output_type": "stream",
     "text": [
      "These features in provided data are not utilized by the predictor and will be ignored: ['是否為成年人(Over18)', '標準工作時間(StandardHours)']\n",
      "Computing feature importance via permutation shuffling for 31 features using 1176 rows with 5 shuffle sets...\n",
      "\t113.06s\t= Expected runtime (22.61s per shuffle set)\n",
      "\t30.04s\t= Actual runtime (Completed 5 of 5 shuffle sets)\n"
     ]
    },
    {
     "data": {
      "text/html": [
       "<div>\n",
       "<style scoped>\n",
       "    .dataframe tbody tr th:only-of-type {\n",
       "        vertical-align: middle;\n",
       "    }\n",
       "\n",
       "    .dataframe tbody tr th {\n",
       "        vertical-align: top;\n",
       "    }\n",
       "\n",
       "    .dataframe thead th {\n",
       "        text-align: right;\n",
       "    }\n",
       "</style>\n",
       "<table border=\"1\" class=\"dataframe\">\n",
       "  <thead>\n",
       "    <tr style=\"text-align: right;\">\n",
       "      <th></th>\n",
       "      <th>importance</th>\n",
       "      <th>stddev</th>\n",
       "      <th>p_value</th>\n",
       "      <th>n</th>\n",
       "      <th>p99_high</th>\n",
       "      <th>p99_low</th>\n",
       "    </tr>\n",
       "  </thead>\n",
       "  <tbody>\n",
       "    <tr>\n",
       "      <th>加班(OverTime)</th>\n",
       "      <td>0.044591</td>\n",
       "      <td>0.004195</td>\n",
       "      <td>0.000009</td>\n",
       "      <td>5</td>\n",
       "      <td>0.053230</td>\n",
       "      <td>0.035953</td>\n",
       "    </tr>\n",
       "    <tr>\n",
       "      <th>過去工作公司家數(NumCompaniesWorked)</th>\n",
       "      <td>0.005541</td>\n",
       "      <td>0.001070</td>\n",
       "      <td>0.000159</td>\n",
       "      <td>5</td>\n",
       "      <td>0.007745</td>\n",
       "      <td>0.003337</td>\n",
       "    </tr>\n",
       "    <tr>\n",
       "      <th>工作滿意度(JobSatisfaction)</th>\n",
       "      <td>0.004441</td>\n",
       "      <td>0.001188</td>\n",
       "      <td>0.000560</td>\n",
       "      <td>5</td>\n",
       "      <td>0.006888</td>\n",
       "      <td>0.001995</td>\n",
       "    </tr>\n",
       "    <tr>\n",
       "      <th>通勤距離(DistanceFromHome)</th>\n",
       "      <td>0.003663</td>\n",
       "      <td>0.000518</td>\n",
       "      <td>0.000047</td>\n",
       "      <td>5</td>\n",
       "      <td>0.004729</td>\n",
       "      <td>0.002598</td>\n",
       "    </tr>\n",
       "    <tr>\n",
       "      <th>月收入(MonthlyIncome)</th>\n",
       "      <td>0.003565</td>\n",
       "      <td>0.000492</td>\n",
       "      <td>0.000043</td>\n",
       "      <td>5</td>\n",
       "      <td>0.004579</td>\n",
       "      <td>0.002552</td>\n",
       "    </tr>\n",
       "    <tr>\n",
       "      <th>工作環境滿意度(EnvironmentSatisfaction)</th>\n",
       "      <td>0.003557</td>\n",
       "      <td>0.000609</td>\n",
       "      <td>0.000099</td>\n",
       "      <td>5</td>\n",
       "      <td>0.004811</td>\n",
       "      <td>0.002303</td>\n",
       "    </tr>\n",
       "    <tr>\n",
       "      <th>在該職等工作年資(YearsSinceLastPromotion)</th>\n",
       "      <td>0.003123</td>\n",
       "      <td>0.000482</td>\n",
       "      <td>0.000066</td>\n",
       "      <td>5</td>\n",
       "      <td>0.004116</td>\n",
       "      <td>0.002131</td>\n",
       "    </tr>\n",
       "    <tr>\n",
       "      <th>股票選擇權等級(StockOptionLevel)</th>\n",
       "      <td>0.003029</td>\n",
       "      <td>0.000470</td>\n",
       "      <td>0.000067</td>\n",
       "      <td>5</td>\n",
       "      <td>0.003997</td>\n",
       "      <td>0.002062</td>\n",
       "    </tr>\n",
       "    <tr>\n",
       "      <th>職位名稱(JobRole)</th>\n",
       "      <td>0.002831</td>\n",
       "      <td>0.000473</td>\n",
       "      <td>0.000090</td>\n",
       "      <td>5</td>\n",
       "      <td>0.003806</td>\n",
       "      <td>0.001856</td>\n",
       "    </tr>\n",
       "    <tr>\n",
       "      <th>出差頻率(BusinessTravel)</th>\n",
       "      <td>0.002784</td>\n",
       "      <td>0.000350</td>\n",
       "      <td>0.000029</td>\n",
       "      <td>5</td>\n",
       "      <td>0.003505</td>\n",
       "      <td>0.002064</td>\n",
       "    </tr>\n",
       "    <tr>\n",
       "      <th>月費率(MonthlyRate)</th>\n",
       "      <td>0.002580</td>\n",
       "      <td>0.000479</td>\n",
       "      <td>0.000137</td>\n",
       "      <td>5</td>\n",
       "      <td>0.003567</td>\n",
       "      <td>0.001593</td>\n",
       "    </tr>\n",
       "    <tr>\n",
       "      <th>婚姻狀態(MaritalStatus)</th>\n",
       "      <td>0.002507</td>\n",
       "      <td>0.000804</td>\n",
       "      <td>0.001111</td>\n",
       "      <td>5</td>\n",
       "      <td>0.004161</td>\n",
       "      <td>0.000852</td>\n",
       "    </tr>\n",
       "    <tr>\n",
       "      <th>工作投入(JobInvolvement)</th>\n",
       "      <td>0.002121</td>\n",
       "      <td>0.000520</td>\n",
       "      <td>0.000401</td>\n",
       "      <td>5</td>\n",
       "      <td>0.003192</td>\n",
       "      <td>0.001050</td>\n",
       "    </tr>\n",
       "    <tr>\n",
       "      <th>職位等級(JobLevel)</th>\n",
       "      <td>0.002006</td>\n",
       "      <td>0.000749</td>\n",
       "      <td>0.001953</td>\n",
       "      <td>5</td>\n",
       "      <td>0.003547</td>\n",
       "      <td>0.000464</td>\n",
       "    </tr>\n",
       "    <tr>\n",
       "      <th>每日工資額(DailyRate)</th>\n",
       "      <td>0.002005</td>\n",
       "      <td>0.000371</td>\n",
       "      <td>0.000134</td>\n",
       "      <td>5</td>\n",
       "      <td>0.002768</td>\n",
       "      <td>0.001241</td>\n",
       "    </tr>\n",
       "    <tr>\n",
       "      <th>人際關係滿意度(RelationshipSatisfaction)</th>\n",
       "      <td>0.001990</td>\n",
       "      <td>0.000210</td>\n",
       "      <td>0.000015</td>\n",
       "      <td>5</td>\n",
       "      <td>0.002423</td>\n",
       "      <td>0.001558</td>\n",
       "    </tr>\n",
       "    <tr>\n",
       "      <th>工作生活平衡(WorkLifeBalance)</th>\n",
       "      <td>0.001970</td>\n",
       "      <td>0.000370</td>\n",
       "      <td>0.000142</td>\n",
       "      <td>5</td>\n",
       "      <td>0.002731</td>\n",
       "      <td>0.001208</td>\n",
       "    </tr>\n",
       "    <tr>\n",
       "      <th>部門(Department)</th>\n",
       "      <td>0.001812</td>\n",
       "      <td>0.000379</td>\n",
       "      <td>0.000217</td>\n",
       "      <td>5</td>\n",
       "      <td>0.002592</td>\n",
       "      <td>0.001031</td>\n",
       "    </tr>\n",
       "    <tr>\n",
       "      <th>教育專業領域(EducationField)</th>\n",
       "      <td>0.001781</td>\n",
       "      <td>0.000190</td>\n",
       "      <td>0.000015</td>\n",
       "      <td>5</td>\n",
       "      <td>0.002172</td>\n",
       "      <td>0.001389</td>\n",
       "    </tr>\n",
       "    <tr>\n",
       "      <th>員工編號(EmployeeNumber)</th>\n",
       "      <td>0.001704</td>\n",
       "      <td>0.000189</td>\n",
       "      <td>0.000018</td>\n",
       "      <td>5</td>\n",
       "      <td>0.002093</td>\n",
       "      <td>0.001315</td>\n",
       "    </tr>\n",
       "    <tr>\n",
       "      <th>性別(Gender)</th>\n",
       "      <td>0.001668</td>\n",
       "      <td>0.000189</td>\n",
       "      <td>0.000019</td>\n",
       "      <td>5</td>\n",
       "      <td>0.002056</td>\n",
       "      <td>0.001280</td>\n",
       "    </tr>\n",
       "    <tr>\n",
       "      <th>年齡(Age)</th>\n",
       "      <td>0.001605</td>\n",
       "      <td>0.000257</td>\n",
       "      <td>0.000077</td>\n",
       "      <td>5</td>\n",
       "      <td>0.002135</td>\n",
       "      <td>0.001075</td>\n",
       "    </tr>\n",
       "    <tr>\n",
       "      <th>在該公司工作總年資(YearsAtCompany)</th>\n",
       "      <td>0.001378</td>\n",
       "      <td>0.000269</td>\n",
       "      <td>0.000165</td>\n",
       "      <td>5</td>\n",
       "      <td>0.001931</td>\n",
       "      <td>0.000825</td>\n",
       "    </tr>\n",
       "    <tr>\n",
       "      <th>與現任管理者工作年資(YearsWithCurrManager)</th>\n",
       "      <td>0.001363</td>\n",
       "      <td>0.000231</td>\n",
       "      <td>0.000095</td>\n",
       "      <td>5</td>\n",
       "      <td>0.001838</td>\n",
       "      <td>0.000888</td>\n",
       "    </tr>\n",
       "    <tr>\n",
       "      <th>去年訓練時間(TrainingTimesLastYear)</th>\n",
       "      <td>0.001346</td>\n",
       "      <td>0.000246</td>\n",
       "      <td>0.000129</td>\n",
       "      <td>5</td>\n",
       "      <td>0.001853</td>\n",
       "      <td>0.000838</td>\n",
       "    </tr>\n",
       "    <tr>\n",
       "      <th>每小時工資額(HourlyRate)</th>\n",
       "      <td>0.001339</td>\n",
       "      <td>0.000183</td>\n",
       "      <td>0.000041</td>\n",
       "      <td>5</td>\n",
       "      <td>0.001715</td>\n",
       "      <td>0.000962</td>\n",
       "    </tr>\n",
       "    <tr>\n",
       "      <th>教育程度(Education)</th>\n",
       "      <td>0.001152</td>\n",
       "      <td>0.000099</td>\n",
       "      <td>0.000007</td>\n",
       "      <td>5</td>\n",
       "      <td>0.001356</td>\n",
       "      <td>0.000947</td>\n",
       "    </tr>\n",
       "    <tr>\n",
       "      <th>在該職位工作年資(YearsInCurrentRole)</th>\n",
       "      <td>0.001135</td>\n",
       "      <td>0.000179</td>\n",
       "      <td>0.000072</td>\n",
       "      <td>5</td>\n",
       "      <td>0.001504</td>\n",
       "      <td>0.000767</td>\n",
       "    </tr>\n",
       "    <tr>\n",
       "      <th>調薪百分比(PercentSalaryHike)</th>\n",
       "      <td>0.001091</td>\n",
       "      <td>0.000130</td>\n",
       "      <td>0.000023</td>\n",
       "      <td>5</td>\n",
       "      <td>0.001357</td>\n",
       "      <td>0.000824</td>\n",
       "    </tr>\n",
       "    <tr>\n",
       "      <th>總工作年資(TotalWorkingYears)</th>\n",
       "      <td>0.000887</td>\n",
       "      <td>0.000123</td>\n",
       "      <td>0.000043</td>\n",
       "      <td>5</td>\n",
       "      <td>0.001141</td>\n",
       "      <td>0.000634</td>\n",
       "    </tr>\n",
       "    <tr>\n",
       "      <th>績效評估(PerformanceRating)</th>\n",
       "      <td>0.000326</td>\n",
       "      <td>0.000081</td>\n",
       "      <td>0.000421</td>\n",
       "      <td>5</td>\n",
       "      <td>0.000493</td>\n",
       "      <td>0.000160</td>\n",
       "    </tr>\n",
       "  </tbody>\n",
       "</table>\n",
       "</div>"
      ],
      "text/plain": [
       "                                   importance    stddev   p_value  n  \\\n",
       "加班(OverTime)                         0.044591  0.004195  0.000009  5   \n",
       "過去工作公司家數(NumCompaniesWorked)         0.005541  0.001070  0.000159  5   \n",
       "工作滿意度(JobSatisfaction)               0.004441  0.001188  0.000560  5   \n",
       "通勤距離(DistanceFromHome)               0.003663  0.000518  0.000047  5   \n",
       "月收入(MonthlyIncome)                   0.003565  0.000492  0.000043  5   \n",
       "工作環境滿意度(EnvironmentSatisfaction)     0.003557  0.000609  0.000099  5   \n",
       "在該職等工作年資(YearsSinceLastPromotion)    0.003123  0.000482  0.000066  5   \n",
       "股票選擇權等級(StockOptionLevel)            0.003029  0.000470  0.000067  5   \n",
       "職位名稱(JobRole)                        0.002831  0.000473  0.000090  5   \n",
       "出差頻率(BusinessTravel)                 0.002784  0.000350  0.000029  5   \n",
       "月費率(MonthlyRate)                     0.002580  0.000479  0.000137  5   \n",
       "婚姻狀態(MaritalStatus)                  0.002507  0.000804  0.001111  5   \n",
       "工作投入(JobInvolvement)                 0.002121  0.000520  0.000401  5   \n",
       "職位等級(JobLevel)                       0.002006  0.000749  0.001953  5   \n",
       "每日工資額(DailyRate)                     0.002005  0.000371  0.000134  5   \n",
       "人際關係滿意度(RelationshipSatisfaction)    0.001990  0.000210  0.000015  5   \n",
       "工作生活平衡(WorkLifeBalance)              0.001970  0.000370  0.000142  5   \n",
       "部門(Department)                       0.001812  0.000379  0.000217  5   \n",
       "教育專業領域(EducationField)               0.001781  0.000190  0.000015  5   \n",
       "員工編號(EmployeeNumber)                 0.001704  0.000189  0.000018  5   \n",
       "性別(Gender)                           0.001668  0.000189  0.000019  5   \n",
       "年齡(Age)                              0.001605  0.000257  0.000077  5   \n",
       "在該公司工作總年資(YearsAtCompany)            0.001378  0.000269  0.000165  5   \n",
       "與現任管理者工作年資(YearsWithCurrManager)     0.001363  0.000231  0.000095  5   \n",
       "去年訓練時間(TrainingTimesLastYear)        0.001346  0.000246  0.000129  5   \n",
       "每小時工資額(HourlyRate)                   0.001339  0.000183  0.000041  5   \n",
       "教育程度(Education)                      0.001152  0.000099  0.000007  5   \n",
       "在該職位工作年資(YearsInCurrentRole)         0.001135  0.000179  0.000072  5   \n",
       "調薪百分比(PercentSalaryHike)             0.001091  0.000130  0.000023  5   \n",
       "總工作年資(TotalWorkingYears)             0.000887  0.000123  0.000043  5   \n",
       "績效評估(PerformanceRating)              0.000326  0.000081  0.000421  5   \n",
       "\n",
       "                                   p99_high   p99_low  \n",
       "加班(OverTime)                       0.053230  0.035953  \n",
       "過去工作公司家數(NumCompaniesWorked)       0.007745  0.003337  \n",
       "工作滿意度(JobSatisfaction)             0.006888  0.001995  \n",
       "通勤距離(DistanceFromHome)             0.004729  0.002598  \n",
       "月收入(MonthlyIncome)                 0.004579  0.002552  \n",
       "工作環境滿意度(EnvironmentSatisfaction)   0.004811  0.002303  \n",
       "在該職等工作年資(YearsSinceLastPromotion)  0.004116  0.002131  \n",
       "股票選擇權等級(StockOptionLevel)          0.003997  0.002062  \n",
       "職位名稱(JobRole)                      0.003806  0.001856  \n",
       "出差頻率(BusinessTravel)               0.003505  0.002064  \n",
       "月費率(MonthlyRate)                   0.003567  0.001593  \n",
       "婚姻狀態(MaritalStatus)                0.004161  0.000852  \n",
       "工作投入(JobInvolvement)               0.003192  0.001050  \n",
       "職位等級(JobLevel)                     0.003547  0.000464  \n",
       "每日工資額(DailyRate)                   0.002768  0.001241  \n",
       "人際關係滿意度(RelationshipSatisfaction)  0.002423  0.001558  \n",
       "工作生活平衡(WorkLifeBalance)            0.002731  0.001208  \n",
       "部門(Department)                     0.002592  0.001031  \n",
       "教育專業領域(EducationField)             0.002172  0.001389  \n",
       "員工編號(EmployeeNumber)               0.002093  0.001315  \n",
       "性別(Gender)                         0.002056  0.001280  \n",
       "年齡(Age)                            0.002135  0.001075  \n",
       "在該公司工作總年資(YearsAtCompany)          0.001931  0.000825  \n",
       "與現任管理者工作年資(YearsWithCurrManager)   0.001838  0.000888  \n",
       "去年訓練時間(TrainingTimesLastYear)      0.001853  0.000838  \n",
       "每小時工資額(HourlyRate)                 0.001715  0.000962  \n",
       "教育程度(Education)                    0.001356  0.000947  \n",
       "在該職位工作年資(YearsInCurrentRole)       0.001504  0.000767  \n",
       "調薪百分比(PercentSalaryHike)           0.001357  0.000824  \n",
       "總工作年資(TotalWorkingYears)           0.001141  0.000634  \n",
       "績效評估(PerformanceRating)            0.000493  0.000160  "
      ]
     },
     "execution_count": 20,
     "metadata": {},
     "output_type": "execute_result"
    }
   ],
   "source": [
    "model.feature_importance(data)"
   ]
  }
 ],
 "metadata": {
  "colab": {
   "provenance": []
  },
  "kernelspec": {
   "display_name": "Python 3 (ipykernel)",
   "language": "python",
   "name": "python3"
  },
  "language_info": {
   "codemirror_mode": {
    "name": "ipython",
    "version": 3
   },
   "file_extension": ".py",
   "mimetype": "text/x-python",
   "name": "python",
   "nbconvert_exporter": "python",
   "pygments_lexer": "ipython3",
   "version": "3.12.3"
  }
 },
 "nbformat": 4,
 "nbformat_minor": 5
}
