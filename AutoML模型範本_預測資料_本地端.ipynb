{
 "cells": [
  {
   "cell_type": "markdown",
   "id": "d9942ee5",
   "metadata": {
    "id": "d9942ee5"
   },
   "source": [
    "Author: Clement Chen</br>\n",
    "E-Mail: clement1972@gmail.com</br>\n",
    "https://sites.google.com/site/clement1972/</br>"
   ]
  },
  {
   "cell_type": "markdown",
   "id": "fcfb73f6",
   "metadata": {
    "id": "fcfb73f6"
   },
   "source": [
    "# 參數設定"
   ]
  },
  {
   "cell_type": "markdown",
   "id": "9df581e2",
   "metadata": {
    "id": "9df581e2"
   },
   "source": [
    "### <font color='red'>請修改下面的參數</font>"
   ]
  },
  {
   "cell_type": "code",
   "execution_count": 1,
   "id": "7c2f68bc",
   "metadata": {
    "executionInfo": {
     "elapsed": 4,
     "status": "ok",
     "timestamp": 1691133285926,
     "user": {
      "displayName": "Class上課資料",
      "userId": "18003802802776505350"
     },
     "user_tz": -480
    },
    "id": "7c2f68bc"
   },
   "outputs": [],
   "source": [
    "# eval_metric 評估指標\n",
    "# options for classification:\n",
    "#  ['accuracy', 'balanced_accuracy', 'f1', 'f1_macro', 'f1_micro', 'f1_weighted',\n",
    "#  'roc_auc', 'roc_auc_ovo_macro', 'average_precision', 'precision', 'precision_macro',\n",
    "#  'precision_micro', 'precision_weighted', 'recall', 'recall_macro', 'recall_micro',\n",
    "# 'recall_weighted', 'log_loss', 'pac_score']\n",
    "#\n",
    "# Options for regression:\n",
    "#  ['root_mean_squared_error', 'mean_squared_error', 'mean_absolute_error',\n",
    "#  'median_absolute_error', 'mean_absolute_percentage_error','r2']\n",
    "eval_metric = 'roc_auc'\n",
    "# eval_metric = 'r2'\n",
    "\n",
    "# data_filename 預測資料來源的檔名\n",
    "data_filename = 'C:/DATA/class/data/人員資料_test.xlsx'\n",
    "\n",
    "# prediction_filename 模型預測結果的檔名\n",
    "prediction_filename = 'C:/DATA/class/output/人員資料_test_prediction.xlsx'\n",
    "\n",
    "# model_path 模型儲存資料夾\n",
    "model_path = 'C:/DATA/class/output/model_人員資料'\n"
   ]
  },
  {
   "cell_type": "markdown",
   "id": "8e67f00d",
   "metadata": {
    "id": "8e67f00d"
   },
   "source": [
    "### 環境設定"
   ]
  },
  {
   "cell_type": "markdown",
   "id": "f62ac1cf",
   "metadata": {
    "id": "f62ac1cf"
   },
   "source": [
    "### 載入資料"
   ]
  },
  {
   "cell_type": "code",
   "execution_count": 2,
   "id": "4318b23d",
   "metadata": {
    "executionInfo": {
     "elapsed": 1313,
     "status": "ok",
     "timestamp": 1691133583162,
     "user": {
      "displayName": "Class上課資料",
      "userId": "18003802802776505350"
     },
     "user_tz": -480
    },
    "id": "4318b23d"
   },
   "outputs": [],
   "source": [
    "import pandas as pd\n",
    "import numpy as np"
   ]
  },
  {
   "cell_type": "code",
   "execution_count": 3,
   "id": "dbc16fcc",
   "metadata": {
    "colab": {
     "base_uri": "https://localhost:8080/",
     "height": 696
    },
    "executionInfo": {
     "elapsed": 1292,
     "status": "ok",
     "timestamp": 1691133584452,
     "user": {
      "displayName": "Class上課資料",
      "userId": "18003802802776505350"
     },
     "user_tz": -480
    },
    "id": "dbc16fcc",
    "outputId": "c226e46c-e262-4d85-ced4-35925e00adbf"
   },
   "outputs": [
    {
     "data": {
      "text/html": [
       "<div>\n",
       "<style scoped>\n",
       "    .dataframe tbody tr th:only-of-type {\n",
       "        vertical-align: middle;\n",
       "    }\n",
       "\n",
       "    .dataframe tbody tr th {\n",
       "        vertical-align: top;\n",
       "    }\n",
       "\n",
       "    .dataframe thead th {\n",
       "        text-align: right;\n",
       "    }\n",
       "</style>\n",
       "<table border=\"1\" class=\"dataframe\">\n",
       "  <thead>\n",
       "    <tr style=\"text-align: right;\">\n",
       "      <th></th>\n",
       "      <th>員工編號(EmployeeNumber)</th>\n",
       "      <th>性別(Gender)</th>\n",
       "      <th>年齡(Age)</th>\n",
       "      <th>是否為成年人(Over18)</th>\n",
       "      <th>婚姻狀態(MaritalStatus)</th>\n",
       "      <th>通勤距離(DistanceFromHome)</th>\n",
       "      <th>教育程度(Education)</th>\n",
       "      <th>教育專業領域(EducationField)</th>\n",
       "      <th>部門(Department)</th>\n",
       "      <th>職位名稱(JobRole)</th>\n",
       "      <th>...</th>\n",
       "      <th>股票選擇權等級(StockOptionLevel)</th>\n",
       "      <th>績效評估(PerformanceRating)</th>\n",
       "      <th>出差頻率(BusinessTravel)</th>\n",
       "      <th>去年訓練時間(TrainingTimesLastYear)</th>\n",
       "      <th>工作滿意度(JobSatisfaction)</th>\n",
       "      <th>工作環境滿意度(EnvironmentSatisfaction)</th>\n",
       "      <th>工作投入(JobInvolvement)</th>\n",
       "      <th>工作生活平衡(WorkLifeBalance)</th>\n",
       "      <th>人際關係滿意度(RelationshipSatisfaction)</th>\n",
       "      <th>離職(Attrition)</th>\n",
       "    </tr>\n",
       "  </thead>\n",
       "  <tbody>\n",
       "    <tr>\n",
       "      <th>0</th>\n",
       "      <td>1469</td>\n",
       "      <td>Male</td>\n",
       "      <td>28</td>\n",
       "      <td>Y</td>\n",
       "      <td>Single</td>\n",
       "      <td>5</td>\n",
       "      <td>3</td>\n",
       "      <td>Medical</td>\n",
       "      <td>Sales</td>\n",
       "      <td>Sales Executive</td>\n",
       "      <td>...</td>\n",
       "      <td>0</td>\n",
       "      <td>3</td>\n",
       "      <td>Travel_Rarely</td>\n",
       "      <td>4</td>\n",
       "      <td>1</td>\n",
       "      <td>4</td>\n",
       "      <td>3</td>\n",
       "      <td>3</td>\n",
       "      <td>4</td>\n",
       "      <td>No</td>\n",
       "    </tr>\n",
       "    <tr>\n",
       "      <th>1</th>\n",
       "      <td>250</td>\n",
       "      <td>Female</td>\n",
       "      <td>53</td>\n",
       "      <td>Y</td>\n",
       "      <td>Divorced</td>\n",
       "      <td>13</td>\n",
       "      <td>2</td>\n",
       "      <td>Medical</td>\n",
       "      <td>Research &amp; Development</td>\n",
       "      <td>Manufacturing Director</td>\n",
       "      <td>...</td>\n",
       "      <td>2</td>\n",
       "      <td>3</td>\n",
       "      <td>Travel_Rarely</td>\n",
       "      <td>3</td>\n",
       "      <td>1</td>\n",
       "      <td>4</td>\n",
       "      <td>4</td>\n",
       "      <td>3</td>\n",
       "      <td>3</td>\n",
       "      <td>No</td>\n",
       "    </tr>\n",
       "    <tr>\n",
       "      <th>2</th>\n",
       "      <td>1714</td>\n",
       "      <td>Male</td>\n",
       "      <td>24</td>\n",
       "      <td>Y</td>\n",
       "      <td>Married</td>\n",
       "      <td>22</td>\n",
       "      <td>1</td>\n",
       "      <td>Human Resources</td>\n",
       "      <td>Human Resources</td>\n",
       "      <td>Human Resources</td>\n",
       "      <td>...</td>\n",
       "      <td>1</td>\n",
       "      <td>3</td>\n",
       "      <td>Travel_Rarely</td>\n",
       "      <td>2</td>\n",
       "      <td>3</td>\n",
       "      <td>4</td>\n",
       "      <td>1</td>\n",
       "      <td>3</td>\n",
       "      <td>3</td>\n",
       "      <td>Yes</td>\n",
       "    </tr>\n",
       "    <tr>\n",
       "      <th>3</th>\n",
       "      <td>86</td>\n",
       "      <td>Male</td>\n",
       "      <td>45</td>\n",
       "      <td>Y</td>\n",
       "      <td>Divorced</td>\n",
       "      <td>7</td>\n",
       "      <td>3</td>\n",
       "      <td>Life Sciences</td>\n",
       "      <td>Research &amp; Development</td>\n",
       "      <td>Research Scientist</td>\n",
       "      <td>...</td>\n",
       "      <td>1</td>\n",
       "      <td>3</td>\n",
       "      <td>Travel_Rarely</td>\n",
       "      <td>2</td>\n",
       "      <td>1</td>\n",
       "      <td>2</td>\n",
       "      <td>3</td>\n",
       "      <td>3</td>\n",
       "      <td>3</td>\n",
       "      <td>No</td>\n",
       "    </tr>\n",
       "    <tr>\n",
       "      <th>4</th>\n",
       "      <td>304</td>\n",
       "      <td>Male</td>\n",
       "      <td>36</td>\n",
       "      <td>Y</td>\n",
       "      <td>Single</td>\n",
       "      <td>5</td>\n",
       "      <td>2</td>\n",
       "      <td>Life Sciences</td>\n",
       "      <td>Research &amp; Development</td>\n",
       "      <td>Laboratory Technician</td>\n",
       "      <td>...</td>\n",
       "      <td>0</td>\n",
       "      <td>3</td>\n",
       "      <td>Travel_Rarely</td>\n",
       "      <td>3</td>\n",
       "      <td>2</td>\n",
       "      <td>4</td>\n",
       "      <td>3</td>\n",
       "      <td>4</td>\n",
       "      <td>4</td>\n",
       "      <td>No</td>\n",
       "    </tr>\n",
       "    <tr>\n",
       "      <th>...</th>\n",
       "      <td>...</td>\n",
       "      <td>...</td>\n",
       "      <td>...</td>\n",
       "      <td>...</td>\n",
       "      <td>...</td>\n",
       "      <td>...</td>\n",
       "      <td>...</td>\n",
       "      <td>...</td>\n",
       "      <td>...</td>\n",
       "      <td>...</td>\n",
       "      <td>...</td>\n",
       "      <td>...</td>\n",
       "      <td>...</td>\n",
       "      <td>...</td>\n",
       "      <td>...</td>\n",
       "      <td>...</td>\n",
       "      <td>...</td>\n",
       "      <td>...</td>\n",
       "      <td>...</td>\n",
       "      <td>...</td>\n",
       "      <td>...</td>\n",
       "    </tr>\n",
       "    <tr>\n",
       "      <th>289</th>\n",
       "      <td>786</td>\n",
       "      <td>Male</td>\n",
       "      <td>34</td>\n",
       "      <td>Y</td>\n",
       "      <td>Single</td>\n",
       "      <td>2</td>\n",
       "      <td>3</td>\n",
       "      <td>Other</td>\n",
       "      <td>Sales</td>\n",
       "      <td>Sales Executive</td>\n",
       "      <td>...</td>\n",
       "      <td>0</td>\n",
       "      <td>4</td>\n",
       "      <td>Travel_Rarely</td>\n",
       "      <td>5</td>\n",
       "      <td>4</td>\n",
       "      <td>4</td>\n",
       "      <td>3</td>\n",
       "      <td>3</td>\n",
       "      <td>3</td>\n",
       "      <td>No</td>\n",
       "    </tr>\n",
       "    <tr>\n",
       "      <th>290</th>\n",
       "      <td>775</td>\n",
       "      <td>Female</td>\n",
       "      <td>34</td>\n",
       "      <td>Y</td>\n",
       "      <td>Divorced</td>\n",
       "      <td>8</td>\n",
       "      <td>5</td>\n",
       "      <td>Life Sciences</td>\n",
       "      <td>Research &amp; Development</td>\n",
       "      <td>Manufacturing Director</td>\n",
       "      <td>...</td>\n",
       "      <td>1</td>\n",
       "      <td>3</td>\n",
       "      <td>Travel_Rarely</td>\n",
       "      <td>3</td>\n",
       "      <td>1</td>\n",
       "      <td>2</td>\n",
       "      <td>3</td>\n",
       "      <td>3</td>\n",
       "      <td>3</td>\n",
       "      <td>No</td>\n",
       "    </tr>\n",
       "    <tr>\n",
       "      <th>291</th>\n",
       "      <td>1317</td>\n",
       "      <td>Female</td>\n",
       "      <td>50</td>\n",
       "      <td>Y</td>\n",
       "      <td>Married</td>\n",
       "      <td>28</td>\n",
       "      <td>3</td>\n",
       "      <td>Life Sciences</td>\n",
       "      <td>Research &amp; Development</td>\n",
       "      <td>Research Director</td>\n",
       "      <td>...</td>\n",
       "      <td>0</td>\n",
       "      <td>3</td>\n",
       "      <td>Travel_Rarely</td>\n",
       "      <td>2</td>\n",
       "      <td>1</td>\n",
       "      <td>4</td>\n",
       "      <td>3</td>\n",
       "      <td>3</td>\n",
       "      <td>2</td>\n",
       "      <td>No</td>\n",
       "    </tr>\n",
       "    <tr>\n",
       "      <th>292</th>\n",
       "      <td>715</td>\n",
       "      <td>Male</td>\n",
       "      <td>37</td>\n",
       "      <td>Y</td>\n",
       "      <td>Single</td>\n",
       "      <td>10</td>\n",
       "      <td>2</td>\n",
       "      <td>Life Sciences</td>\n",
       "      <td>Research &amp; Development</td>\n",
       "      <td>Research Scientist</td>\n",
       "      <td>...</td>\n",
       "      <td>0</td>\n",
       "      <td>3</td>\n",
       "      <td>Travel_Rarely</td>\n",
       "      <td>2</td>\n",
       "      <td>4</td>\n",
       "      <td>4</td>\n",
       "      <td>4</td>\n",
       "      <td>3</td>\n",
       "      <td>1</td>\n",
       "      <td>No</td>\n",
       "    </tr>\n",
       "    <tr>\n",
       "      <th>293</th>\n",
       "      <td>903</td>\n",
       "      <td>Female</td>\n",
       "      <td>47</td>\n",
       "      <td>Y</td>\n",
       "      <td>Married</td>\n",
       "      <td>2</td>\n",
       "      <td>2</td>\n",
       "      <td>Marketing</td>\n",
       "      <td>Sales</td>\n",
       "      <td>Sales Executive</td>\n",
       "      <td>...</td>\n",
       "      <td>1</td>\n",
       "      <td>4</td>\n",
       "      <td>Travel_Rarely</td>\n",
       "      <td>2</td>\n",
       "      <td>4</td>\n",
       "      <td>3</td>\n",
       "      <td>3</td>\n",
       "      <td>3</td>\n",
       "      <td>1</td>\n",
       "      <td>No</td>\n",
       "    </tr>\n",
       "  </tbody>\n",
       "</table>\n",
       "<p>294 rows × 34 columns</p>\n",
       "</div>"
      ],
      "text/plain": [
       "     員工編號(EmployeeNumber) 性別(Gender)  年齡(Age) 是否為成年人(Over18)  \\\n",
       "0                    1469       Male       28              Y   \n",
       "1                     250     Female       53              Y   \n",
       "2                    1714       Male       24              Y   \n",
       "3                      86       Male       45              Y   \n",
       "4                     304       Male       36              Y   \n",
       "..                    ...        ...      ...            ...   \n",
       "289                   786       Male       34              Y   \n",
       "290                   775     Female       34              Y   \n",
       "291                  1317     Female       50              Y   \n",
       "292                   715       Male       37              Y   \n",
       "293                   903     Female       47              Y   \n",
       "\n",
       "    婚姻狀態(MaritalStatus)  通勤距離(DistanceFromHome)  教育程度(Education)  \\\n",
       "0                Single                       5                3   \n",
       "1              Divorced                      13                2   \n",
       "2               Married                      22                1   \n",
       "3              Divorced                       7                3   \n",
       "4                Single                       5                2   \n",
       "..                  ...                     ...              ...   \n",
       "289              Single                       2                3   \n",
       "290            Divorced                       8                5   \n",
       "291             Married                      28                3   \n",
       "292              Single                      10                2   \n",
       "293             Married                       2                2   \n",
       "\n",
       "    教育專業領域(EducationField)          部門(Department)           職位名稱(JobRole)  \\\n",
       "0                  Medical                   Sales         Sales Executive   \n",
       "1                  Medical  Research & Development  Manufacturing Director   \n",
       "2          Human Resources         Human Resources         Human Resources   \n",
       "3            Life Sciences  Research & Development      Research Scientist   \n",
       "4            Life Sciences  Research & Development   Laboratory Technician   \n",
       "..                     ...                     ...                     ...   \n",
       "289                  Other                   Sales         Sales Executive   \n",
       "290          Life Sciences  Research & Development  Manufacturing Director   \n",
       "291          Life Sciences  Research & Development       Research Director   \n",
       "292          Life Sciences  Research & Development      Research Scientist   \n",
       "293              Marketing                   Sales         Sales Executive   \n",
       "\n",
       "     ...  股票選擇權等級(StockOptionLevel)  績效評估(PerformanceRating)  \\\n",
       "0    ...                          0                        3   \n",
       "1    ...                          2                        3   \n",
       "2    ...                          1                        3   \n",
       "3    ...                          1                        3   \n",
       "4    ...                          0                        3   \n",
       "..   ...                        ...                      ...   \n",
       "289  ...                          0                        4   \n",
       "290  ...                          1                        3   \n",
       "291  ...                          0                        3   \n",
       "292  ...                          0                        3   \n",
       "293  ...                          1                        4   \n",
       "\n",
       "     出差頻率(BusinessTravel)  去年訓練時間(TrainingTimesLastYear)  \\\n",
       "0           Travel_Rarely                              4   \n",
       "1           Travel_Rarely                              3   \n",
       "2           Travel_Rarely                              2   \n",
       "3           Travel_Rarely                              2   \n",
       "4           Travel_Rarely                              3   \n",
       "..                    ...                            ...   \n",
       "289         Travel_Rarely                              5   \n",
       "290         Travel_Rarely                              3   \n",
       "291         Travel_Rarely                              2   \n",
       "292         Travel_Rarely                              2   \n",
       "293         Travel_Rarely                              2   \n",
       "\n",
       "     工作滿意度(JobSatisfaction)  工作環境滿意度(EnvironmentSatisfaction)  \\\n",
       "0                         1                                 4   \n",
       "1                         1                                 4   \n",
       "2                         3                                 4   \n",
       "3                         1                                 2   \n",
       "4                         2                                 4   \n",
       "..                      ...                               ...   \n",
       "289                       4                                 4   \n",
       "290                       1                                 2   \n",
       "291                       1                                 4   \n",
       "292                       4                                 4   \n",
       "293                       4                                 3   \n",
       "\n",
       "     工作投入(JobInvolvement)  工作生活平衡(WorkLifeBalance)  \\\n",
       "0                       3                        3   \n",
       "1                       4                        3   \n",
       "2                       1                        3   \n",
       "3                       3                        3   \n",
       "4                       3                        4   \n",
       "..                    ...                      ...   \n",
       "289                     3                        3   \n",
       "290                     3                        3   \n",
       "291                     3                        3   \n",
       "292                     4                        3   \n",
       "293                     3                        3   \n",
       "\n",
       "     人際關係滿意度(RelationshipSatisfaction)  離職(Attrition)  \n",
       "0                                    4             No  \n",
       "1                                    3             No  \n",
       "2                                    3            Yes  \n",
       "3                                    3             No  \n",
       "4                                    4             No  \n",
       "..                                 ...            ...  \n",
       "289                                  3             No  \n",
       "290                                  3             No  \n",
       "291                                  2             No  \n",
       "292                                  1             No  \n",
       "293                                  1             No  \n",
       "\n",
       "[294 rows x 34 columns]"
      ]
     },
     "execution_count": 3,
     "metadata": {},
     "output_type": "execute_result"
    }
   ],
   "source": [
    "data = pd.read_excel(data_filename)\n",
    "data"
   ]
  },
  {
   "cell_type": "markdown",
   "id": "9f280655",
   "metadata": {
    "id": "9f280655"
   },
   "source": [
    "### 載入模型"
   ]
  },
  {
   "cell_type": "code",
   "execution_count": 4,
   "id": "dd91a298",
   "metadata": {
    "executionInfo": {
     "elapsed": 2917,
     "status": "ok",
     "timestamp": 1691133587365,
     "user": {
      "displayName": "Class上課資料",
      "userId": "18003802802776505350"
     },
     "user_tz": -480
    },
    "id": "dd91a298"
   },
   "outputs": [
    {
     "name": "stderr",
     "output_type": "stream",
     "text": [
      "C:\\venv\\autogluon\\lib\\site-packages\\tqdm\\auto.py:21: TqdmWarning: IProgress not found. Please update jupyter and ipywidgets. See https://ipywidgets.readthedocs.io/en/stable/user_install.html\n",
      "  from .autonotebook import tqdm as notebook_tqdm\n"
     ]
    }
   ],
   "source": [
    "from autogluon.tabular import TabularDataset, TabularPredictor"
   ]
  },
  {
   "cell_type": "code",
   "execution_count": 5,
   "id": "3462da7f",
   "metadata": {
    "executionInfo": {
     "elapsed": 1757,
     "status": "ok",
     "timestamp": 1691133589119,
     "user": {
      "displayName": "Class上課資料",
      "userId": "18003802802776505350"
     },
     "user_tz": -480
    },
    "id": "3462da7f"
   },
   "outputs": [],
   "source": [
    "import pickle\n",
    "with open(model_path+'/used_field.bin', 'rb') as handle:\n",
    "  used_field = pickle.load(handle)\n",
    "\n",
    "input_field = used_field['input_field']\n",
    "target_field = used_field['target_field']\n",
    "working_field = input_field.copy()\n",
    "working_field.append(target_field)\n",
    "\n",
    "model = TabularPredictor.load(model_path)"
   ]
  },
  {
   "cell_type": "markdown",
   "id": "468afafa",
   "metadata": {
    "id": "468afafa"
   },
   "source": [
    "# 輸出預測結果"
   ]
  },
  {
   "cell_type": "code",
   "execution_count": 6,
   "id": "72f12fda",
   "metadata": {
    "executionInfo": {
     "elapsed": 10534,
     "status": "ok",
     "timestamp": 1691133599651,
     "user": {
      "displayName": "Class上課資料",
      "userId": "18003802802776505350"
     },
     "user_tz": -480
    },
    "id": "72f12fda"
   },
   "outputs": [],
   "source": [
    "prediction_p = None\n",
    "if (model.problem_type != 'regression'):\n",
    "  prediction_p = model.predict_proba(data)\n",
    "prediction = model.predict(data)"
   ]
  },
  {
   "cell_type": "code",
   "execution_count": 8,
   "id": "aaccf6df",
   "metadata": {
    "executionInfo": {
     "elapsed": 1075,
     "status": "ok",
     "timestamp": 1691133600709,
     "user": {
      "displayName": "Class上課資料",
      "userId": "18003802802776505350"
     },
     "user_tz": -480
    },
    "id": "aaccf6df"
   },
   "outputs": [],
   "source": [
    "pred_data = data.copy()\n",
    "pred_data['預測結果'] = prediction\n",
    "pred_data = pd.concat([pred_data,prediction_p], axis=1, join='inner')\n",
    "pred_data.to_excel(prediction_filename)"
   ]
  },
  {
   "cell_type": "markdown",
   "id": "d71305e6",
   "metadata": {
    "id": "d71305e6"
   },
   "source": [
    "# 評估分數"
   ]
  },
  {
   "cell_type": "code",
   "execution_count": 9,
   "id": "5ff70818",
   "metadata": {
    "colab": {
     "base_uri": "https://localhost:8080/"
    },
    "executionInfo": {
     "elapsed": 1302,
     "status": "ok",
     "timestamp": 1691133602009,
     "user": {
      "displayName": "Class上課資料",
      "userId": "18003802802776505350"
     },
     "user_tz": -480
    },
    "id": "5ff70818",
    "outputId": "ab54ebee-73d8-4d03-cc99-6d161c86b444"
   },
   "outputs": [
    {
     "data": {
      "text/plain": [
       "{'roc_auc': 0.8067370537958773,\n",
       " 'accuracy': 0.8843537414965986,\n",
       " 'balanced_accuracy': 0.5858220211161388,\n",
       " 'mcc': 0.3379772303312995,\n",
       " 'f1': 0.2916666666666667,\n",
       " 'precision': 0.7777777777777778,\n",
       " 'recall': 0.1794871794871795}"
      ]
     },
     "execution_count": 9,
     "metadata": {},
     "output_type": "execute_result"
    }
   ],
   "source": [
    "model.evaluate(data)"
   ]
  },
  {
   "cell_type": "markdown",
   "id": "1a47f118",
   "metadata": {
    "id": "1a47f118"
   },
   "source": [
    "# 欄位重要性"
   ]
  },
  {
   "cell_type": "code",
   "execution_count": 11,
   "id": "b1efd451",
   "metadata": {
    "colab": {
     "base_uri": "https://localhost:8080/",
     "height": 1000
    },
    "executionInfo": {
     "elapsed": 24447,
     "status": "ok",
     "timestamp": 1691133626450,
     "user": {
      "displayName": "Class上課資料",
      "userId": "18003802802776505350"
     },
     "user_tz": -480
    },
    "id": "b1efd451",
    "outputId": "6792879a-9db6-4038-eb1c-9090b4a0b6aa"
   },
   "outputs": [
    {
     "name": "stderr",
     "output_type": "stream",
     "text": [
      "These features in provided data are not utilized by the predictor and will be ignored: ['是否為成年人(Over18)', '標準工作時間(StandardHours)']\n"
     ]
    },
    {
     "data": {
      "text/html": [
       "<div>\n",
       "<style scoped>\n",
       "    .dataframe tbody tr th:only-of-type {\n",
       "        vertical-align: middle;\n",
       "    }\n",
       "\n",
       "    .dataframe tbody tr th {\n",
       "        vertical-align: top;\n",
       "    }\n",
       "\n",
       "    .dataframe thead th {\n",
       "        text-align: right;\n",
       "    }\n",
       "</style>\n",
       "<table border=\"1\" class=\"dataframe\">\n",
       "  <thead>\n",
       "    <tr style=\"text-align: right;\">\n",
       "      <th></th>\n",
       "      <th>importance</th>\n",
       "      <th>stddev</th>\n",
       "      <th>p_value</th>\n",
       "      <th>n</th>\n",
       "      <th>p99_high</th>\n",
       "      <th>p99_low</th>\n",
       "    </tr>\n",
       "  </thead>\n",
       "  <tbody>\n",
       "    <tr>\n",
       "      <th>加班(OverTime)</th>\n",
       "      <td>0.042132</td>\n",
       "      <td>0.020808</td>\n",
       "      <td>0.005298</td>\n",
       "      <td>5</td>\n",
       "      <td>0.084975</td>\n",
       "      <td>-0.000712</td>\n",
       "    </tr>\n",
       "    <tr>\n",
       "      <th>工作環境滿意度(EnvironmentSatisfaction)</th>\n",
       "      <td>0.034470</td>\n",
       "      <td>0.002225</td>\n",
       "      <td>0.000002</td>\n",
       "      <td>5</td>\n",
       "      <td>0.039051</td>\n",
       "      <td>0.029888</td>\n",
       "    </tr>\n",
       "    <tr>\n",
       "      <th>出差頻率(BusinessTravel)</th>\n",
       "      <td>0.026104</td>\n",
       "      <td>0.003508</td>\n",
       "      <td>0.000038</td>\n",
       "      <td>5</td>\n",
       "      <td>0.033327</td>\n",
       "      <td>0.018880</td>\n",
       "    </tr>\n",
       "    <tr>\n",
       "      <th>工作投入(JobInvolvement)</th>\n",
       "      <td>0.023851</td>\n",
       "      <td>0.011484</td>\n",
       "      <td>0.004852</td>\n",
       "      <td>5</td>\n",
       "      <td>0.047497</td>\n",
       "      <td>0.000206</td>\n",
       "    </tr>\n",
       "    <tr>\n",
       "      <th>工作滿意度(JobSatisfaction)</th>\n",
       "      <td>0.022745</td>\n",
       "      <td>0.010149</td>\n",
       "      <td>0.003715</td>\n",
       "      <td>5</td>\n",
       "      <td>0.043641</td>\n",
       "      <td>0.001849</td>\n",
       "    </tr>\n",
       "    <tr>\n",
       "      <th>通勤距離(DistanceFromHome)</th>\n",
       "      <td>0.018039</td>\n",
       "      <td>0.006738</td>\n",
       "      <td>0.001958</td>\n",
       "      <td>5</td>\n",
       "      <td>0.031914</td>\n",
       "      <td>0.004165</td>\n",
       "    </tr>\n",
       "    <tr>\n",
       "      <th>工作生活平衡(WorkLifeBalance)</th>\n",
       "      <td>0.017516</td>\n",
       "      <td>0.004024</td>\n",
       "      <td>0.000312</td>\n",
       "      <td>5</td>\n",
       "      <td>0.025802</td>\n",
       "      <td>0.009230</td>\n",
       "    </tr>\n",
       "    <tr>\n",
       "      <th>職位名稱(JobRole)</th>\n",
       "      <td>0.016551</td>\n",
       "      <td>0.010416</td>\n",
       "      <td>0.011864</td>\n",
       "      <td>5</td>\n",
       "      <td>0.037997</td>\n",
       "      <td>-0.004895</td>\n",
       "    </tr>\n",
       "    <tr>\n",
       "      <th>教育專業領域(EducationField)</th>\n",
       "      <td>0.010799</td>\n",
       "      <td>0.004206</td>\n",
       "      <td>0.002281</td>\n",
       "      <td>5</td>\n",
       "      <td>0.019460</td>\n",
       "      <td>0.002139</td>\n",
       "    </tr>\n",
       "    <tr>\n",
       "      <th>人際關係滿意度(RelationshipSatisfaction)</th>\n",
       "      <td>0.010437</td>\n",
       "      <td>0.006597</td>\n",
       "      <td>0.012028</td>\n",
       "      <td>5</td>\n",
       "      <td>0.024020</td>\n",
       "      <td>-0.003145</td>\n",
       "    </tr>\n",
       "    <tr>\n",
       "      <th>部門(Department)</th>\n",
       "      <td>0.010196</td>\n",
       "      <td>0.007798</td>\n",
       "      <td>0.021545</td>\n",
       "      <td>5</td>\n",
       "      <td>0.026253</td>\n",
       "      <td>-0.005861</td>\n",
       "    </tr>\n",
       "    <tr>\n",
       "      <th>與現任管理者工作年資(YearsWithCurrManager)</th>\n",
       "      <td>0.009955</td>\n",
       "      <td>0.006361</td>\n",
       "      <td>0.012456</td>\n",
       "      <td>5</td>\n",
       "      <td>0.023052</td>\n",
       "      <td>-0.003143</td>\n",
       "    </tr>\n",
       "    <tr>\n",
       "      <th>月收入(MonthlyIncome)</th>\n",
       "      <td>0.009392</td>\n",
       "      <td>0.006029</td>\n",
       "      <td>0.012640</td>\n",
       "      <td>5</td>\n",
       "      <td>0.021806</td>\n",
       "      <td>-0.003023</td>\n",
       "    </tr>\n",
       "    <tr>\n",
       "      <th>月費率(MonthlyRate)</th>\n",
       "      <td>0.008105</td>\n",
       "      <td>0.004621</td>\n",
       "      <td>0.008614</td>\n",
       "      <td>5</td>\n",
       "      <td>0.017620</td>\n",
       "      <td>-0.001411</td>\n",
       "    </tr>\n",
       "    <tr>\n",
       "      <th>每日工資額(DailyRate)</th>\n",
       "      <td>0.008024</td>\n",
       "      <td>0.003741</td>\n",
       "      <td>0.004336</td>\n",
       "      <td>5</td>\n",
       "      <td>0.015727</td>\n",
       "      <td>0.000321</td>\n",
       "    </tr>\n",
       "    <tr>\n",
       "      <th>年齡(Age)</th>\n",
       "      <td>0.007863</td>\n",
       "      <td>0.008035</td>\n",
       "      <td>0.046931</td>\n",
       "      <td>5</td>\n",
       "      <td>0.024407</td>\n",
       "      <td>-0.008680</td>\n",
       "    </tr>\n",
       "    <tr>\n",
       "      <th>每小時工資額(HourlyRate)</th>\n",
       "      <td>0.007401</td>\n",
       "      <td>0.003239</td>\n",
       "      <td>0.003467</td>\n",
       "      <td>5</td>\n",
       "      <td>0.014069</td>\n",
       "      <td>0.000733</td>\n",
       "    </tr>\n",
       "    <tr>\n",
       "      <th>職位等級(JobLevel)</th>\n",
       "      <td>0.007039</td>\n",
       "      <td>0.009109</td>\n",
       "      <td>0.079542</td>\n",
       "      <td>5</td>\n",
       "      <td>0.025794</td>\n",
       "      <td>-0.011717</td>\n",
       "    </tr>\n",
       "    <tr>\n",
       "      <th>股票選擇權等級(StockOptionLevel)</th>\n",
       "      <td>0.006657</td>\n",
       "      <td>0.005783</td>\n",
       "      <td>0.030858</td>\n",
       "      <td>5</td>\n",
       "      <td>0.018563</td>\n",
       "      <td>-0.005250</td>\n",
       "    </tr>\n",
       "    <tr>\n",
       "      <th>婚姻狀態(MaritalStatus)</th>\n",
       "      <td>0.006657</td>\n",
       "      <td>0.013730</td>\n",
       "      <td>0.169644</td>\n",
       "      <td>5</td>\n",
       "      <td>0.034926</td>\n",
       "      <td>-0.021613</td>\n",
       "    </tr>\n",
       "    <tr>\n",
       "      <th>性別(Gender)</th>\n",
       "      <td>0.005430</td>\n",
       "      <td>0.002504</td>\n",
       "      <td>0.004172</td>\n",
       "      <td>5</td>\n",
       "      <td>0.010585</td>\n",
       "      <td>0.000275</td>\n",
       "    </tr>\n",
       "    <tr>\n",
       "      <th>員工編號(EmployeeNumber)</th>\n",
       "      <td>0.001589</td>\n",
       "      <td>0.006080</td>\n",
       "      <td>0.295184</td>\n",
       "      <td>5</td>\n",
       "      <td>0.014107</td>\n",
       "      <td>-0.010929</td>\n",
       "    </tr>\n",
       "    <tr>\n",
       "      <th>去年訓練時間(TrainingTimesLastYear)</th>\n",
       "      <td>0.001347</td>\n",
       "      <td>0.005338</td>\n",
       "      <td>0.301310</td>\n",
       "      <td>5</td>\n",
       "      <td>0.012339</td>\n",
       "      <td>-0.009644</td>\n",
       "    </tr>\n",
       "    <tr>\n",
       "      <th>在該職位工作年資(YearsInCurrentRole)</th>\n",
       "      <td>0.001026</td>\n",
       "      <td>0.011591</td>\n",
       "      <td>0.426404</td>\n",
       "      <td>5</td>\n",
       "      <td>0.024893</td>\n",
       "      <td>-0.022841</td>\n",
       "    </tr>\n",
       "    <tr>\n",
       "      <th>過去工作公司家數(NumCompaniesWorked)</th>\n",
       "      <td>0.000503</td>\n",
       "      <td>0.011023</td>\n",
       "      <td>0.461837</td>\n",
       "      <td>5</td>\n",
       "      <td>0.023199</td>\n",
       "      <td>-0.022194</td>\n",
       "    </tr>\n",
       "    <tr>\n",
       "      <th>調薪百分比(PercentSalaryHike)</th>\n",
       "      <td>0.000201</td>\n",
       "      <td>0.004232</td>\n",
       "      <td>0.460243</td>\n",
       "      <td>5</td>\n",
       "      <td>0.008914</td>\n",
       "      <td>-0.008512</td>\n",
       "    </tr>\n",
       "    <tr>\n",
       "      <th>績效評估(PerformanceRating)</th>\n",
       "      <td>-0.000623</td>\n",
       "      <td>0.003263</td>\n",
       "      <td>0.654384</td>\n",
       "      <td>5</td>\n",
       "      <td>0.006096</td>\n",
       "      <td>-0.007343</td>\n",
       "    </tr>\n",
       "    <tr>\n",
       "      <th>在該職等工作年資(YearsSinceLastPromotion)</th>\n",
       "      <td>-0.000885</td>\n",
       "      <td>0.007259</td>\n",
       "      <td>0.600657</td>\n",
       "      <td>5</td>\n",
       "      <td>0.014063</td>\n",
       "      <td>-0.015832</td>\n",
       "    </tr>\n",
       "    <tr>\n",
       "      <th>總工作年資(TotalWorkingYears)</th>\n",
       "      <td>-0.001368</td>\n",
       "      <td>0.002785</td>\n",
       "      <td>0.833040</td>\n",
       "      <td>5</td>\n",
       "      <td>0.004368</td>\n",
       "      <td>-0.007103</td>\n",
       "    </tr>\n",
       "    <tr>\n",
       "      <th>在該公司工作總年資(YearsAtCompany)</th>\n",
       "      <td>-0.001931</td>\n",
       "      <td>0.002088</td>\n",
       "      <td>0.946233</td>\n",
       "      <td>5</td>\n",
       "      <td>0.002369</td>\n",
       "      <td>-0.006230</td>\n",
       "    </tr>\n",
       "    <tr>\n",
       "      <th>教育程度(Education)</th>\n",
       "      <td>-0.008165</td>\n",
       "      <td>0.003971</td>\n",
       "      <td>0.994975</td>\n",
       "      <td>5</td>\n",
       "      <td>0.000012</td>\n",
       "      <td>-0.016342</td>\n",
       "    </tr>\n",
       "  </tbody>\n",
       "</table>\n",
       "</div>"
      ],
      "text/plain": [
       "                                   importance    stddev   p_value  n  \\\n",
       "加班(OverTime)                         0.042132  0.020808  0.005298  5   \n",
       "工作環境滿意度(EnvironmentSatisfaction)     0.034470  0.002225  0.000002  5   \n",
       "出差頻率(BusinessTravel)                 0.026104  0.003508  0.000038  5   \n",
       "工作投入(JobInvolvement)                 0.023851  0.011484  0.004852  5   \n",
       "工作滿意度(JobSatisfaction)               0.022745  0.010149  0.003715  5   \n",
       "通勤距離(DistanceFromHome)               0.018039  0.006738  0.001958  5   \n",
       "工作生活平衡(WorkLifeBalance)              0.017516  0.004024  0.000312  5   \n",
       "職位名稱(JobRole)                        0.016551  0.010416  0.011864  5   \n",
       "教育專業領域(EducationField)               0.010799  0.004206  0.002281  5   \n",
       "人際關係滿意度(RelationshipSatisfaction)    0.010437  0.006597  0.012028  5   \n",
       "部門(Department)                       0.010196  0.007798  0.021545  5   \n",
       "與現任管理者工作年資(YearsWithCurrManager)     0.009955  0.006361  0.012456  5   \n",
       "月收入(MonthlyIncome)                   0.009392  0.006029  0.012640  5   \n",
       "月費率(MonthlyRate)                     0.008105  0.004621  0.008614  5   \n",
       "每日工資額(DailyRate)                     0.008024  0.003741  0.004336  5   \n",
       "年齡(Age)                              0.007863  0.008035  0.046931  5   \n",
       "每小時工資額(HourlyRate)                   0.007401  0.003239  0.003467  5   \n",
       "職位等級(JobLevel)                       0.007039  0.009109  0.079542  5   \n",
       "股票選擇權等級(StockOptionLevel)            0.006657  0.005783  0.030858  5   \n",
       "婚姻狀態(MaritalStatus)                  0.006657  0.013730  0.169644  5   \n",
       "性別(Gender)                           0.005430  0.002504  0.004172  5   \n",
       "員工編號(EmployeeNumber)                 0.001589  0.006080  0.295184  5   \n",
       "去年訓練時間(TrainingTimesLastYear)        0.001347  0.005338  0.301310  5   \n",
       "在該職位工作年資(YearsInCurrentRole)         0.001026  0.011591  0.426404  5   \n",
       "過去工作公司家數(NumCompaniesWorked)         0.000503  0.011023  0.461837  5   \n",
       "調薪百分比(PercentSalaryHike)             0.000201  0.004232  0.460243  5   \n",
       "績效評估(PerformanceRating)             -0.000623  0.003263  0.654384  5   \n",
       "在該職等工作年資(YearsSinceLastPromotion)   -0.000885  0.007259  0.600657  5   \n",
       "總工作年資(TotalWorkingYears)            -0.001368  0.002785  0.833040  5   \n",
       "在該公司工作總年資(YearsAtCompany)           -0.001931  0.002088  0.946233  5   \n",
       "教育程度(Education)                     -0.008165  0.003971  0.994975  5   \n",
       "\n",
       "                                   p99_high   p99_low  \n",
       "加班(OverTime)                       0.084975 -0.000712  \n",
       "工作環境滿意度(EnvironmentSatisfaction)   0.039051  0.029888  \n",
       "出差頻率(BusinessTravel)               0.033327  0.018880  \n",
       "工作投入(JobInvolvement)               0.047497  0.000206  \n",
       "工作滿意度(JobSatisfaction)             0.043641  0.001849  \n",
       "通勤距離(DistanceFromHome)             0.031914  0.004165  \n",
       "工作生活平衡(WorkLifeBalance)            0.025802  0.009230  \n",
       "職位名稱(JobRole)                      0.037997 -0.004895  \n",
       "教育專業領域(EducationField)             0.019460  0.002139  \n",
       "人際關係滿意度(RelationshipSatisfaction)  0.024020 -0.003145  \n",
       "部門(Department)                     0.026253 -0.005861  \n",
       "與現任管理者工作年資(YearsWithCurrManager)   0.023052 -0.003143  \n",
       "月收入(MonthlyIncome)                 0.021806 -0.003023  \n",
       "月費率(MonthlyRate)                   0.017620 -0.001411  \n",
       "每日工資額(DailyRate)                   0.015727  0.000321  \n",
       "年齡(Age)                            0.024407 -0.008680  \n",
       "每小時工資額(HourlyRate)                 0.014069  0.000733  \n",
       "職位等級(JobLevel)                     0.025794 -0.011717  \n",
       "股票選擇權等級(StockOptionLevel)          0.018563 -0.005250  \n",
       "婚姻狀態(MaritalStatus)                0.034926 -0.021613  \n",
       "性別(Gender)                         0.010585  0.000275  \n",
       "員工編號(EmployeeNumber)               0.014107 -0.010929  \n",
       "去年訓練時間(TrainingTimesLastYear)      0.012339 -0.009644  \n",
       "在該職位工作年資(YearsInCurrentRole)       0.024893 -0.022841  \n",
       "過去工作公司家數(NumCompaniesWorked)       0.023199 -0.022194  \n",
       "調薪百分比(PercentSalaryHike)           0.008914 -0.008512  \n",
       "績效評估(PerformanceRating)            0.006096 -0.007343  \n",
       "在該職等工作年資(YearsSinceLastPromotion)  0.014063 -0.015832  \n",
       "總工作年資(TotalWorkingYears)           0.004368 -0.007103  \n",
       "在該公司工作總年資(YearsAtCompany)          0.002369 -0.006230  \n",
       "教育程度(Education)                    0.000012 -0.016342  "
      ]
     },
     "execution_count": 11,
     "metadata": {},
     "output_type": "execute_result"
    }
   ],
   "source": [
    "output = ''\n",
    "if target_field in data:\n",
    "    output = model.feature_importance(data)\n",
    "output"
   ]
  },
  {
   "cell_type": "markdown",
   "id": "b0bbe5f8",
   "metadata": {
    "id": "b0bbe5f8"
   },
   "source": [
    "# 圖表 - 分類問題"
   ]
  },
  {
   "cell_type": "markdown",
   "id": "2be58832",
   "metadata": {
    "id": "2be58832"
   },
   "source": [
    "## ROC Curve"
   ]
  },
  {
   "cell_type": "code",
   "execution_count": 12,
   "id": "5fad08d2",
   "metadata": {
    "colab": {
     "base_uri": "https://localhost:8080/",
     "height": 0
    },
    "executionInfo": {
     "elapsed": 606,
     "status": "ok",
     "timestamp": 1691133627051,
     "user": {
      "displayName": "Class上課資料",
      "userId": "18003802802776505350"
     },
     "user_tz": -480
    },
    "id": "5fad08d2",
    "outputId": "8b1ad8b4-e616-4c07-ca49-55a9e2206abb"
   },
   "outputs": [
    {
     "data": {
      "image/png": "[encoded data removed]",
      "text/plain": [
       "<Figure size 640x480 with 1 Axes>"
      ]
     },
     "metadata": {},
     "output_type": "display_data"
    }
   ],
   "source": [
    "from sklearn.metrics import roc_auc_score\n",
    "from sklearn import metrics\n",
    "import matplotlib.pyplot as plt\n",
    "\n",
    "class_labels = model.class_labels\n",
    "\n",
    "if target_field in data:\n",
    "    if (model.problem_type != 'regression'):\n",
    "        if (model.problem_type == 'binary'):\n",
    "            class_labels = [class_labels[0]]\n",
    "\n",
    "        for n,label in enumerate(class_labels):\n",
    "            roc_score = roc_auc_score(np.array(data[target_field] == label,dtype='int'), prediction_p[label])\n",
    "\n",
    "            fpr, tpr, thresholds = metrics.roc_curve(np.array(data[target_field] == label,dtype='int'), prediction_p[label])\n",
    "\n",
    "            plt.figure()\n",
    "            plt.plot(fpr,tpr,color=\"darkorange\",label=\"ROC curve (area = %0.2f)\" % roc_score)\n",
    "            plt.plot([0, 1], [0, 1], color=\"navy\", linestyle=\"--\")\n",
    "            plt.xlim([0.0, 1.0])\n",
    "            plt.ylim([0.0, 1.05])\n",
    "            plt.xlabel(\"False Positive Rate\")\n",
    "            plt.ylabel(\"True Positive Rate\")\n",
    "            plt.title(\"Lable = \"+str(label))\n",
    "            plt.legend(loc=\"lower right\")\n",
    "            plt.show()"
   ]
  },
  {
   "cell_type": "markdown",
   "id": "1bb23757",
   "metadata": {
    "id": "1bb23757"
   },
   "source": [
    "## Confusion Matrix"
   ]
  },
  {
   "cell_type": "code",
   "execution_count": 15,
   "id": "fe210a73",
   "metadata": {
    "colab": {
     "base_uri": "https://localhost:8080/",
     "height": 0
    },
    "executionInfo": {
     "elapsed": 522,
     "status": "ok",
     "timestamp": 1691133627569,
     "user": {
      "displayName": "Class上課資料",
      "userId": "18003802802776505350"
     },
     "user_tz": -480
    },
    "id": "fe210a73",
    "outputId": "f78f6380-968f-407c-c7f6-c9f9b8cceeec"
   },
   "outputs": [
    {
     "data": {
      "image/png": "[encoded data removed]",
      "text/plain": [
       "<Figure size 640x480 with 2 Axes>"
      ]
     },
     "metadata": {},
     "output_type": "display_data"
    }
   ],
   "source": [
    "import seaborn as sns\n",
    "from sklearn.metrics import confusion_matrix\n",
    "import matplotlib.pyplot as plt\n",
    "\n",
    "if target_field in data:\n",
    "    if (model.problem_type != 'regression'):\n",
    "        conf_matrix = (confusion_matrix(data[target_field], prediction))\n",
    "        conf_matrix_df = pd.DataFrame(conf_matrix, model.class_labels, model.class_labels)\n",
    "        conf_matrix_df\n",
    "\n",
    "        fx = sns.heatmap(conf_matrix_df, annot=True, cmap='turbo', fmt='d')\n",
    "\n",
    "        fx.set_title('Confusion Matrix')\n",
    "        fx.set_xlabel('Predicted Values')\n",
    "        fx.set_ylabel('Actual Values ')"
   ]
  },
  {
   "cell_type": "markdown",
   "id": "0a332889",
   "metadata": {
    "id": "0a332889"
   },
   "source": [
    "# 圖表 - 回歸問題"
   ]
  },
  {
   "cell_type": "code",
   "execution_count": 16,
   "id": "9e75cd72",
   "metadata": {
    "executionInfo": {
     "elapsed": 10,
     "status": "ok",
     "timestamp": 1691133627570,
     "user": {
      "displayName": "Class上課資料",
      "userId": "18003802802776505350"
     },
     "user_tz": -480
    },
    "id": "9e75cd72"
   },
   "outputs": [],
   "source": [
    "import seaborn as sns\n",
    "\n",
    "if target_field in data:\n",
    "    if (model.problem_type == 'regression'):\n",
    "        sns.regplot(x = data[target_field], y = prediction)\n",
    "        plt.xlabel(\"real\")\n",
    "        plt.ylabel(\"prediction\")"
   ]
  },
  {
   "cell_type": "code",
   "execution_count": 13,
   "id": "555acb68",
   "metadata": {
    "executionInfo": {
     "elapsed": 10,
     "status": "ok",
     "timestamp": 1691133627571,
     "user": {
      "displayName": "Class上課資料",
      "userId": "18003802802776505350"
     },
     "user_tz": -480
    },
    "id": "555acb68"
   },
   "outputs": [],
   "source": []
  },
  {
   "cell_type": "code",
   "execution_count": 13,
   "id": "784f63a8",
   "metadata": {
    "executionInfo": {
     "elapsed": 10,
     "status": "ok",
     "timestamp": 1691133627571,
     "user": {
      "displayName": "Class上課資料",
      "userId": "18003802802776505350"
     },
     "user_tz": -480
    },
    "id": "784f63a8"
   },
   "outputs": [],
   "source": []
  },
  {
   "cell_type": "code",
   "execution_count": 13,
   "id": "c14955a6",
   "metadata": {
    "executionInfo": {
     "elapsed": 10,
     "status": "ok",
     "timestamp": 1691133627572,
     "user": {
      "displayName": "Class上課資料",
      "userId": "18003802802776505350"
     },
     "user_tz": -480
    },
    "id": "c14955a6"
   },
   "outputs": [],
   "source": []
  }
 ],
 "metadata": {
  "colab": {
   "provenance": []
  },
  "kernelspec": {
   "display_name": "Python 3 (ipykernel)",
   "language": "python",
   "name": "python3"
  },
  "language_info": {
   "codemirror_mode": {
    "name": "ipython",
    "version": 3
   },
   "file_extension": ".py",
   "mimetype": "text/x-python",
   "name": "python",
   "nbconvert_exporter": "python",
   "pygments_lexer": "ipython3",
   "version": "3.10.0"
  }
 },
 "nbformat": 4,
 "nbformat_minor": 5
}
