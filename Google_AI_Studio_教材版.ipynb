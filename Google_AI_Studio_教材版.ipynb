{
  "cells": [
    {
      "cell_type": "markdown",
      "metadata": {
        "id": "view-in-github",
        "colab_type": "text"
      },
      "source": [
        "<a href=\"https://colab.research.google.com/github/Yiting916/ML/blob/main/Google_AI_Studio_%E6%95%99%E6%9D%90%E7%89%88.ipynb\" target=\"_parent\"><img src=\"https://colab.research.google.com/assets/colab-badge.svg\" alt=\"Open In Colab\"/></a>"
      ]
    },
    {
      "cell_type": "markdown",
      "id": "10054535-e70f-415d-8818-4577f2d6589e",
      "metadata": {
        "id": "10054535-e70f-415d-8818-4577f2d6589e"
      },
      "source": [
        "# Google AI Studio\n",
        "* https://aistudio.google.com/\n",
        "* https://ai.google.dev/gemini-api/docs?hl=zh-tw\n",
        "* https://ai.google.dev/gemini-api/docs/get-started/tutorial?lang=python&hl=zh-tw"
      ]
    },
    {
      "cell_type": "code",
      "execution_count": 1,
      "id": "3360bfe0-a397-405b-975a-31dac2fedbcd",
      "metadata": {
        "id": "3360bfe0-a397-405b-975a-31dac2fedbcd"
      },
      "outputs": [],
      "source": [
        "! pip install -q -U google-generativeai"
      ]
    },
    {
      "cell_type": "code",
      "execution_count": 2,
      "id": "69f801ba-bbb6-4840-95ca-c83d44d4ef0e",
      "metadata": {
        "id": "69f801ba-bbb6-4840-95ca-c83d44d4ef0e"
      },
      "outputs": [],
      "source": [
        "API_KEY = \"xxxx\""
      ]
    },
    {
      "cell_type": "markdown",
      "id": "7ac1017d-7c97-4f31-b9fc-597bf2dec57c",
      "metadata": {
        "id": "7ac1017d-7c97-4f31-b9fc-597bf2dec57c"
      },
      "source": [
        "## Load Model"
      ]
    },
    {
      "cell_type": "code",
      "execution_count": 3,
      "id": "5cacc854-9774-4cae-a7da-b2ff871207a0",
      "metadata": {
        "id": "5cacc854-9774-4cae-a7da-b2ff871207a0"
      },
      "outputs": [],
      "source": [
        "import google.generativeai as genai\n",
        "\n",
        "model = genai.GenerativeModel('gemini-1.5-flash')\n",
        "genai.configure(api_key=API_KEY)"
      ]
    },
    {
      "cell_type": "markdown",
      "id": "1fd31d43-a13d-4dfb-8625-906294edee0e",
      "metadata": {
        "id": "1fd31d43-a13d-4dfb-8625-906294edee0e"
      },
      "source": [
        "## 產生文字"
      ]
    },
    {
      "cell_type": "code",
      "execution_count": 4,
      "id": "a19f9a87-09f0-4b3b-969d-5cb74a3d251c",
      "metadata": {
        "colab": {
          "base_uri": "https://localhost:8080/",
          "height": 297
        },
        "id": "a19f9a87-09f0-4b3b-969d-5cb74a3d251c",
        "outputId": "22c61bf6-4353-4b61-de57-fadb2dc9a394"
      },
      "outputs": [
        {
          "output_type": "stream",
          "name": "stdout",
          "text": [
            "機器學習 (Machine Learning, ML) 是人工智能 (AI) 的一個分支，它使計算機系統能夠在明確編程的情況下學習和改進。  更具體地說，它指的是使用演算法來解析數據、學習數據中的模式，並利用這些學習到的模式來做出預測或決策。\n",
            "\n",
            "關鍵在於**數據驅動的學習**，而不是基於明確的規則。  機器學習系統通過分析大量數據來識別潛在的模式和關係，並根據這些模式對新數據進行預測或分類。  這與傳統編程不同，傳統編程需要程序員明確地編寫每個規則來指導計算機的行為。\n",
            "\n",
            "可以將機器學習定義為：一個電腦程序從經驗 E 中學習關於某類任務 T 和性能度量 P 的表現，如果其在任務 T 中的性能，根據性能度量 P 衡量，隨著經驗 E 的增加而提高。  (Tom Mitchell, 1997)\n",
            "\n",
            "這個定義包含三個關鍵要素：\n",
            "\n",
            "* **任務 T (Task):**  系統需要執行的工作，例如分類圖片、預測股票價格或翻譯語言。\n",
            "* **性能度量 P (Performance):**  用於評估系統在任務 T 中表現的指標，例如準確率、精度或召回率。\n",
            "* **經驗 E (Experience):**  系統用於學習的數據，例如訓練數據集。\n",
            "\n",
            "\n",
            "總而言之，機器學習是讓計算機從數據中學習，並自動改進其性能的過程。  它是一種強大的工具，可用於解決各種問題，從圖像識別到自然語言處理，再到醫療診斷。\n",
            "\n"
          ]
        }
      ],
      "source": [
        "prompt = \"機器學習的定義\"\n",
        "response = model.generate_content(prompt)\n",
        "print(response.text)"
      ]
    },
    {
      "cell_type": "markdown",
      "id": "abcb0c38-81d2-471c-a855-10f404c9a193",
      "metadata": {
        "id": "abcb0c38-81d2-471c-a855-10f404c9a193"
      },
      "source": [
        "### 產生文字串流"
      ]
    },
    {
      "cell_type": "code",
      "execution_count": 5,
      "id": "1d34b9dd-2600-4338-b25f-3f58b0f6ed80",
      "metadata": {
        "colab": {
          "base_uri": "https://localhost:8080/",
          "height": 347
        },
        "id": "1d34b9dd-2600-4338-b25f-3f58b0f6ed80",
        "outputId": "7349f59a-1d7b-4000-d8c2-85b900724e08"
      },
      "outputs": [
        {
          "output_type": "stream",
          "name": "stdout",
          "text": [
            "機器\n",
            "________________________________________________________________________________\n",
            "學習是**人工智能**的一個分支，它使計算機系統能夠從數據\n",
            "________________________________________________________________________________\n",
            "中學習，而無需明確編程。  更具體地說\n",
            "________________________________________________________________________________\n",
            "，它涉及開發算法，使計算機系統能夠識別模式、做出預測並改進其性能，而無需人工干預。\n",
            "\n",
            "\n",
            "________________________________________________________________________________\n",
            "這與傳統編程形成對比，傳統編程需要程序員為每個可能的場景編寫明確的指令。機器學習則允許系統\n",
            "________________________________________________________________________________\n",
            "從數據中學習這些指令，並根據新數據進行調整。\n",
            "\n",
            "換句話說，機器學習系統通過分析數據來識別數據中的模式和規律，並利用這些模式和規律來做出預測或決\n",
            "________________________________________________________________________________\n",
            "策。  隨著數據量的增加和算法的優化，其準確性和效能也會不斷提高。\n",
            "\n",
            "________________________________________________________________________________\n"
          ]
        }
      ],
      "source": [
        "import os\n",
        "import google.generativeai as genai\n",
        "\n",
        "prompt = \"機器學習的定義\"\n",
        "\n",
        "response = model.generate_content(prompt, stream=True)\n",
        "\n",
        "for chunk in response:\n",
        "  print(chunk.text)\n",
        "  print(\"_\"*80)"
      ]
    },
    {
      "cell_type": "markdown",
      "id": "e036c6b7-0a6b-4efc-91a9-7965087e482d",
      "metadata": {
        "id": "e036c6b7-0a6b-4efc-91a9-7965087e482d"
      },
      "source": [
        "## 多模態"
      ]
    },
    {
      "cell_type": "code",
      "execution_count": 13,
      "id": "6e2756a1-6a7e-450d-962a-72df35515681",
      "metadata": {
        "colab": {
          "base_uri": "https://localhost:8080/",
          "height": 329
        },
        "id": "6e2756a1-6a7e-450d-962a-72df35515681",
        "outputId": "7f3db16d-1ee9-45e3-aabf-7ce7210141df"
      },
      "outputs": [
        {
          "output_type": "stream",
          "name": "stdout",
          "text": [
            "當然可以！以下列出圖片中水果的名稱與數量，由小到大排列：\n",
            "\n",
            "1. 奇異果：2 個\n",
            "2. 酪梨：2 個\n",
            "3. 蘋果：4 個\n",
            "4. 梨子：2 個\n",
            "5. 葡萄：1 串\n",
            "6. 西瓜（紅色）：1 個\n",
            "7. 西瓜（黃色）：1 個\n",
            "8. 柑橘：3 個\n",
            "9. 香瓜：1 個\n",
            "10. 木瓜：1 個\n",
            "11. 鳳梨：1 個\n",
            "12. 香蕉（綠色）：1 串（約 10 根）\n",
            "13. 香蕉（黃色）：1 串（約 12 根）\n",
            "\n",
            "\n",
            "請注意，水果的數量是估計值，因為有些水果被其他水果遮蔽，無法完全計算。\n"
          ]
        }
      ],
      "source": [
        "import pathlib\n",
        "import google.generativeai as genai\n",
        "import urllib.request\n",
        "\n",
        "# image1 = {\n",
        "#     'mime_type': 'image/jpeg',\n",
        "#     'data': pathlib.Path('image1.jpg').read_bytes()\n",
        "# }\n",
        "\n",
        "image1 = {\n",
        "    'mime_type': 'image/jpeg',\n",
        "    'data': urllib.request.urlopen(\"https://img.ltn.com.tw/Upload/health/page/800/2022/01/01/phprhI3u1.jpg\").read()\n",
        "}\n",
        "\n",
        "prompt = \"照片中有什麼？請依物體由小到大來列出名稱與數量\"\n",
        "\n",
        "response = model.generate_content([prompt, image1])\n",
        "print(response.text)"
      ]
    },
    {
      "cell_type": "code",
      "execution_count": null,
      "id": "ae5c8b9c-8b34-402a-90af-1e5bd30d281b",
      "metadata": {
        "id": "ae5c8b9c-8b34-402a-90af-1e5bd30d281b"
      },
      "outputs": [],
      "source": []
    },
    {
      "cell_type": "code",
      "execution_count": null,
      "id": "08b0a017-a483-4910-bbea-49a446e3ee9b",
      "metadata": {
        "id": "08b0a017-a483-4910-bbea-49a446e3ee9b"
      },
      "outputs": [],
      "source": []
    },
    {
      "cell_type": "code",
      "execution_count": null,
      "id": "539fe107-08d7-48b8-83af-ae34384791df",
      "metadata": {
        "id": "539fe107-08d7-48b8-83af-ae34384791df"
      },
      "outputs": [],
      "source": []
    },
    {
      "cell_type": "code",
      "execution_count": null,
      "id": "75ce2d13-6e2b-44d9-988a-1ae07edd1ec9",
      "metadata": {
        "id": "75ce2d13-6e2b-44d9-988a-1ae07edd1ec9"
      },
      "outputs": [],
      "source": []
    },
    {
      "cell_type": "code",
      "execution_count": null,
      "id": "e1b0faab-d22f-4ac8-9623-65e74054d240",
      "metadata": {
        "id": "e1b0faab-d22f-4ac8-9623-65e74054d240"
      },
      "outputs": [],
      "source": []
    }
  ],
  "metadata": {
    "kernelspec": {
      "display_name": "Python 3 (ipykernel)",
      "language": "python",
      "name": "python3"
    },
    "language_info": {
      "codemirror_mode": {
        "name": "ipython",
        "version": 3
      },
      "file_extension": ".py",
      "mimetype": "text/x-python",
      "name": "python",
      "nbconvert_exporter": "python",
      "pygments_lexer": "ipython3",
      "version": "3.12.3"
    },
    "colab": {
      "provenance": [],
      "include_colab_link": true
    }
  },
  "nbformat": 4,
  "nbformat_minor": 5
}