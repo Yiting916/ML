{
 "cells": [
  {
   "cell_type": "markdown",
   "id": "d189fab5-6b4d-43db-93c5-846eb2ef39ec",
   "metadata": {},
   "source": [
    "# Gradio\n",
    "\n",
    "Gradio 是一個開源 Python 庫，主要用於快速構建機器學習（ML）和深度學習（DL）模型的 Web 介面。它讓開發者能夠輕鬆地將模型部署為可交互的應用，無需撰寫複雜的前端代碼。Gradio 常用於演示 ML 模型、構建原型，或提供簡單的 API 介面給非技術用戶使用。\n",
    "\n",
    "## Gradio 的主要特點\n",
    "- **簡單易用**：只需幾行 Python 代碼即可創建 Web 介面。\n",
    "- **支持多種輸入/輸出格式**：包括文字、圖片、音頻、視訊等。\n",
    "- **即時反饋**：允許使用者與模型即時互動，測試輸入並獲得結果。\n",
    "- **共享功能**：Gradio 會自動生成一個可共享的鏈接，方便他人訪問。\n",
    "- **與各種 ML 框架兼容**：支援 TensorFlow、PyTorch、scikit-learn、Hugging Face Transformers 等。\n"
   ]
  },
  {
   "cell_type": "code",
   "execution_count": null,
   "id": "fb229791-b7b6-4eb8-a57d-ab82378b18b8",
   "metadata": {},
   "outputs": [],
   "source": [
    "# ! pip install --upgrade gradio"
   ]
  },
  {
   "cell_type": "markdown",
   "id": "377eff9a-d9d4-4d4d-81d9-31d71a025ee5",
   "metadata": {},
   "source": [
    "# Gradio 的基本使用示例"
   ]
  },
  {
   "cell_type": "code",
   "execution_count": null,
   "id": "9534cfe3-1b3b-4d22-b892-1f5cd7b55b89",
   "metadata": {},
   "outputs": [],
   "source": [
    "## Gradio 的基本使用示例\n",
    "import gradio as gr\n",
    "\n",
    "def greet(name): # 這裡的參數名稱會直接預設為輸出框的Label\n",
    "    return f\"Hello, {name}!\"\n",
    "\n",
    "# 建立 Gradio 介面\n",
    "demo = gr.Interface(fn=greet, inputs=\"text\", outputs=\"text\")\n",
    "\n",
    "# 啟動 Web 應用\n",
    "demo.launch()"
   ]
  },
  {
   "cell_type": "markdown",
   "id": "d09a5fef-c2c5-4b1b-9a30-95d1f8ab95ad",
   "metadata": {},
   "source": [
    "### 透過物件的方式來指定細部參數"
   ]
  },
  {
   "cell_type": "code",
   "execution_count": null,
   "id": "f507ed79-f22c-4e1a-b6ff-41254bd9d9a8",
   "metadata": {},
   "outputs": [],
   "source": [
    "## Gradio 的基本使用示例\n",
    "import gradio as gr\n",
    "\n",
    "def greet(name): # 這裡的參數名稱會直接預設為輸出框的Label\n",
    "    return f\"Hello, {name}!\"\n",
    "\n",
    "# 建立 Gradio 介面\n",
    "demo = gr.Interface(fn=greet, \n",
    "    inputs=gr.Textbox(label=\"姓名\", value=\"Clement\"), \n",
    "    outputs=gr.Textbox(label=\"打招呼\", value=\"\"),\n",
    "    title=\"打個招呼\",\n",
    "    description=\"這是一個會跟你打招呼的示範\")\n",
    "\n",
    "# 啟動 Web 應用\n",
    "demo.launch()"
   ]
  },
  {
   "cell_type": "markdown",
   "id": "7573cd32-75d2-48d2-8217-b3b55f7ea026",
   "metadata": {},
   "source": [
    "# 更多其他元件示範"
   ]
  },
  {
   "cell_type": "markdown",
   "id": "fad9fc9d-ddec-4c3a-9af1-eeb3e5f17d93",
   "metadata": {},
   "source": [
    "## CheckBox"
   ]
  },
  {
   "cell_type": "code",
   "execution_count": null,
   "id": "7d032128-7f32-48ff-a596-1b3278724b60",
   "metadata": {},
   "outputs": [],
   "source": [
    "import gradio as gr\n",
    "\n",
    "def greet(name, is_polite):  \n",
    "    if is_polite:\n",
    "        return f\"Hello, {name}! Hope you have a great day! 😊\"\n",
    "    else:\n",
    "        return f\"Hey {name}!\"\n",
    "\n",
    "# 建立 Gradio 介面\n",
    "demo = gr.Interface(\n",
    "    fn=greet, \n",
    "    inputs=[\n",
    "        gr.Textbox(label=\"姓名\", value=\"Clement\"), \n",
    "        gr.Checkbox(label=\"使用禮貌問候\", value=True)  # 新增 Checkbox\n",
    "    ], \n",
    "    outputs=gr.Textbox(label=\"打招呼\"),\n",
    "    title=\"打個招呼\",\n",
    "    description=\"這是一個會跟你打招呼的示範\"\n",
    ")\n",
    "\n",
    "# 啟動 Web 應用\n",
    "demo.launch()\n"
   ]
  },
  {
   "cell_type": "markdown",
   "id": "8612b330-5e6b-4ed2-83ad-91ba34df6aaa",
   "metadata": {},
   "source": [
    "## RadioBox"
   ]
  },
  {
   "cell_type": "code",
   "execution_count": null,
   "id": "a7237b3d-1819-4e31-afc5-b26f0eb3ce82",
   "metadata": {},
   "outputs": [],
   "source": [
    "import gradio as gr\n",
    "\n",
    "def greet(name, language):\n",
    "    if language == \"English\":\n",
    "        return f\"Hello, {name}!\"\n",
    "    elif language == \"中文\":\n",
    "        return f\"你好，{name}！\"\n",
    "    else:\n",
    "        return f\"Hello, {name}!\"  # 預設為英文\n",
    "\n",
    "# 建立 Gradio 介面\n",
    "demo = gr.Interface(\n",
    "    fn=greet,\n",
    "    inputs=[\n",
    "        gr.Textbox(label=\"姓名\", value=\"Clement\"),\n",
    "        gr.Radio([\"English\", \"中文\"], label=\"選擇語言\", value=\"English\")\n",
    "    ],\n",
    "    outputs=gr.Textbox(label=\"打招呼\", value=\"\"),\n",
    "    title=\"打個招呼\",\n",
    "    description=\"選擇你的語言，然後輸入你的名字！\"\n",
    ")\n",
    "\n",
    "# 啟動 Web 應用\n",
    "demo.launch()\n"
   ]
  },
  {
   "cell_type": "markdown",
   "id": "9931294d-ea17-4a0c-8693-2b4c677ecda5",
   "metadata": {},
   "source": [
    "## List"
   ]
  },
  {
   "cell_type": "code",
   "execution_count": null,
   "id": "673c2840-b90e-4bab-80d4-c38af475075e",
   "metadata": {},
   "outputs": [],
   "source": [
    "import gradio as gr\n",
    "\n",
    "def greet(name):\n",
    "    return f\"Hello, {name}!\"\n",
    "\n",
    "# 建立 Gradio 介面\n",
    "demo = gr.Interface(\n",
    "    fn=greet, \n",
    "    inputs=gr.Dropdown(\n",
    "        choices=[\"Alice\", \"Bob\", \"Charlie\"],  # 選項列表\n",
    "        label=\"選擇姓名\"\n",
    "    ), \n",
    "    outputs=gr.Textbox(label=\"打招呼\"),\n",
    "    title=\"打個招呼\",\n",
    "    description=\"這是一個會跟你打招呼的示範\"\n",
    ")\n",
    "\n",
    "# 啟動 Web 應用\n",
    "demo.launch()\n"
   ]
  },
  {
   "cell_type": "markdown",
   "id": "0346934a-ae4c-4781-96f3-aa788631880e",
   "metadata": {},
   "source": [
    "## CheckboxGroup "
   ]
  },
  {
   "cell_type": "code",
   "execution_count": null,
   "id": "86501853-0edf-48b4-a22e-ea19d6b888c3",
   "metadata": {},
   "outputs": [],
   "source": [
    "import gradio as gr\n",
    "\n",
    "def greet(names):\n",
    "    return \"\\n\".join([f\"Hello, {name}!\" for name in names])\n",
    "\n",
    "# 建立 Gradio 介面\n",
    "demo = gr.Interface(\n",
    "    fn=greet, \n",
    "    inputs=gr.CheckboxGroup(\n",
    "        choices=[\"Alice\", \"Bob\", \"Charlie\"], \n",
    "        label=\"選擇姓名\"\n",
    "    ), \n",
    "    outputs=gr.Textbox(label=\"打招呼\"),\n",
    "    title=\"打個招呼\",\n",
    "    description=\"這是一個會跟你打招呼的示範\"\n",
    ")\n",
    "\n",
    "# 啟動 Web 應用\n",
    "demo.launch()\n"
   ]
  },
  {
   "cell_type": "markdown",
   "id": "58062170-9700-4b7a-b048-7101de015167",
   "metadata": {},
   "source": [
    "## 圖片"
   ]
  },
  {
   "cell_type": "code",
   "execution_count": null,
   "id": "458a04e0-98d7-467b-98de-74bbc48cc1ba",
   "metadata": {},
   "outputs": [],
   "source": [
    "import numpy as np\n",
    "import gradio as gr\n",
    "\n",
    "def sepia(input_img):\n",
    "    sepia_filter = np.array([\n",
    "        [0.393, 0.769, 0.189],\n",
    "        [0.349, 0.686, 0.168],\n",
    "        [0.272, 0.534, 0.131]\n",
    "    ])\n",
    "    sepia_img = input_img.dot(sepia_filter.T)\n",
    "    sepia_img /= sepia_img.max()\n",
    "    return sepia_img\n",
    "\n",
    "demo = gr.Interface(sepia, gr.Image(), \"image\")\n",
    "demo.launch()\n"
   ]
  },
  {
   "cell_type": "markdown",
   "id": "9bf43e68-c95f-455d-9795-8c029f0ccc1f",
   "metadata": {},
   "source": [
    "# 更多的組件\n",
    "* https://www.gradio.app/playground\n",
    "* https://www.gradio.app/custom-components/gallery\n",
    "* https://www.gradio.app/docs"
   ]
  },
  {
   "cell_type": "markdown",
   "id": "e8b44317-95cf-40ec-9ce4-74b1543d5a8c",
   "metadata": {},
   "source": [
    "# 📌 Gradio 组件列表\n",
    "\n",
    "Gradio 提供多种 **组件（Components）**，用于创建交互式 Web 界面，主要分为 **输入组件（Input Components）**、**输出组件（Output Components）** 和 **布局组件（Layout Components）**。\n",
    "\n",
    "---\n",
    "\n",
    "## 📥 输入组件（Input Components）\n",
    "用户可以输入文本、图片、音频等数据。\n",
    "\n",
    "### 1️⃣ 文本输入\n",
    "- `gr.Textbox`：文本框（单行/多行）\n",
    "- `gr.TextArea`：大段文本输入（等效于 `gr.Textbox(lines=n)`）\n",
    "- `gr.Number`：数字输入框（支持整数/浮点数）\n",
    "- `gr.Slider`：滑动条输入\n",
    "- `gr.Radio`：单选框\n",
    "- `gr.Checkbox`：复选框\n",
    "- `gr.CheckboxGroup`：复选框组\n",
    "- `gr.Dropdown`：下拉菜单\n",
    "- `gr.Button`：按钮（用于触发事件）\n",
    "\n",
    "### 2️⃣ 图片、视频、音频\n",
    "- `gr.Image`：上传图片（可调整大小、编辑）\n",
    "- `gr.Video`：上传视频\n",
    "- `gr.Audio`：上传音频\n",
    "- `gr.File`：上传任意文件\n",
    "\n",
    "### 3️⃣ 其他输入\n",
    "- `gr.ColorPicker`：颜色选择器\n",
    "- `gr.Dataframe`：表格输入\n",
    "- `gr.Code`：代码编辑器\n",
    "\n",
    "---\n",
    "\n",
    "## 📤 输出组件（Output Components）\n",
    "用于展示模型推理结果，如文本、图像、音频等。\n",
    "\n",
    "### 1️⃣ 文本\n",
    "- `gr.Textbox`：显示文本\n",
    "- `gr.Label`：显示分类标签\n",
    "- `gr.HighlightedText`：带高亮的文本\n",
    "\n",
    "### 2️⃣ 图片、视频、音频\n",
    "- `gr.Image`：展示图片\n",
    "- `gr.Video`：播放视频\n",
    "- `gr.Audio`：播放音频\n",
    "- `gr.File`：提供文件下载\n",
    "\n",
    "### 3️⃣ 其他输出\n",
    "- `gr.JSON`：以 JSON 格式显示数据\n",
    "- `gr.Dataframe`：展示表格数据\n",
    "- `gr.Plot`：显示 Matplotlib、Plotly、Altair 等图表\n",
    "- `gr.Gallery`：图片展示画廊（多个图片）\n",
    "\n",
    "---\n",
    "\n",
    "## 📌 布局组件（Layout Components）\n",
    "用于组织界面结构，如容器、列、行等。\n",
    "\n",
    "- `gr.Row`：水平排列组件\n",
    "- `gr.Column`：垂直排列组件\n",
    "- `gr.Tab`：标签页\n",
    "- `gr.TabItem`：单个标签页内容\n",
    "- `gr.Accordion`：可折叠面板\n",
    "- `gr.Blocks`：自定义界面容器\n",
    "- `gr.Group`：将组件分组\n",
    "- `gr.Box`：带边框的组件容器\n"
   ]
  },
  {
   "cell_type": "code",
   "execution_count": null,
   "id": "04688ce4-a3c2-4267-a84e-18fa8a82ca0e",
   "metadata": {},
   "outputs": [],
   "source": []
  },
  {
   "cell_type": "markdown",
   "id": "7ecfa1ed-7569-4239-bbb0-1fb2192c7dde",
   "metadata": {},
   "source": [
    "# 作業\n",
    "使用Gradio建立一個計算BMI的程式\n",
    "\n",
    "* 完成後請寄到EMAIL : clement.class.02@gmail.com\n",
    "* 信件主旨請設定為： Gradio_作業_學號_姓名  (例: \"Gradio_作業_00_陳仁政\")\n",
    "* 附件檔名請設定為： Gradio_作業_學號_姓名.ipynb (例: \"Gradio_作業_00_陳仁政.ipynb\")"
   ]
  },
  {
   "cell_type": "code",
   "execution_count": null,
   "id": "473323a7-a99d-4994-a864-d134825eee88",
   "metadata": {},
   "outputs": [],
   "source": []
  },
  {
   "cell_type": "code",
   "execution_count": null,
   "id": "55e1c546-a8e8-4811-8a7e-b20bbe634d46",
   "metadata": {},
   "outputs": [],
   "source": []
  },
  {
   "cell_type": "code",
   "execution_count": null,
   "id": "9291d468-a10a-4c1f-b197-c38ac7c06c3b",
   "metadata": {},
   "outputs": [],
   "source": []
  },
  {
   "cell_type": "code",
   "execution_count": null,
   "id": "7376f888-9246-41b7-8bd8-2e0024097507",
   "metadata": {},
   "outputs": [],
   "source": []
  }
 ],
 "metadata": {
  "kernelspec": {
   "display_name": "Python 3 (ipykernel)",
   "language": "python",
   "name": "python3"
  },
  "language_info": {
   "codemirror_mode": {
    "name": "ipython",
    "version": 3
   },
   "file_extension": ".py",
   "mimetype": "text/x-python",
   "name": "python",
   "nbconvert_exporter": "python",
   "pygments_lexer": "ipython3",
   "version": "3.12.3"
  }
 },
 "nbformat": 4,
 "nbformat_minor": 5
}
