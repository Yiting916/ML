{
 "cells": [
  {
   "cell_type": "markdown",
   "id": "10054535-e70f-415d-8818-4577f2d6589e",
   "metadata": {},
   "source": [
    "# Google AI Studio\n",
    "* https://aistudio.google.com/\n",
    "* https://ai.google.dev/gemini-api/docs?hl=zh-tw\n",
    "* https://ai.google.dev/gemini-api/docs/get-started/tutorial?lang=python&hl=zh-tw"
   ]
  },
  {
   "cell_type": "code",
   "execution_count": 2,
   "id": "3360bfe0-a397-405b-975a-31dac2fedbcd",
   "metadata": {},
   "outputs": [],
   "source": [
    "# ! pip install -q -U google-generativeai"
   ]
  },
  {
   "cell_type": "code",
   "execution_count": 5,
   "id": "69f801ba-bbb6-4840-95ca-c83d44d4ef0e",
   "metadata": {},
   "outputs": [],
   "source": [
    "API_KEY = \"XXXXXX\""
   ]
  },
  {
   "cell_type": "markdown",
   "id": "7ac1017d-7c97-4f31-b9fc-597bf2dec57c",
   "metadata": {},
   "source": [
    "## Load Model"
   ]
  },
  {
   "cell_type": "code",
   "execution_count": 2,
   "id": "5cacc854-9774-4cae-a7da-b2ff871207a0",
   "metadata": {},
   "outputs": [],
   "source": [
    "import google.generativeai as genai\n",
    "\n",
    "model = genai.GenerativeModel('gemini-1.5-flash')\n",
    "genai.configure(api_key=API_KEY)"
   ]
  },
  {
   "cell_type": "markdown",
   "id": "1fd31d43-a13d-4dfb-8625-906294edee0e",
   "metadata": {},
   "source": [
    "## 產生文字"
   ]
  },
  {
   "cell_type": "code",
   "execution_count": 3,
   "id": "a19f9a87-09f0-4b3b-969d-5cb74a3d251c",
   "metadata": {},
   "outputs": [
    {
     "name": "stdout",
     "output_type": "stream",
     "text": [
      "機器學習是電腦科學的一個分支，讓電腦能夠從經驗中學習，而無需明確地被編程。\n",
      "\n",
      "更精確地說，機器學習是一種讓電腦系統能夠從數據中自動學習並提高其表現的能力，而不需明確地編寫所有必要的指令。\n",
      "\n",
      "以下是一些關於機器學習的關鍵觀點：\n",
      "\n",
      "* **從數據中學習：** 機器學習系統是通過數據訓練的，這意味着它們從大量數據中提取模式和洞察力。\n",
      "* **自動學習：** 與傳統編程不同，機器學習系統可以根據數據自行調整其行為，而無需人類開發者手動編寫所有規則。\n",
      "* **提高表現：** 訓練過程旨在讓系統在特定的任務中表現越來越好，例如預測、分類或決策。\n",
      "\n",
      "機器學習的應用廣泛，包括：\n",
      "\n",
      "* **圖像識別：** 自動標記照片，識別物體和人臉。\n",
      "* **語音識別：** 將語音轉換成文字，例如語音助手。\n",
      "* **自然語言處理：** 理解和生成人類語言，例如機器翻譯和聊天機器人。\n",
      "* **推薦系統：** 推薦產品或內容，例如電子商務網站上的商品推薦。\n",
      "* **金融預測：** 預測股票價格、風險評估。\n",
      "* **醫療診斷：** 輔助醫生進行疾病診斷。\n",
      "\n",
      "機器學習的類型包括：\n",
      "\n",
      "* **監督學習：** 使用帶有標籤的數據訓練模型，例如分類和迴歸。\n",
      "* **無監督學習：** 使用未標記的數據訓練模型，例如聚類和降維。\n",
      "* **強化學習：** 訓練模型通過與環境交互來學習，例如自動駕駛汽車。\n",
      "\n",
      "機器學習是一個快速發展的領域，其潛力巨大。隨著數據量和計算能力的增長，機器學習將在更多領域發揮重要作用，並改變我們的生活方式。\n",
      "\n"
     ]
    }
   ],
   "source": [
    "prompt = \"機器學習的定義\"\n",
    "response = model.generate_content(prompt)\n",
    "print(response.text)"
   ]
  },
  {
   "cell_type": "markdown",
   "id": "abcb0c38-81d2-471c-a855-10f404c9a193",
   "metadata": {},
   "source": [
    "### 產生文字串流"
   ]
  },
  {
   "cell_type": "code",
   "execution_count": 17,
   "id": "1d34b9dd-2600-4338-b25f-3f58b0f6ed80",
   "metadata": {},
   "outputs": [
    {
     "name": "stdout",
     "output_type": "stream",
     "text": [
      "機器\n",
      "________________________________________________________________________________\n",
      "學習的定義有很多种，但核心思想是：\n",
      "\n",
      "**机器学习是\n",
      "________________________________________________________________________________\n",
      "计算机科学的一个分支，它允许计算机系统从数据中学习，而无需\n",
      "________________________________________________________________________________\n",
      "显式编程。**\n",
      "\n",
      "更具体地说，机器学习算法可以：\n",
      "\n",
      "* **识别模式和趋势:** 从大量数据中找出隐藏的规律和\n",
      "________________________________________________________________________________\n",
      "关系，帮助预测未来结果。\n",
      "* **做出预测:** 基于学习到的模式，预测未来事件的发生概率。\n",
      "* **进行分类:**\n",
      "________________________________________________________________________________\n",
      " 将数据分类到不同的类别中。\n",
      "* **自动优化:** 自动调整算法参数，以提高模型的性能。\n",
      "\n",
      "**核心概念：**\n",
      "\n",
      "* **数据:** 机器学习模型的核心，提供信息以进行学习。\n",
      "\n",
      "________________________________________________________________________________\n",
      "* **算法:** 处理数据的数学公式，提取信息和构建模型。\n",
      "* **模型:** 通过算法训练得到的结果，用于预测或分类。\n",
      "* **训练:** 用已知数据训练模型，使其能够学习模式。\n",
      "________________________________________________________________________________\n",
      "\n",
      "* **预测:** 用训练好的模型，对新数据进行预测或分类。\n",
      "\n",
      "**机器学习的应用非常广泛，包括：**\n",
      "\n",
      "* **图像识别:** 识别照片中的物体、人脸等。\n",
      "* **语音识别:** 识别语音指令、转化语音为文字。\n",
      "*\n",
      "________________________________________________________________________________\n",
      " **自然语言处理:** 理解和生成人类语言。\n",
      "* **推荐系统:** 为用户推荐商品、电影等。\n",
      "* **医疗诊断:** 辅助医生进行诊断和治疗。\n",
      "* **自动驾驶:** 自动驾驶汽车的技术基础。\n",
      "\n",
      "总之，机器学习是一个强大的工具，可以帮助我们\n",
      "________________________________________________________________________________\n",
      "从数据中提取有价值的信息，并做出更准确、更智能的决策。\n",
      "\n",
      "________________________________________________________________________________\n"
     ]
    }
   ],
   "source": [
    "import os\n",
    "import google.generativeai as genai\n",
    "\n",
    "prompt = \"機器學習的定義\"\n",
    "\n",
    "response = model.generate_content(prompt, stream=True)\n",
    "\n",
    "for chunk in response:\n",
    "  print(chunk.text)\n",
    "  print(\"_\"*80)"
   ]
  },
  {
   "cell_type": "markdown",
   "id": "e036c6b7-0a6b-4efc-91a9-7965087e482d",
   "metadata": {},
   "source": [
    "## 多模態"
   ]
  },
  {
   "cell_type": "code",
   "execution_count": 16,
   "id": "6e2756a1-6a7e-450d-962a-72df35515681",
   "metadata": {},
   "outputs": [
    {
     "name": "stdout",
     "output_type": "stream",
     "text": [
      "這張照片裡有各種各樣的水果。有西瓜、香蕉、木瓜、鳳梨、蘋果、橘子、葡萄、奇異果、梨子和哈密瓜。\n"
     ]
    }
   ],
   "source": [
    "import pathlib\n",
    "import google.generativeai as genai\n",
    "import urllib.request\n",
    "\n",
    "# image1 = {\n",
    "#     'mime_type': 'image/jpeg',\n",
    "#     'data': pathlib.Path('image1.jpg').read_bytes()\n",
    "# }\n",
    "\n",
    "image1 = {\n",
    "    'mime_type': 'image/jpeg',\n",
    "    'data': urllib.request.urlopen(\"https://img.ltn.com.tw/Upload/health/page/800/2022/01/01/phprhI3u1.jpg\").read()\n",
    "}\n",
    "\n",
    "prompt = \"照片中有什麼？\"\n",
    "\n",
    "response = model.generate_content([prompt, image1])\n",
    "print(response.text)"
   ]
  },
  {
   "cell_type": "code",
   "execution_count": null,
   "id": "ae5c8b9c-8b34-402a-90af-1e5bd30d281b",
   "metadata": {},
   "outputs": [],
   "source": []
  },
  {
   "cell_type": "code",
   "execution_count": null,
   "id": "08b0a017-a483-4910-bbea-49a446e3ee9b",
   "metadata": {},
   "outputs": [],
   "source": []
  },
  {
   "cell_type": "code",
   "execution_count": null,
   "id": "539fe107-08d7-48b8-83af-ae34384791df",
   "metadata": {},
   "outputs": [],
   "source": []
  },
  {
   "cell_type": "code",
   "execution_count": null,
   "id": "75ce2d13-6e2b-44d9-988a-1ae07edd1ec9",
   "metadata": {},
   "outputs": [],
   "source": []
  },
  {
   "cell_type": "code",
   "execution_count": null,
   "id": "e1b0faab-d22f-4ac8-9623-65e74054d240",
   "metadata": {},
   "outputs": [],
   "source": []
  }
 ],
 "metadata": {
  "kernelspec": {
   "display_name": "Python 3 (ipykernel)",
   "language": "python",
   "name": "python3"
  },
  "language_info": {
   "codemirror_mode": {
    "name": "ipython",
    "version": 3
   },
   "file_extension": ".py",
   "mimetype": "text/x-python",
   "name": "python",
   "nbconvert_exporter": "python",
   "pygments_lexer": "ipython3",
   "version": "3.12.3"
  }
 },
 "nbformat": 4,
 "nbformat_minor": 5
}
