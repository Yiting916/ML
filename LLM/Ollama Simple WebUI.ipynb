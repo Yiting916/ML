{
 "cells": [
  {
   "cell_type": "code",
   "execution_count": 2,
   "id": "86ea86fc-66f0-464d-b22a-199a29c9af0d",
   "metadata": {},
   "outputs": [
    {
     "name": "stdout",
     "output_type": "stream",
     "text": [
      "* Running on local URL:  http://127.0.0.1:7863\n",
      "\n",
      "To create a public link, set `share=True` in `launch()`.\n"
     ]
    },
    {
     "data": {
      "text/html": [
       "<div><iframe src=\"http://127.0.0.1:7863/\" width=\"100%\" height=\"500\" allow=\"autoplay; camera; microphone; clipboard-read; clipboard-write;\" frameborder=\"0\" allowfullscreen></iframe></div>"
      ],
      "text/plain": [
       "<IPython.core.display.HTML object>"
      ]
     },
     "metadata": {},
     "output_type": "display_data"
    }
   ],
   "source": [
    "import gradio as gr\n",
    "from ollama import chat\n",
    "\n",
    "rec = [{'role': 'system','content':\"你是一個幼稚園老師\"}]\n",
    "\n",
    "def chat_function(message, history):\n",
    "    rec.append({'role': 'user','content':message})\n",
    "    response = chat('llama3.2', messages=rec)\n",
    "    t = response['message']['content']\n",
    "    rec.append({'role': 'assistant','content':t})\n",
    "    return t\n",
    "\n",
    "demo = gr.ChatInterface(chat_function, type=\"messages\", autofocus=False)\n",
    "\n",
    "if __name__ == \"__main__\":\n",
    "    demo.launch()\n"
   ]
  },
  {
   "cell_type": "code",
   "execution_count": null,
   "id": "e1dd3341-c337-42a1-ace5-be10ac5e38ed",
   "metadata": {},
   "outputs": [],
   "source": []
  },
  {
   "cell_type": "code",
   "execution_count": null,
   "id": "f9148188-04fd-47d4-8ee7-3c5a6ecbea2c",
   "metadata": {},
   "outputs": [],
   "source": []
  }
 ],
 "metadata": {
  "kernelspec": {
   "display_name": "Python 3 (ipykernel)",
   "language": "python",
   "name": "python3"
  },
  "language_info": {
   "codemirror_mode": {
    "name": "ipython",
    "version": 3
   },
   "file_extension": ".py",
   "mimetype": "text/x-python",
   "name": "python",
   "nbconvert_exporter": "python",
   "pygments_lexer": "ipython3",
   "version": "3.12.3"
  }
 },
 "nbformat": 4,
 "nbformat_minor": 5
}
