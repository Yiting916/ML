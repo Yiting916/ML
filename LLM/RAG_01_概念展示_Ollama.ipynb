{
 "cells": [
  {
   "cell_type": "code",
   "execution_count": 2,
   "id": "d643a72f-97ba-475b-bfaf-9dea24ed7712",
   "metadata": {},
   "outputs": [],
   "source": [
    "cv = \"\"\"陳仁政，出生於1972年\n",
    "\n",
    "經歷：\n",
    "中原大學電子所博士\n",
    "中央研究院資訊科學所博士後研究員\n",
    "吉鴻電子資深工程師\n",
    "冠捷科技正工程師\n",
    "104人力銀行人資學院資料科學家\n",
    "長庚大學工商管理系兼任實務教師\n",
    "\n",
    "現職：\n",
    "104人力銀行人資學院顧問\n",
    "台灣人工智能產業協會講師\n",
    "實踐大學推廣中心講師\n",
    "緯育講師\n",
    "\n",
    "專案經驗：\n",
    "收鈔機韌體(偽鈔偵測)\n",
    "電視韌體\n",
    "交通執法系統\n",
    "高承載管制違規偵測系統\n",
    "手持式雷射測距儀\n",
    "區間測速系統\n",
    "違停偵測系統\n",
    "活動地磅系統\n",
    "測速照相系統\n",
    "人才適任與久任度評估系統\n",
    "\n",
    "專長：\n",
    "機器學習、影像識別、數位電路與嵌入式系統、程式設計\n",
    "\n",
    "Class 課程資訊\n",
    "實踐大學推廣部 人工智慧與大數據應用全修班 2020/08\n",
    "華岡興業基金會 AI人力資源大數據分析課程 2021/07\n",
    "實踐大學推廣部 Python與資料處理實戰訓練班 2021/11\n",
    "金融研訓院 AI與大數據在HR專業實務的應用workshop 2022/04\n",
    "AutoML AI人工智慧科技數據分析人才培育暨認證師資培訓教師研習會 2022/07 (東海大學、元智大學、世新大學、真理大學、長庚大學)\n",
    "長庚大學工商系碩士班 商業資料科學實務與應用 2022\n",
    "中華郵政AI Workshop 2022/11\n",
    "長庚醫院 AutoML Workshop 2023-04\n",
    "南亞科技 ChatGPT技術原理及應用 2023-07\n",
    "長庚醫院 AI計畫撰寫工作坊 2023-07\n",
    "人工智慧產業協會 AI人力資源大數據分析課程 2023/07\n",
    "\"\"\"\n",
    "\n",
    "question = \"陳仁政教過那些課程？\""
   ]
  },
  {
   "cell_type": "code",
   "execution_count": 3,
   "id": "ce3ad811-7e61-4223-99bc-2d1fea3ac1ff",
   "metadata": {},
   "outputs": [
    {
     "name": "stdout",
     "output_type": "stream",
     "text": [
      "我不知道你是在指誰，但根據我的資訊，陳仁政是一位香港教育家和前任教育局長。他曾在多個學校任職，並出席許多教育政策會議。\n",
      "\n",
      "如果你是提到某一特定的課程或教育政策，我可能不能提供太多信息，因為我缺乏更多的背景知識。然而，如果你需要更進一步的資訊，可能可以試問您對陳仁政或相關課程的更多細節。"
     ]
    }
   ],
   "source": [
    "from ollama import generate\n",
    "\n",
    "for part in generate('llama3.2', question, stream=True):\n",
    "  print(part['response'], end='', flush=True)"
   ]
  },
  {
   "cell_type": "code",
   "execution_count": 4,
   "id": "45b529d5-1c58-4e9a-ae73-78cdbe8fe54b",
   "metadata": {},
   "outputs": [
    {
     "name": "stdout",
     "output_type": "stream",
     "text": [
      "根據提供的資訊，陳仁政曾教過以下課程：\n",
      "\n",
      "1. 實踐大學推廣部 人工智慧與大數據應用全修班 (2020/08)\n",
      "2. 華岡興業基金會 AI人力資源大數據分析課程 (2021/07)\n",
      "3. Realization University Department Python With Data Processing Practical Training Class (2021/11)\n",
      "4. 金融研訓院 AI與大數據在HR專業實務的應用workshop (2022/04)\n",
      "5. AutoML AI人工智慧科技數據分析人才培育暨認證師資培訓教師研習會 (2022/07) - 這個課程是由多所院校共同主辦\n",
      "6. 長庚大學工商系碩士班 商業資料科學實務與應用 (2022)\n",
      "7. 中華郵政AI Workshop (2022/11)\n",
      "8. 長庚醫院 AutoML Workshop (2023-04)\n",
      "9. 南亞科技 ChatGPT技術原理及應用 (2023-07)\n",
      "10. 長庚醫院 AI計畫撰寫工作坊 (2023-07)\n",
      "11. 人工智慧產業協會 AI人力資源大數據分析課程 (202/07)"
     ]
    }
   ],
   "source": [
    "from ollama import generate\n",
    "\n",
    "prompt = cv + \"\\n\" + question\n",
    "for part in generate('llama3.2', prompt, stream=True):\n",
    "  print(part['response'], end='', flush=True)"
   ]
  },
  {
   "cell_type": "code",
   "execution_count": 6,
   "id": "45653766-f2e9-49e4-85b0-ef878ad0425c",
   "metadata": {},
   "outputs": [
    {
     "name": "stdout",
     "output_type": "stream",
     "text": [
      "根據提供的資訊，陳仁政教過以下課程：\n",
      "\n",
      "1.實踐大學推廣部 人工智慧與大數據應用全修班 2020/08\n",
      "2.華岡興業基金會 AI人力資源大數據分析課程 2021/07\n",
      "3.實踐大學推廣部 Python與資料處理實戰訓練班 2021/11\n",
      "4.金融研訓院 AI與大數據在HR專業實務的應用workshop 2022/04\n",
      "5. AutoML AI人工智慧科技數據分析人才培育暨認證師資培訓教師研習會 2022/07 (東海大學、元智大學、世新大學、真理大學、長庚大學)\n",
      "6. 長庚大學工商系碩士班 商業資料科學實務與應用 2022\n",
      "7. 中華郵政AI Workshop 2022/11\n",
      "8. 長庚醫院 AutoML Workshop 2023-04\n",
      "9. 南亞科技 ChatGPT技術原理及應用 2023-07\n",
      "10. 長庚醫院 AI計畫撰寫工作坊 2023-07\n",
      "11. 人工智慧產業協會 AI人力資源大數據分析課程 2023/07\n"
     ]
    }
   ],
   "source": [
    "from ollama import chat\n",
    "\n",
    "prompt = cv + \"\\n\" + question\n",
    "messages = [\n",
    "        {\"role\": \"system\", \"content\": \"You are a helpful developer assistant, answer all the questions correctly and concisely.\"},\n",
    "        {\"role\": \"user\",\"content\": prompt}\n",
    "]\n",
    "\n",
    "response = chat('llama3.2', messages=messages)\n",
    "print(response['message']['content'])"
   ]
  },
  {
   "cell_type": "code",
   "execution_count": null,
   "id": "9520a6c5-e47c-4d48-ad5a-d44a16b577be",
   "metadata": {},
   "outputs": [],
   "source": []
  },
  {
   "cell_type": "code",
   "execution_count": null,
   "id": "4af6a610-ec7e-4b3e-8fc2-0d7a619326f3",
   "metadata": {},
   "outputs": [],
   "source": []
  },
  {
   "cell_type": "code",
   "execution_count": null,
   "id": "104f9314-d075-47c2-9709-adddcc17b706",
   "metadata": {},
   "outputs": [],
   "source": []
  },
  {
   "cell_type": "code",
   "execution_count": null,
   "id": "d95320c8-661a-4fbd-b45a-613b9fe7a42c",
   "metadata": {},
   "outputs": [],
   "source": []
  }
 ],
 "metadata": {
  "kernelspec": {
   "display_name": "Python 3 (ipykernel)",
   "language": "python",
   "name": "python3"
  },
  "language_info": {
   "codemirror_mode": {
    "name": "ipython",
    "version": 3
   },
   "file_extension": ".py",
   "mimetype": "text/x-python",
   "name": "python",
   "nbconvert_exporter": "python",
   "pygments_lexer": "ipython3",
   "version": "3.12.3"
  }
 },
 "nbformat": 4,
 "nbformat_minor": 5
}
